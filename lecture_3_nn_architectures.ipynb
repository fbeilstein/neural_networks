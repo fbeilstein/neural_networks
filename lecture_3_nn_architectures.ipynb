{
  "nbformat": 4,
  "nbformat_minor": 0,
  "metadata": {
    "colab": {
      "provenance": [],
      "authorship_tag": "ABX9TyOvQ5FDruA63qDxzVwe9fUw",
      "include_colab_link": true
    },
    "kernelspec": {
      "name": "python3",
      "display_name": "Python 3"
    },
    "language_info": {
      "name": "python"
    }
  },
  "cells": [
    {
      "cell_type": "markdown",
      "metadata": {
        "id": "view-in-github",
        "colab_type": "text"
      },
      "source": [
        "<a href=\"https://colab.research.google.com/github/fbeilstein/neural_networks/blob/master/lecture_3_nn_architectures.ipynb\" target=\"_parent\"><img src=\"https://colab.research.google.com/assets/colab-badge.svg\" alt=\"Open In Colab\"/></a>"
      ]
    },
    {
      "cell_type": "markdown",
      "source": [
        "#LeNet"
      ],
      "metadata": {
        "id": "i_HrzQNxooZP"
      }
    },
    {
      "cell_type": "markdown",
      "source": [
        "![img](https://raw.githubusercontent.com/fbeilstein/presentations/master/images/nn_architectures/lenet_architecture.png)"
      ],
      "metadata": {
        "id": "abdWiVUor8sj"
      }
    },
    {
      "cell_type": "markdown",
      "source": [
        "#AlexNet"
      ],
      "metadata": {
        "id": "Zd5IVXfRsHV2"
      }
    },
    {
      "cell_type": "markdown",
      "source": [
        "![img](https://raw.githubusercontent.com/fbeilstein/presentations/master/images/nn_architectures/alexnet_architecture.png)"
      ],
      "metadata": {
        "id": "6cNFZeKIsJ2X"
      }
    },
    {
      "cell_type": "markdown",
      "source": [
        "#Autoencoder"
      ],
      "metadata": {
        "id": "9aq4ZrT5og2t"
      }
    },
    {
      "cell_type": "code",
      "source": [
        "#@title Manual PCA\n",
        "%%html\n",
        "<iframe title=\"Demo\"\n",
        "        src=\"https://fbeilstein.github.io/machine_learning/lecture_12_principal_component_analysis/demo_pca.html\"\n",
        "        width=\"800\" height=\"450\"\n",
        "        marginwidth=\"0\" marginheight=\"0\" frameborder=\"0\"\n",
        "        scrolling=\"no\">\n",
        "Your browser does not support IFrames.\n",
        "</iframe>\n"
      ],
      "metadata": {
        "cellView": "form",
        "colab": {
          "base_uri": "https://localhost:8080/",
          "height": 471
        },
        "id": "2WKD2y2Mz9tE",
        "outputId": "0302e8b2-79bf-4011-a644-7939520635d7"
      },
      "execution_count": null,
      "outputs": [
        {
          "output_type": "display_data",
          "data": {
            "text/plain": [
              "<IPython.core.display.HTML object>"
            ],
            "text/html": [
              "<iframe title=\"Demo\" \n",
              "        src=\"https://fbeilstein.github.io/machine_learning/lecture_12_principal_component_analysis/demo_pca.html\" \n",
              "        width=\"800\" height=\"450\" \n",
              "        marginwidth=\"0\" marginheight=\"0\" frameborder=\"0\" \n",
              "        scrolling=\"no\">\n",
              "Your browser does not support IFrames.\n",
              "</iframe>\n"
            ]
          },
          "metadata": {}
        }
      ]
    },
    {
      "cell_type": "markdown",
      "source": [
        "#Variational Autoencoder (VAE)"
      ],
      "metadata": {
        "id": "ZECY8NJ8okwc"
      }
    },
    {
      "cell_type": "code",
      "source": [
        "#@title #General Idea\n",
        "%%html\n",
        "<link rel=\"stylesheet\" href=\"https://fbeilstein.github.io/machine_learning/js_common/styles.css\"/>\n",
        "<script src=\"https://fbeilstein.github.io/machine_learning/js_common/script.js\"></script>\n",
        "<script>\n",
        "load_slides_from(\n",
        "[`\n",
        "<img src=\"https://raw.githubusercontent.com/fbeilstein/neural_networks/master/lecture_3_nn_architectures/VAE1.webp\" width=750>\n",
        "`,`\n",
        "<img src=\"https://raw.githubusercontent.com/fbeilstein/neural_networks/master/lecture_3_nn_architectures/VAE2.webp\" width=750>\n",
        "`,`\n",
        "<img src=\"https://raw.githubusercontent.com/fbeilstein/neural_networks/master/lecture_3_nn_architectures/VAE3.webp\" width=750>\n",
        "`,`\n",
        "<img src=\"https://raw.githubusercontent.com/fbeilstein/neural_networks/master/lecture_3_nn_architectures/VAE4.webp\" width=750>\n",
        "`,`\n",
        "<img src=\"https://raw.githubusercontent.com/fbeilstein/neural_networks/master/lecture_3_nn_architectures/VAE5.webp\" width=750>\n",
        "`,`\n",
        "<img src=\"https://raw.githubusercontent.com/fbeilstein/neural_networks/master/lecture_3_nn_architectures/VAE6.webp\" width=750>\n",
        "`])"
      ],
      "metadata": {
        "colab": {
          "base_uri": "https://localhost:8080/",
          "height": 534
        },
        "cellView": "form",
        "id": "KQoLidn6tLsf",
        "outputId": "fd0c5c0f-a307-4677-83e9-c9d401a3439e"
      },
      "execution_count": 4,
      "outputs": [
        {
          "output_type": "display_data",
          "data": {
            "text/plain": [
              "<IPython.core.display.HTML object>"
            ],
            "text/html": [
              "<link rel=\"stylesheet\" href=\"https://fbeilstein.github.io/machine_learning/js_common/styles.css\"/>\n",
              "<script src=\"https://fbeilstein.github.io/machine_learning/js_common/script.js\"></script>\n",
              "<script>\n",
              "load_slides_from(\n",
              "[`\n",
              "<img src=\"https://raw.githubusercontent.com/fbeilstein/neural_networks/master/lecture_3_nn_architectures/VAE1.webp\" width=750>\n",
              "`,`\n",
              "<img src=\"https://raw.githubusercontent.com/fbeilstein/neural_networks/master/lecture_3_nn_architectures/VAE2.webp\" width=750>\n",
              "`,`\n",
              "<img src=\"https://raw.githubusercontent.com/fbeilstein/neural_networks/master/lecture_3_nn_architectures/VAE3.webp\" width=750>\n",
              "`,`\n",
              "<img src=\"https://raw.githubusercontent.com/fbeilstein/neural_networks/master/lecture_3_nn_architectures/VAE4.webp\" width=750>\n",
              "`,`\n",
              "<img src=\"https://raw.githubusercontent.com/fbeilstein/neural_networks/master/lecture_3_nn_architectures/VAE5.webp\" width=750>\n",
              "`,`\n",
              "<img src=\"https://raw.githubusercontent.com/fbeilstein/neural_networks/master/lecture_3_nn_architectures/VAE6.webp\" width=750>\n",
              "`])\n"
            ]
          },
          "metadata": {}
        }
      ]
    },
    {
      "cell_type": "markdown",
      "source": [
        "#ResNet"
      ],
      "metadata": {
        "id": "TvpQR6QLotTR"
      }
    },
    {
      "cell_type": "markdown",
      "source": [
        "![img](https://raw.githubusercontent.com/fbeilstein/presentations/master/images/nn_architectures/Resnet18_architecture.svg)"
      ],
      "metadata": {
        "id": "5MViYQNMsRem"
      }
    },
    {
      "cell_type": "markdown",
      "source": [
        "#U-Net"
      ],
      "metadata": {
        "id": "KHRQfm35ou0W"
      }
    },
    {
      "cell_type": "markdown",
      "source": [
        "![img](https://raw.githubusercontent.com/fbeilstein/presentations/master/images/nn_architectures/unet_architecture.png)"
      ],
      "metadata": {
        "id": "OgyHPvl3sYp3"
      }
    },
    {
      "cell_type": "markdown",
      "source": [
        "#VGG-16"
      ],
      "metadata": {
        "id": "OvWx-6FvsgiV"
      }
    },
    {
      "cell_type": "markdown",
      "source": [
        "![img](https://raw.githubusercontent.com/fbeilstein/presentations/master/images/nn_architectures/vgg16_architecture.png)"
      ],
      "metadata": {
        "id": "nnJBKftasiA-"
      }
    },
    {
      "cell_type": "markdown",
      "source": [
        "#FCN-32"
      ],
      "metadata": {
        "id": "ZpsmOWL2sosp"
      }
    },
    {
      "cell_type": "markdown",
      "source": [
        "![img](https://raw.githubusercontent.com/fbeilstein/presentations/master/images/nn_architectures/fcn32_architecture.png)"
      ],
      "metadata": {
        "id": "FaOmwEtgsqXj"
      }
    },
    {
      "cell_type": "markdown",
      "source": [
        "#GAN"
      ],
      "metadata": {
        "id": "Mqrj5O8oo0bE"
      }
    },
    {
      "cell_type": "code",
      "source": [
        "#@title #General Idea\n",
        "%%html\n",
        "<link rel=\"stylesheet\" href=\"https://fbeilstein.github.io/machine_learning/js_common/styles.css\"/>\n",
        "<script src=\"https://fbeilstein.github.io/machine_learning/js_common/script.js\"></script>\n",
        "<script>\n",
        "load_slides_from(\n",
        "[`\n",
        "<img src=\"https://raw.githubusercontent.com/fbeilstein/neural_networks/master/lecture_3_nn_architectures/GAN1.webp\" width=750>\n",
        "`,`\n",
        "<img src=\"https://raw.githubusercontent.com/fbeilstein/neural_networks/master/lecture_3_nn_architectures/GAN2.webp\" width=750>\n",
        "`,`\n",
        "<img src=\"https://raw.githubusercontent.com/fbeilstein/neural_networks/master/lecture_3_nn_architectures/GAN3.webp\" width=750>\n",
        "`])"
      ],
      "metadata": {
        "colab": {
          "base_uri": "https://localhost:8080/",
          "height": 377
        },
        "cellView": "form",
        "id": "BkWn78t8rKuW",
        "outputId": "565a2550-d80b-480a-b610-9e07c89d5ca3"
      },
      "execution_count": 3,
      "outputs": [
        {
          "output_type": "display_data",
          "data": {
            "text/plain": [
              "<IPython.core.display.HTML object>"
            ],
            "text/html": [
              "<link rel=\"stylesheet\" href=\"https://fbeilstein.github.io/machine_learning/js_common/styles.css\"/>\n",
              "<script src=\"https://fbeilstein.github.io/machine_learning/js_common/script.js\"></script>\n",
              "<script>\n",
              "load_slides_from(\n",
              "[`\n",
              "<img src=\"https://raw.githubusercontent.com/fbeilstein/neural_networks/master/lecture_3_nn_architectures/GAN1.webp\" width=750>\n",
              "`,`\n",
              "<img src=\"https://raw.githubusercontent.com/fbeilstein/neural_networks/master/lecture_3_nn_architectures/GAN2.webp\" width=750>\n",
              "`,`\n",
              "<img src=\"https://raw.githubusercontent.com/fbeilstein/neural_networks/master/lecture_3_nn_architectures/GAN3.webp\" width=750>\n",
              "`])\n"
            ]
          },
          "metadata": {}
        }
      ]
    },
    {
      "cell_type": "markdown",
      "source": [
        "for details see \"*Generative Adversarial Nets*\" by Ian J. Goodfellow et all.\n",
        "\n",
        "\n",
        "**for** number of training iterations **do**\n",
        "\n",
        "$~~~~$**for** $k$ steps **do**\n",
        "\n",
        "$~~~~$$~~~~$• Sample minibatch of $m$ noise samples $\\{z^{(1)},\\dots,z^{(m)}\\}$ from noise prior $p_g(z)$.\n",
        "\n",
        "$~~~~$$~~~~$• Sample minibatch of $m$ examples $\\{x^{(1)},\\dots,x^{(m)}\\}$ from data generating distribution $p_\\text{data}(x)$.\n",
        "\n",
        "$~~~~$$~~~~$• Update the discriminator by ascending its stochastic gradient:\n",
        "$$\n",
        "\\nabla_{\\theta_d} \\frac{1}{m} \\sum_{i=1}^m \\left[ \\ln D (x^{(i)}) + \\ln \\left( 1 - D(G(z^{(i)})) \\right)\\right]\n",
        "$$\n",
        "$~~~~$**end for**\n",
        "\n",
        "$~~~~$• Sample minibatch of $m$ noise samples $\\{z^{(1)},\\dots,z^{(m)}\\}$ from noise prior $p_g(z)$.\n",
        "\n",
        "$~~~~$• Update the generator by descending its stochastic gradient:\n",
        "$$\n",
        "\\nabla_{\\theta_g} \\frac{1}{m} \\sum_{i=1}^m \\ln \\left( 1 - D(G(z^{(i)})) \\right)\n",
        "$$\n",
        "\n",
        "**end for**"
      ],
      "metadata": {
        "id": "r8BjYgUw-oVh"
      }
    },
    {
      "cell_type": "markdown",
      "source": [
        "$D$ - probability that data is genuine.\n",
        "\n",
        "For perfect discriminator $D(x) = 1$ and $D(G(z)) = 0$. In this case $\\ln D + \\ln(1-D(G)) = 0$ while for any other case $< 0$. **Discriminator maximizes loss**.\n",
        "\n",
        "$G$ - would be perfect if $D(G) = 1$, thus loss would be $-\\infty$. **Generator minimizes loss**\n",
        "\n",
        "$$\n",
        "\\min_G \\max_D \\frac{1}{m} \\sum_{i=1}^m \\left[ \\ln D (x^{(i)}) + \\ln \\left( 1 - D(G(z^{(i)})) \\right)\\right]\n",
        "$$\n",
        "\n",
        "![img](https://upload.wikimedia.org/wikipedia/commons/thumb/1/17/Inter-house_sports-_tug_of_war.jpg/640px-Inter-house_sports-_tug_of_war.jpg)\n",
        "\n",
        "It can be proven that balance is acieved when $D(x) = D(G(z)) = 1/2$, that basically means genuine and generated data are indistinguishable."
      ],
      "metadata": {
        "id": "uuNhexDoFKW9"
      }
    }
  ]
}