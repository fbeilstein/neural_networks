{
  "nbformat": 4,
  "nbformat_minor": 0,
  "metadata": {
    "colab": {
      "provenance": [],
      "toc_visible": true,
      "authorship_tag": "ABX9TyOEYKSCtYNe4X2ANoQu32ZF",
      "include_colab_link": true
    },
    "kernelspec": {
      "name": "python3",
      "display_name": "Python 3"
    },
    "language_info": {
      "name": "python"
    }
  },
  "cells": [
    {
      "cell_type": "markdown",
      "metadata": {
        "id": "view-in-github",
        "colab_type": "text"
      },
      "source": [
        "<a href=\"https://colab.research.google.com/github/fbeilstein/neural_networks/blob/master/lecture_3_nn_architectures.ipynb\" target=\"_parent\"><img src=\"https://colab.research.google.com/assets/colab-badge.svg\" alt=\"Open In Colab\"/></a>"
      ]
    },
    {
      "cell_type": "markdown",
      "source": [
        "#LeNet"
      ],
      "metadata": {
        "id": "i_HrzQNxooZP"
      }
    },
    {
      "cell_type": "markdown",
      "source": [
        "* Developed by Yann LeCun et al. in 1998.\n",
        "\n",
        "* One of the first successful CNNs, applied to handwritten digit recognition (MNIST).\n",
        "\n",
        "* Paved the way for modern deep learning in computer vision.\n",
        "\n",
        "-----\n",
        "\n",
        "* Uses tanh activation (ReLU was not yet popular).\n",
        "* Uses average pooling, not max pooling (which became popular later).\n",
        "* No Dropout or BatchNorm. These techniques didn't exist at the time. LeNet-5 is much shallower and simpler.\n",
        "\n",
        "-----\n",
        "\n",
        "* CNN structure idea: alternating convolution + pooling.\n",
        "\n",
        "* Weight sharing: dramatically reduces number of parameters vs fully connected layers.\n",
        "\n",
        "* Local receptive fields: how neurons look only at parts of the image.\n",
        "\n",
        "* Low parameter count: around 60k parameters—tiny by modern standards!\n",
        "\n",
        "* Bias-variance balance: good example of a simple model that avoids overfitting by design."
      ],
      "metadata": {
        "id": "x_fQrQGV14ni"
      }
    },
    {
      "cell_type": "code",
      "source": [
        "#@title architecture\n",
        "%%html\n",
        "<img src=\"https://raw.githubusercontent.com/fbeilstein/presentations/master/images/nn_architectures/lenet_architecture.png\" width='550'>"
      ],
      "metadata": {
        "cellView": "form",
        "id": "cl6yMfpUzXD3",
        "outputId": "19465b40-ad6c-4ccb-8731-8e97404e44c0",
        "colab": {
          "base_uri": "https://localhost:8080/",
          "height": 295
        }
      },
      "execution_count": null,
      "outputs": [
        {
          "output_type": "display_data",
          "data": {
            "text/plain": [
              "<IPython.core.display.HTML object>"
            ],
            "text/html": [
              "<img src=\"https://raw.githubusercontent.com/fbeilstein/presentations/master/images/nn_architectures/lenet_architecture.png\" width='550'>\n"
            ]
          },
          "metadata": {}
        }
      ]
    },
    {
      "cell_type": "code",
      "source": [
        "import torch\n",
        "import torch.nn as nn\n",
        "import torch.optim as optim\n",
        "from torchvision import datasets, transforms\n",
        "from torch.utils.data import DataLoader\n",
        "\n",
        "# 1. LeNet-5 architecture\n",
        "class LeNet5(nn.Module):\n",
        "  def __init__(self):\n",
        "    super(LeNet5, self).__init__()\n",
        "    self.conv1 = nn.Conv2d(1, 6, kernel_size=5)   # 28x28 -> 24x24\n",
        "    self.pool1 = nn.AvgPool2d(kernel_size=2)      # 24x24 -> 12x12\n",
        "    self.conv2 = nn.Conv2d(6, 16, kernel_size=5)  # 12x12 -> 8x8\n",
        "    self.pool2 = nn.AvgPool2d(kernel_size=2)      # 8x8 -> 4x4\n",
        "    self.conv3 = nn.Conv2d(16, 120, kernel_size=4)  # 4x4 -> 1x1\n",
        "\n",
        "    self.fc1 = nn.Linear(120, 84)\n",
        "    self.fc2 = nn.Linear(84, 10)\n",
        "\n",
        "  def forward(self, x):\n",
        "    x = torch.tanh(self.conv1(x))\n",
        "    x = self.pool1(x)\n",
        "    x = torch.tanh(self.conv2(x))\n",
        "    x = self.pool2(x)\n",
        "    x = torch.tanh(self.conv3(x))\n",
        "    x = x.view(-1, 120)\n",
        "    x = torch.tanh(self.fc1(x))\n",
        "    x = self.fc2(x)\n",
        "    return x\n"
      ],
      "metadata": {
        "id": "FJJxggZv0xDs"
      },
      "execution_count": null,
      "outputs": []
    },
    {
      "cell_type": "code",
      "source": [
        "# 2. Prepare data\n",
        "transform = transforms.Compose([\n",
        "  transforms.Resize((28, 28)),  # Just to be sure\n",
        "  transforms.ToTensor()\n",
        "])\n",
        "\n",
        "train_data = datasets.MNIST(root='data', train=True, transform=transform, download=True)\n",
        "test_data  = datasets.MNIST(root='data', train=False, transform=transform, download=True)\n",
        "\n",
        "train_loader = DataLoader(train_data, batch_size=64, shuffle=True)\n",
        "test_loader  = DataLoader(test_data, batch_size=1000, shuffle=False)\n",
        "\n",
        "# 3. Training setup\n",
        "device = torch.device(\"cuda\" if torch.cuda.is_available() else \"cpu\")\n",
        "model = LeNet5().to(device)\n",
        "criterion = nn.CrossEntropyLoss()\n",
        "optimizer = optim.Adam(model.parameters(), lr=0.001)\n",
        "\n",
        "# 4. Training loop\n",
        "for epoch in range(5):\n",
        "  model.train()\n",
        "  total_loss = 0\n",
        "  for images, labels in train_loader:\n",
        "    images, labels = images.to(device), labels.to(device)\n",
        "    optimizer.zero_grad()\n",
        "    outputs = model(images)\n",
        "    loss = criterion(outputs, labels)\n",
        "    loss.backward()\n",
        "    optimizer.step()\n",
        "    total_loss += loss.item()\n",
        "  print(f\"Epoch {epoch+1}, Loss: {total_loss:.2f}\")\n"
      ],
      "metadata": {
        "id": "iYhw02v002zH",
        "outputId": "3fa31e15-76f9-4fd3-9392-52e842c3cc72",
        "colab": {
          "base_uri": "https://localhost:8080/"
        }
      },
      "execution_count": null,
      "outputs": [
        {
          "output_type": "stream",
          "name": "stderr",
          "text": [
            "100%|██████████| 9.91M/9.91M [00:00<00:00, 55.0MB/s]\n",
            "100%|██████████| 28.9k/28.9k [00:00<00:00, 1.72MB/s]\n",
            "100%|██████████| 1.65M/1.65M [00:00<00:00, 14.5MB/s]\n",
            "100%|██████████| 4.54k/4.54k [00:00<00:00, 7.08MB/s]\n"
          ]
        },
        {
          "output_type": "stream",
          "name": "stdout",
          "text": [
            "Epoch 1, Loss: 294.13\n",
            "Epoch 2, Loss: 96.04\n",
            "Epoch 3, Loss: 66.10\n",
            "Epoch 4, Loss: 50.09\n",
            "Epoch 5, Loss: 40.33\n"
          ]
        }
      ]
    },
    {
      "cell_type": "code",
      "source": [
        "model.eval()\n",
        "correct = 0\n",
        "total = 0\n",
        "with torch.no_grad():\n",
        "  for images, labels in test_loader:\n",
        "    images, labels = images.to(device), labels.to(device)\n",
        "    outputs = model(images)\n",
        "    _, predicted = torch.max(outputs.data, 1)\n",
        "    total += labels.size(0)\n",
        "    correct += (predicted == labels).sum().item()\n",
        "\n",
        "print(f\"Test Accuracy: {100 * correct / total:.2f}%\")"
      ],
      "metadata": {
        "id": "YqnQxJBj1ACR",
        "outputId": "ba695f39-7969-4cf7-b991-8bbd60765e17",
        "colab": {
          "base_uri": "https://localhost:8080/"
        }
      },
      "execution_count": null,
      "outputs": [
        {
          "output_type": "stream",
          "name": "stdout",
          "text": [
            "Test Accuracy: 98.45%\n"
          ]
        }
      ]
    },
    {
      "cell_type": "markdown",
      "source": [
        "#AlexNet"
      ],
      "metadata": {
        "id": "Zd5IVXfRsHV2"
      }
    },
    {
      "cell_type": "markdown",
      "source": [
        "* Breakthrough: AlexNet won the ImageNet Large Scale Visual Recognition Challenge (ILSVRC) 2012 by a huge margin.\n",
        "\n",
        "* Popularized CNNs: It showed that convolutional neural networks trained on GPUs could achieve state-of-the-art results on real-world large-scale datasets.\n",
        "\n",
        "* Catalyst for Deep Learning: It essentially started the current deep learning boom in computer vision.\n",
        "\n",
        "--------\n",
        "\n",
        "**New Features/Ideas**\n",
        "\n",
        "* Deep Architecture\n",
        "* ReLU Activation\tinstead of tanh/sigmoid for faster convergence\n",
        "* Introduced dropout to prevent overfitting in fully connected layers\n",
        "* Used overlapping $3\\times 3$ pooling (stride 2) instead of $2 \\times 2$ non-overlapping\n",
        "* Used data augmentation techniques like image translation and reflection to expand dataset\n",
        "* Trained on 2 GPUs, splitting the model across them (early model parallelism)\n",
        "* Used Local Response Normalization (LRN) to encourage lateral inhibition (now less common)"
      ],
      "metadata": {
        "id": "y3PUAjNh3fXm"
      }
    },
    {
      "cell_type": "code",
      "source": [
        "#@title architecture\n",
        "%%html\n",
        "<img src=\"https://raw.githubusercontent.com/fbeilstein/presentations/master/images/nn_architectures/alexnet_architecture.png\" width='550'>"
      ],
      "metadata": {
        "cellView": "form",
        "id": "vG4_RP4920g1",
        "outputId": "f9eea36f-01e3-4510-8b57-1aafd0a75cea",
        "colab": {
          "base_uri": "https://localhost:8080/",
          "height": 286
        }
      },
      "execution_count": null,
      "outputs": [
        {
          "output_type": "display_data",
          "data": {
            "text/plain": [
              "<IPython.core.display.HTML object>"
            ],
            "text/html": [
              "<img src=\"https://raw.githubusercontent.com/fbeilstein/presentations/master/images/nn_architectures/alexnet_architecture.png\" width='550'>\n"
            ]
          },
          "metadata": {}
        }
      ]
    },
    {
      "cell_type": "code",
      "source": [
        "import torch\n",
        "import torch.nn as nn\n",
        "import torch.nn.functional as F\n",
        "import torchvision\n",
        "import torchvision.transforms as transforms\n",
        "from torch.utils.data import DataLoader\n",
        "import torch.optim as optim\n",
        "\n",
        "# Define AlexNet for CIFAR-10 (input 3x32x32 instead of 224x224)\n",
        "class AlexNet(nn.Module):\n",
        "  def __init__(self, num_classes=10):\n",
        "    super(AlexNet, self).__init__()\n",
        "    self.features = nn.Sequential(\n",
        "      nn.Conv2d(3, 96, kernel_size=11, stride=4, padding=2),  # CIFAR-10: input 32x32, here causes strong shrink\n",
        "      nn.ReLU(inplace=True),\n",
        "      nn.MaxPool2d(kernel_size=3, stride=2),\n",
        "      nn.Conv2d(96, 256, kernel_size=5, padding=2),\n",
        "      nn.ReLU(inplace=True),\n",
        "      nn.MaxPool2d(kernel_size=3, stride=2),\n",
        "      nn.Conv2d(256, 384, kernel_size=3, padding=1),\n",
        "      nn.ReLU(inplace=True),\n",
        "      nn.Conv2d(384, 384, kernel_size=3, padding=1),\n",
        "      nn.ReLU(inplace=True),\n",
        "      nn.Conv2d(384, 256, kernel_size=3, padding=1),\n",
        "      nn.ReLU(inplace=True),\n",
        "      nn.MaxPool2d(kernel_size=3, stride=2),\n",
        "    )\n",
        "    self.classifier = nn.Sequential(\n",
        "      nn.Dropout(),\n",
        "      nn.LazyLinear(4096),\n",
        "      nn.ReLU(inplace=True),\n",
        "      nn.Dropout(),\n",
        "      nn.Linear(4096, 4096),\n",
        "      nn.ReLU(inplace=True),\n",
        "      nn.Linear(4096, num_classes),\n",
        "    )\n",
        "\n",
        "  def forward(self, x):\n",
        "    x = self.features(x)\n",
        "    x = torch.flatten(x, 1)\n",
        "    x = self.classifier(x)\n",
        "    return x\n"
      ],
      "metadata": {
        "id": "spEJzPB85bJx"
      },
      "execution_count": null,
      "outputs": []
    },
    {
      "cell_type": "code",
      "source": [
        "# Transforms\n",
        "#transform = transforms.Compose([\n",
        "#  transforms.Resize(32),  # Resize if needed\n",
        "#  transforms.ToTensor(),\n",
        "#  transforms.Normalize((0.5, 0.5, 0.5), (0.5, 0.5, 0.5)),\n",
        "#])\n",
        "\n",
        "transform = transforms.Compose([\n",
        "  transforms.Resize(224),\n",
        "  transforms.ToTensor(),\n",
        "  transforms.Normalize((0.5,), (0.5,)),\n",
        "])\n",
        "\n",
        "# Download CIFAR-10\n",
        "trainset = torchvision.datasets.CIFAR10(root='./data', train=True, download=True, transform=transform)\n",
        "testset = torchvision.datasets.CIFAR10(root='./data', train=False, download=True, transform=transform)\n",
        "\n",
        "trainloader = DataLoader(trainset, batch_size=64, shuffle=True)\n",
        "testloader = DataLoader(testset, batch_size=100, shuffle=False)\n"
      ],
      "metadata": {
        "id": "xLOUxcZf55fZ"
      },
      "execution_count": null,
      "outputs": []
    },
    {
      "cell_type": "code",
      "source": [
        "device = torch.device(\"cuda\" if torch.cuda.is_available() else \"cpu\")\n",
        "\n",
        "model = AlexNet(num_classes=10).to(device)\n",
        "criterion = nn.CrossEntropyLoss()\n",
        "optimizer = optim.Adam(model.parameters(), lr=0.001)\n",
        "\n",
        "# Training loop\n",
        "for epoch in range(5):  # keep small on Colab\n",
        "  model.train()\n",
        "  running_loss = 0.0\n",
        "  for images, labels in trainloader:\n",
        "    images, labels = images.to(device), labels.to(device)\n",
        "    optimizer.zero_grad()\n",
        "    outputs = model(images)\n",
        "    loss = criterion(outputs, labels)\n",
        "    loss.backward()\n",
        "    optimizer.step()\n",
        "    running_loss += loss.item()\n",
        "\n",
        "  print(f\"Epoch {epoch+1}, Loss: {running_loss/len(trainloader):.4f}\")"
      ],
      "metadata": {
        "id": "DzUUSMH06CjH"
      },
      "execution_count": null,
      "outputs": []
    },
    {
      "cell_type": "code",
      "source": [
        "correct = 0\n",
        "total = 0\n",
        "model.eval()\n",
        "with torch.no_grad():\n",
        "  for images, labels in testloader:\n",
        "    images, labels = images.to(device), labels.to(device)\n",
        "    outputs = model(images)\n",
        "    _, predicted = torch.max(outputs.data, 1)\n",
        "    total += labels.size(0)\n",
        "    correct += (predicted == labels).sum().item()\n",
        "\n",
        "print(f\"Test Accuracy: {100 * correct / total:.2f}%\")\n"
      ],
      "metadata": {
        "id": "Ys9lnpY56N2O"
      },
      "execution_count": null,
      "outputs": []
    },
    {
      "cell_type": "markdown",
      "source": [
        "#Autoencoder"
      ],
      "metadata": {
        "id": "9aq4ZrT5og2t"
      }
    },
    {
      "cell_type": "code",
      "source": [
        "#@title Manual PCA\n",
        "%%html\n",
        "<iframe title=\"Demo\"\n",
        "        src=\"https://fbeilstein.github.io/machine_learning/lecture_12_principal_component_analysis/demo_pca.html\"\n",
        "        width=\"800\" height=\"450\"\n",
        "        marginwidth=\"0\" marginheight=\"0\" frameborder=\"0\"\n",
        "        scrolling=\"no\">\n",
        "Your browser does not support IFrames.\n",
        "</iframe>\n"
      ],
      "metadata": {
        "cellView": "form",
        "colab": {
          "base_uri": "https://localhost:8080/",
          "height": 471
        },
        "id": "2WKD2y2Mz9tE",
        "outputId": "0302e8b2-79bf-4011-a644-7939520635d7"
      },
      "execution_count": null,
      "outputs": [
        {
          "output_type": "display_data",
          "data": {
            "text/plain": [
              "<IPython.core.display.HTML object>"
            ],
            "text/html": [
              "<iframe title=\"Demo\" \n",
              "        src=\"https://fbeilstein.github.io/machine_learning/lecture_12_principal_component_analysis/demo_pca.html\" \n",
              "        width=\"800\" height=\"450\" \n",
              "        marginwidth=\"0\" marginheight=\"0\" frameborder=\"0\" \n",
              "        scrolling=\"no\">\n",
              "Your browser does not support IFrames.\n",
              "</iframe>\n"
            ]
          },
          "metadata": {}
        }
      ]
    },
    {
      "cell_type": "code",
      "source": [
        "#@title architecture\n",
        "%%html\n",
        "<img src=\"https://raw.githubusercontent.com/fbeilstein/presentations/master/images/nn_architectures/autoencoder_architecture.webp\" height=400>\n"
      ],
      "metadata": {
        "cellView": "form",
        "id": "GO9-c_2HcZ4E",
        "outputId": "0be41ff5-4910-4f87-92cd-c0609e569e46",
        "colab": {
          "base_uri": "https://localhost:8080/",
          "height": 421
        }
      },
      "execution_count": 24,
      "outputs": [
        {
          "output_type": "display_data",
          "data": {
            "text/plain": [
              "<IPython.core.display.HTML object>"
            ],
            "text/html": [
              "<img src=\"https://raw.githubusercontent.com/fbeilstein/presentations/master/images/nn_architectures/autoencoder_architecture.webp\" height=400>\n"
            ]
          },
          "metadata": {}
        }
      ]
    },
    {
      "cell_type": "markdown",
      "source": [
        "**Autoencoder**\n",
        "\n",
        "* Neural network trained to reconstruct input from a compressed internal representation.\n",
        "* Consists of:\n",
        "  - Encoder: Maps input → latent space.\n",
        "  - Decoder: Reconstructs input from latent code.\n",
        "* Unsupervised learning: No labels needed during training.\n",
        "\n",
        "--------\n",
        "\n",
        "**Architecture**\n",
        "* Symmetric structure: Encoder and decoder mirror each other.\n",
        "* Common layers: Fully connected (dense), Convolutional (for images)\n",
        "* Bottleneck layer: Represents compressed features.\n",
        "\n",
        "-------\n",
        "\n",
        "**Applications**\n",
        "* Dimensionality reduction (alternative to PCA)\n",
        "* Denoising: Removes noise from corrupted input\n",
        "* Anomaly detection: Poor reconstruction signals anomaly\n",
        "* Image compression and synthesis\n",
        "\n",
        "**Denoising Autoencoders**\n",
        "* Trained with noisy input but clean target.\n",
        "* Learns to map noisy → clean data.\n",
        "* Helps the model extract robust features."
      ],
      "metadata": {
        "id": "ZKvROz4NVnlI"
      }
    },
    {
      "cell_type": "code",
      "source": [
        "import torch\n",
        "import torch.nn as nn\n",
        "import torch.optim as optim\n",
        "from torchvision import datasets, transforms\n",
        "from torch.utils.data import DataLoader, Dataset\n",
        "import matplotlib.pyplot as plt\n",
        "import numpy as np\n",
        "\n",
        "\n",
        "class Autoencoder(nn.Module):\n",
        "  def __init__(self):\n",
        "    super(Autoencoder, self).__init__()\n",
        "    self.encoder = nn.Sequential(\n",
        "      nn.Conv2d(1, 16, 3, stride=2, padding=1),  # 16x14x14\n",
        "      nn.ReLU(),\n",
        "      nn.Conv2d(16, 4, 3, stride=2, padding=1),  # 4x7x7\n",
        "      nn.ReLU()\n",
        "    )\n",
        "    self.decoder = nn.Sequential(\n",
        "        nn.ConvTranspose2d(4, 16, 3, stride=2, output_padding=1, padding=1),  # 16x14x14\n",
        "        nn.ReLU(),\n",
        "        nn.ConvTranspose2d(16, 1, 3, stride=2, output_padding=1, padding=1),  # 1x28x28\n",
        "        nn.Sigmoid()\n",
        "      )\n",
        "\n",
        "  def forward(self, x):\n",
        "    x = self.encoder(x)\n",
        "    x = self.decoder(x)\n",
        "    return x\n",
        "\n",
        "device = torch.device(\"cuda\" if torch.cuda.is_available() else \"cpu\")\n",
        "model = Autoencoder().to(device)"
      ],
      "metadata": {
        "id": "5anurgeSSxZS"
      },
      "execution_count": null,
      "outputs": []
    },
    {
      "cell_type": "code",
      "source": [
        "class NoisyMNIST(Dataset):\n",
        "  def __init__(self, train=True):\n",
        "    self.data = datasets.MNIST(root='./data', train=train, download=True,\n",
        "                                transform=transforms.ToTensor())\n",
        "\n",
        "  def __getitem__(self, index):\n",
        "    img, label = self.data[index]\n",
        "    noisy_img = img + 0.5 * torch.randn_like(img)  # add Gaussian noise\n",
        "    noisy_img = torch.clip(noisy_img, 0., 1.)\n",
        "    return noisy_img, img\n",
        "\n",
        "  def __len__(self):\n",
        "    return len(self.data)\n",
        "\n",
        "\n",
        "train_loader = DataLoader(NoisyMNIST(train=True), batch_size=128, shuffle=True)\n",
        "test_loader = DataLoader(NoisyMNIST(train=False), batch_size=10, shuffle=False)\n"
      ],
      "metadata": {
        "id": "HYCo8PK9TDNk",
        "outputId": "bf64c084-3316-465f-9c8b-09421b50e89d",
        "colab": {
          "base_uri": "https://localhost:8080/"
        }
      },
      "execution_count": null,
      "outputs": [
        {
          "output_type": "stream",
          "name": "stderr",
          "text": [
            "100%|██████████| 9.91M/9.91M [00:01<00:00, 6.04MB/s]\n",
            "100%|██████████| 28.9k/28.9k [00:00<00:00, 160kB/s]\n",
            "100%|██████████| 1.65M/1.65M [00:01<00:00, 1.30MB/s]\n",
            "100%|██████████| 4.54k/4.54k [00:00<00:00, 5.24MB/s]\n"
          ]
        }
      ]
    },
    {
      "cell_type": "code",
      "source": [
        "criterion = nn.MSELoss()\n",
        "optimizer = optim.Adam(model.parameters(), lr=1e-3)\n",
        "\n",
        "for epoch in range(5):\n",
        "  model.train()\n",
        "  loss_sum = 0\n",
        "  for noisy, clean in train_loader:\n",
        "    noisy, clean = noisy.to(device), clean.to(device)\n",
        "    output = model(noisy)\n",
        "    loss = criterion(output, clean)\n",
        "    optimizer.zero_grad()\n",
        "    loss.backward()\n",
        "    optimizer.step()\n",
        "    loss_sum += loss.item()\n",
        "  print(f\"Epoch {epoch+1}, Loss: {loss_sum / len(train_loader):.4f}\")\n"
      ],
      "metadata": {
        "id": "HhSchnisTQ2o",
        "outputId": "b2639383-961a-4e56-d090-622af8628443",
        "colab": {
          "base_uri": "https://localhost:8080/"
        }
      },
      "execution_count": null,
      "outputs": [
        {
          "output_type": "stream",
          "name": "stdout",
          "text": [
            "Epoch 1, Loss: 0.0595\n",
            "Epoch 2, Loss: 0.0190\n",
            "Epoch 3, Loss: 0.0177\n",
            "Epoch 4, Loss: 0.0171\n",
            "Epoch 5, Loss: 0.0164\n"
          ]
        }
      ]
    },
    {
      "cell_type": "code",
      "source": [
        "model.eval()\n",
        "noisy_imgs, clean_imgs = next(iter(test_loader))\n",
        "with torch.no_grad():\n",
        "  noisy_imgs = noisy_imgs.to(device)\n",
        "  reconstructed = model(noisy_imgs).cpu()\n",
        "\n",
        "# Plotting\n",
        "def show_images(noisy, reconstructed, original):\n",
        "  fig, axs = plt.subplots(3, 10, figsize=(15, 5))\n",
        "  for i in range(10):\n",
        "    axs[0, i].imshow(noisy[i][0], cmap='gray')\n",
        "    axs[1, i].imshow(reconstructed[i][0], cmap='gray')\n",
        "    axs[2, i].imshow(original[i][0], cmap='gray')\n",
        "    for ax in axs[:, i]:\n",
        "      #ax.axis('off')\n",
        "      ax.spines[:].set_visible(False)\n",
        "      ax.set_xticks([])\n",
        "      ax.set_yticks([])\n",
        "  axs[0, 0].set_ylabel(\"Noisy\")\n",
        "  axs[1, 0].set_ylabel(\"Denoised\")\n",
        "  axs[2, 0].set_ylabel(\"Original\")\n",
        "  plt.tight_layout()\n",
        "  plt.show()\n",
        "\n",
        "show_images(noisy_imgs.cpu(), reconstructed, clean_imgs)\n"
      ],
      "metadata": {
        "id": "QbddJGI1Tfjz",
        "outputId": "03fdf5c4-30d7-4f19-c30a-9f14b16191a3",
        "colab": {
          "base_uri": "https://localhost:8080/",
          "height": 329
        }
      },
      "execution_count": null,
      "outputs": [
        {
          "output_type": "display_data",
          "data": {
            "text/plain": [
              "<Figure size 1500x500 with 30 Axes>"
            ],
            "image/png": "[encoded data removed]"
          },
          "metadata": {}
        }
      ]
    },
    {
      "cell_type": "markdown",
      "source": [
        "#Variational Autoencoder (VAE)"
      ],
      "metadata": {
        "id": "ZECY8NJ8okwc"
      }
    },
    {
      "cell_type": "code",
      "source": [
        "#@title #General Idea\n",
        "%%html\n",
        "<link rel=\"stylesheet\" href=\"https://fbeilstein.github.io/machine_learning/js_common/styles.css\"/>\n",
        "<script src=\"https://fbeilstein.github.io/machine_learning/js_common/script.js\"></script>\n",
        "<script>\n",
        "load_slides_from(\n",
        "[`\n",
        "<img src=\"https://raw.githubusercontent.com/fbeilstein/neural_networks/master/lecture_3_nn_architectures/VAE1.webp\" width=750>\n",
        "`,`\n",
        "<img src=\"https://raw.githubusercontent.com/fbeilstein/neural_networks/master/lecture_3_nn_architectures/VAE2.webp\" width=750>\n",
        "`,`\n",
        "<img src=\"https://raw.githubusercontent.com/fbeilstein/neural_networks/master/lecture_3_nn_architectures/VAE3.webp\" width=750>\n",
        "`,`\n",
        "<img src=\"https://raw.githubusercontent.com/fbeilstein/neural_networks/master/lecture_3_nn_architectures/VAE4.webp\" width=750>\n",
        "`,`\n",
        "<img src=\"https://raw.githubusercontent.com/fbeilstein/neural_networks/master/lecture_3_nn_architectures/VAE5.webp\" width=750>\n",
        "`,`\n",
        "<img src=\"https://raw.githubusercontent.com/fbeilstein/neural_networks/master/lecture_3_nn_architectures/VAE6.webp\" width=750>\n",
        "`])"
      ],
      "metadata": {
        "colab": {
          "base_uri": "https://localhost:8080/",
          "height": 534
        },
        "cellView": "form",
        "id": "KQoLidn6tLsf",
        "outputId": "fd0c5c0f-a307-4677-83e9-c9d401a3439e"
      },
      "execution_count": null,
      "outputs": [
        {
          "output_type": "display_data",
          "data": {
            "text/plain": [
              "<IPython.core.display.HTML object>"
            ],
            "text/html": [
              "<link rel=\"stylesheet\" href=\"https://fbeilstein.github.io/machine_learning/js_common/styles.css\"/>\n",
              "<script src=\"https://fbeilstein.github.io/machine_learning/js_common/script.js\"></script>\n",
              "<script>\n",
              "load_slides_from(\n",
              "[`\n",
              "<img src=\"https://raw.githubusercontent.com/fbeilstein/neural_networks/master/lecture_3_nn_architectures/VAE1.webp\" width=750>\n",
              "`,`\n",
              "<img src=\"https://raw.githubusercontent.com/fbeilstein/neural_networks/master/lecture_3_nn_architectures/VAE2.webp\" width=750>\n",
              "`,`\n",
              "<img src=\"https://raw.githubusercontent.com/fbeilstein/neural_networks/master/lecture_3_nn_architectures/VAE3.webp\" width=750>\n",
              "`,`\n",
              "<img src=\"https://raw.githubusercontent.com/fbeilstein/neural_networks/master/lecture_3_nn_architectures/VAE4.webp\" width=750>\n",
              "`,`\n",
              "<img src=\"https://raw.githubusercontent.com/fbeilstein/neural_networks/master/lecture_3_nn_architectures/VAE5.webp\" width=750>\n",
              "`,`\n",
              "<img src=\"https://raw.githubusercontent.com/fbeilstein/neural_networks/master/lecture_3_nn_architectures/VAE6.webp\" width=750>\n",
              "`])\n"
            ]
          },
          "metadata": {}
        }
      ]
    },
    {
      "cell_type": "code",
      "source": [
        "import torch\n",
        "import torch.nn as nn\n",
        "import torch.nn.functional as F\n",
        "from torchvision import datasets, transforms\n",
        "from torch.utils.data import DataLoader\n",
        "import matplotlib.pyplot as plt\n",
        "\n",
        "transform = transforms.ToTensor()\n",
        "\n",
        "train_data = datasets.MNIST(root=\"data\", train=True, transform=transform, download=True)\n",
        "train_loader = DataLoader(train_data, batch_size=128, shuffle=True)\n",
        "\n",
        "class VAE(nn.Module):\n",
        "  def __init__(self, latent_dim=20):\n",
        "    super(VAE, self).__init__()\n",
        "    self.encoder = nn.Sequential(\n",
        "        nn.Flatten(),\n",
        "        nn.Linear(28*28, 400),\n",
        "        nn.ReLU(),\n",
        "    )\n",
        "    self.fc_mu = nn.Linear(400, latent_dim)\n",
        "    self.fc_logvar = nn.Linear(400, latent_dim)\n",
        "\n",
        "    self.decoder = nn.Sequential(\n",
        "        nn.Linear(latent_dim, 400),\n",
        "        nn.ReLU(),\n",
        "        nn.Linear(400, 28*28),\n",
        "        nn.Sigmoid()  # output in [0,1]\n",
        "    )\n",
        "\n",
        "  def reparameterize(self, mu, logvar):\n",
        "    std = torch.exp(0.5 * logvar)\n",
        "    eps = torch.randn_like(std)\n",
        "    return mu + eps * std  # reparameterization trick\n",
        "\n",
        "  def forward(self, x):\n",
        "    x = self.encoder(x)\n",
        "    mu = self.fc_mu(x)\n",
        "    logvar = self.fc_logvar(x)\n",
        "    z = self.reparameterize(mu, logvar)\n",
        "    recon = self.decoder(z)\n",
        "    return recon.view(-1, 1, 28, 28), mu, logvar\n",
        "\n",
        "def loss_function(recon_x, x, mu, logvar):\n",
        "  recon_loss = F.binary_cross_entropy(recon_x, x, reduction='sum')\n",
        "  kl_div = -0.5 * torch.sum(1 + logvar - mu.pow(2) - logvar.exp())\n",
        "  return recon_loss + kl_div\n",
        "\n",
        "device = torch.device(\"cuda\" if torch.cuda.is_available() else \"cpu\")\n",
        "model = VAE(latent_dim=20).to(device)\n",
        "optimizer = torch.optim.Adam(model.parameters(), lr=1e-3)\n",
        "\n",
        "for epoch in range(1, 11):\n",
        "  model.train()\n",
        "  total_loss = 0\n",
        "  for x, _ in train_loader:\n",
        "    x = x.to(device)\n",
        "    recon_x, mu, logvar = model(x)\n",
        "    loss = loss_function(recon_x, x, mu, logvar)\n",
        "\n",
        "    optimizer.zero_grad()\n",
        "    loss.backward()\n",
        "    optimizer.step()\n",
        "\n",
        "    total_loss += loss.item()\n",
        "\n",
        "  print(f\"Epoch {epoch}, Loss: {total_loss/len(train_loader.dataset):.2f}\")\n",
        "\n",
        "model.eval()\n",
        "with torch.no_grad():\n",
        "  x, _ = next(iter(train_loader))\n",
        "  x = x.to(device)\n",
        "  recon_x, _, _ = model(x)\n",
        "\n",
        "  fig, axs = plt.subplots(2, 8, figsize=(12, 3))\n",
        "  for i in range(8):\n",
        "    axs[0, i].imshow(x[i].cpu().squeeze(), cmap=\"gray\")\n",
        "    axs[1, i].imshow(recon_x[i].cpu().squeeze(), cmap=\"gray\")\n",
        "    axs[0, i].axis(\"off\")\n",
        "    axs[1, i].axis(\"off\")\n",
        "  axs[0, 0].set_ylabel(\"Input\")\n",
        "  axs[1, 0].set_ylabel(\"Recon\")\n",
        "  plt.tight_layout()\n",
        "  plt.show()\n"
      ],
      "metadata": {
        "id": "fDhr-9WjxsqF",
        "outputId": "b23b8f56-d861-46a1-ab05-0811893ccdd4",
        "colab": {
          "base_uri": "https://localhost:8080/",
          "height": 514
        }
      },
      "execution_count": null,
      "outputs": [
        {
          "output_type": "stream",
          "name": "stderr",
          "text": [
            "100%|██████████| 9.91M/9.91M [00:00<00:00, 18.2MB/s]\n",
            "100%|██████████| 28.9k/28.9k [00:00<00:00, 486kB/s]\n",
            "100%|██████████| 1.65M/1.65M [00:00<00:00, 4.50MB/s]\n",
            "100%|██████████| 4.54k/4.54k [00:00<00:00, 7.90MB/s]\n"
          ]
        },
        {
          "output_type": "stream",
          "name": "stdout",
          "text": [
            "Epoch 1, Loss: 163.97\n",
            "Epoch 2, Loss: 121.15\n",
            "Epoch 3, Loss: 114.52\n",
            "Epoch 4, Loss: 111.60\n",
            "Epoch 5, Loss: 109.86\n",
            "Epoch 6, Loss: 108.63\n",
            "Epoch 7, Loss: 107.83\n",
            "Epoch 8, Loss: 107.15\n",
            "Epoch 9, Loss: 106.65\n",
            "Epoch 10, Loss: 106.19\n"
          ]
        },
        {
          "output_type": "display_data",
          "data": {
            "text/plain": [
              "<Figure size 1200x300 with 16 Axes>"
            ],
            "image/png": "[encoded data removed]"
          },
          "metadata": {}
        }
      ]
    },
    {
      "cell_type": "markdown",
      "source": [
        "#ResNet"
      ],
      "metadata": {
        "id": "TvpQR6QLotTR"
      }
    },
    {
      "cell_type": "markdown",
      "source": [
        "![img](https://raw.githubusercontent.com/fbeilstein/presentations/master/images/nn_architectures/Resnet18_architecture.svg)"
      ],
      "metadata": {
        "id": "5MViYQNMsRem"
      }
    },
    {
      "cell_type": "markdown",
      "source": [
        "#U-Net"
      ],
      "metadata": {
        "id": "KHRQfm35ou0W"
      }
    },
    {
      "cell_type": "markdown",
      "source": [
        "![img](https://raw.githubusercontent.com/fbeilstein/presentations/master/images/nn_architectures/unet_architecture.png)"
      ],
      "metadata": {
        "id": "OgyHPvl3sYp3"
      }
    },
    {
      "cell_type": "markdown",
      "source": [
        "#VGG-16"
      ],
      "metadata": {
        "id": "OvWx-6FvsgiV"
      }
    },
    {
      "cell_type": "markdown",
      "source": [
        "![img](https://raw.githubusercontent.com/fbeilstein/presentations/master/images/nn_architectures/vgg16_architecture.png)"
      ],
      "metadata": {
        "id": "nnJBKftasiA-"
      }
    },
    {
      "cell_type": "markdown",
      "source": [
        "#FCN-32"
      ],
      "metadata": {
        "id": "ZpsmOWL2sosp"
      }
    },
    {
      "cell_type": "markdown",
      "source": [
        "![img](https://raw.githubusercontent.com/fbeilstein/presentations/master/images/nn_architectures/fcn32_architecture.png)"
      ],
      "metadata": {
        "id": "FaOmwEtgsqXj"
      }
    },
    {
      "cell_type": "markdown",
      "source": [
        "#GAN"
      ],
      "metadata": {
        "id": "Mqrj5O8oo0bE"
      }
    },
    {
      "cell_type": "code",
      "source": [
        "#@title #General Idea\n",
        "%%html\n",
        "<link rel=\"stylesheet\" href=\"https://fbeilstein.github.io/machine_learning/js_common/styles.css\"/>\n",
        "<script src=\"https://fbeilstein.github.io/machine_learning/js_common/script.js\"></script>\n",
        "<script>\n",
        "load_slides_from(\n",
        "[`\n",
        "<img src=\"https://raw.githubusercontent.com/fbeilstein/neural_networks/master/lecture_3_nn_architectures/GAN1.webp\" width=750>\n",
        "`,`\n",
        "<img src=\"https://raw.githubusercontent.com/fbeilstein/neural_networks/master/lecture_3_nn_architectures/GAN2.webp\" width=750>\n",
        "`,`\n",
        "<img src=\"https://raw.githubusercontent.com/fbeilstein/neural_networks/master/lecture_3_nn_architectures/GAN3.webp\" width=750>\n",
        "`])"
      ],
      "metadata": {
        "colab": {
          "base_uri": "https://localhost:8080/",
          "height": 377
        },
        "cellView": "form",
        "id": "BkWn78t8rKuW",
        "outputId": "565a2550-d80b-480a-b610-9e07c89d5ca3"
      },
      "execution_count": null,
      "outputs": [
        {
          "output_type": "display_data",
          "data": {
            "text/plain": [
              "<IPython.core.display.HTML object>"
            ],
            "text/html": [
              "<link rel=\"stylesheet\" href=\"https://fbeilstein.github.io/machine_learning/js_common/styles.css\"/>\n",
              "<script src=\"https://fbeilstein.github.io/machine_learning/js_common/script.js\"></script>\n",
              "<script>\n",
              "load_slides_from(\n",
              "[`\n",
              "<img src=\"https://raw.githubusercontent.com/fbeilstein/neural_networks/master/lecture_3_nn_architectures/GAN1.webp\" width=750>\n",
              "`,`\n",
              "<img src=\"https://raw.githubusercontent.com/fbeilstein/neural_networks/master/lecture_3_nn_architectures/GAN2.webp\" width=750>\n",
              "`,`\n",
              "<img src=\"https://raw.githubusercontent.com/fbeilstein/neural_networks/master/lecture_3_nn_architectures/GAN3.webp\" width=750>\n",
              "`])\n"
            ]
          },
          "metadata": {}
        }
      ]
    },
    {
      "cell_type": "markdown",
      "source": [
        "for details see \"*Generative Adversarial Nets*\" by Ian J. Goodfellow et all.\n",
        "\n",
        "\n",
        "**for** number of training iterations **do**\n",
        "\n",
        "$~~~~$**for** $k$ steps **do**\n",
        "\n",
        "$~~~~$$~~~~$• Sample minibatch of $m$ noise samples $\\{z^{(1)},\\dots,z^{(m)}\\}$ from noise prior $p_g(z)$.\n",
        "\n",
        "$~~~~$$~~~~$• Sample minibatch of $m$ examples $\\{x^{(1)},\\dots,x^{(m)}\\}$ from data generating distribution $p_\\text{data}(x)$.\n",
        "\n",
        "$~~~~$$~~~~$• Update the discriminator by ascending its stochastic gradient:\n",
        "$$\n",
        "\\nabla_{\\theta_d} \\frac{1}{m} \\sum_{i=1}^m \\left[ \\ln D (x^{(i)}) + \\ln \\left( 1 - D(G(z^{(i)})) \\right)\\right]\n",
        "$$\n",
        "$~~~~$**end for**\n",
        "\n",
        "$~~~~$• Sample minibatch of $m$ noise samples $\\{z^{(1)},\\dots,z^{(m)}\\}$ from noise prior $p_g(z)$.\n",
        "\n",
        "$~~~~$• Update the generator by descending its stochastic gradient:\n",
        "$$\n",
        "\\nabla_{\\theta_g} \\frac{1}{m} \\sum_{i=1}^m \\ln \\left( 1 - D(G(z^{(i)})) \\right)\n",
        "$$\n",
        "\n",
        "**end for**"
      ],
      "metadata": {
        "id": "r8BjYgUw-oVh"
      }
    },
    {
      "cell_type": "markdown",
      "source": [
        "$D$ - probability that data is genuine.\n",
        "\n",
        "For perfect discriminator $D(x) = 1$ and $D(G(z)) = 0$. In this case $\\ln D + \\ln(1-D(G)) = 0$ while for any other case $< 0$. **Discriminator maximizes loss**.\n",
        "\n",
        "$G$ - would be perfect if $D(G) = 1$, thus loss would be $-\\infty$. **Generator minimizes loss**\n",
        "\n",
        "$$\n",
        "\\min_G \\max_D \\frac{1}{m} \\sum_{i=1}^m \\left[ \\ln D (x^{(i)}) + \\ln \\left( 1 - D(G(z^{(i)})) \\right)\\right]\n",
        "$$\n",
        "\n",
        "![img](https://upload.wikimedia.org/wikipedia/commons/thumb/1/17/Inter-house_sports-_tug_of_war.jpg/640px-Inter-house_sports-_tug_of_war.jpg)\n",
        "\n",
        "It can be proven that balance is acieved when $D(x) = D(G(z)) = 1/2$, that basically means genuine and generated data are indistinguishable."
      ],
      "metadata": {
        "id": "uuNhexDoFKW9"
      }
    }
  ]
}