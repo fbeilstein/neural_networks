{
  "nbformat": 4,
  "nbformat_minor": 0,
  "metadata": {
    "colab": {
      "provenance": [],
      "runtime_attributes": {
        "runtime_version": "2025.07"
      },
      "gpuType": "T4"
    },
    "kernelspec": {
      "name": "python3",
      "display_name": "Python 3"
    },
    "language_info": {
      "name": "python"
    },
    "widgets": {
      "application/vnd.jupyter.widget-state+json": {
        "9673817eaaad491b9287acb11752b320": {
          "model_module": "@jupyter-widgets/controls",
          "model_name": "HBoxModel",
          "model_module_version": "1.5.0",
          "state": {
            "_dom_classes": [],
            "_model_module": "@jupyter-widgets/controls",
            "_model_module_version": "1.5.0",
            "_model_name": "HBoxModel",
            "_view_count": null,
            "_view_module": "@jupyter-widgets/controls",
            "_view_module_version": "1.5.0",
            "_view_name": "HBoxView",
            "box_style": "",
            "children": [
              "IPY_MODEL_85ea36bff46846269e92d697ea9c439f",
              "IPY_MODEL_8962f680621549f4aa0e49f0700056e3",
              "IPY_MODEL_6aa44bacbda047bfbe7b3e767a87bea7"
            ],
            "layout": "IPY_MODEL_61980944aada4cd9bc17a070ea43cd22"
          }
        },
        "85ea36bff46846269e92d697ea9c439f": {
          "model_module": "@jupyter-widgets/controls",
          "model_name": "HTMLModel",
          "model_module_version": "1.5.0",
          "state": {
            "_dom_classes": [],
            "_model_module": "@jupyter-widgets/controls",
            "_model_module_version": "1.5.0",
            "_model_name": "HTMLModel",
            "_view_count": null,
            "_view_module": "@jupyter-widgets/controls",
            "_view_module_version": "1.5.0",
            "_view_name": "HTMLView",
            "description": "",
            "description_tooltip": null,
            "layout": "IPY_MODEL_257d58cc58294e66afd9583dc09b7bb2",
            "placeholder": "​",
            "style": "IPY_MODEL_58e29b359a734f879f8c052f0ec06507",
            "value": "100%"
          }
        },
        "8962f680621549f4aa0e49f0700056e3": {
          "model_module": "@jupyter-widgets/controls",
          "model_name": "FloatProgressModel",
          "model_module_version": "1.5.0",
          "state": {
            "_dom_classes": [],
            "_model_module": "@jupyter-widgets/controls",
            "_model_module_version": "1.5.0",
            "_model_name": "FloatProgressModel",
            "_view_count": null,
            "_view_module": "@jupyter-widgets/controls",
            "_view_module_version": "1.5.0",
            "_view_name": "ProgressView",
            "bar_style": "success",
            "description": "",
            "description_tooltip": null,
            "layout": "IPY_MODEL_6271e5bfc6564e3f866e0beb509da9d4",
            "max": 3,
            "min": 0,
            "orientation": "horizontal",
            "style": "IPY_MODEL_304145e9493949e499909f3d96a13c5a",
            "value": 3
          }
        },
        "6aa44bacbda047bfbe7b3e767a87bea7": {
          "model_module": "@jupyter-widgets/controls",
          "model_name": "HTMLModel",
          "model_module_version": "1.5.0",
          "state": {
            "_dom_classes": [],
            "_model_module": "@jupyter-widgets/controls",
            "_model_module_version": "1.5.0",
            "_model_name": "HTMLModel",
            "_view_count": null,
            "_view_module": "@jupyter-widgets/controls",
            "_view_module_version": "1.5.0",
            "_view_name": "HTMLView",
            "description": "",
            "description_tooltip": null,
            "layout": "IPY_MODEL_fe44fb0ded2d48ab91867130547c85c6",
            "placeholder": "​",
            "style": "IPY_MODEL_83451d5b96d4409890714c1e4e8fce8c",
            "value": " 3/3 [09:30&lt;00:00, 190.61s/it]"
          }
        },
        "61980944aada4cd9bc17a070ea43cd22": {
          "model_module": "@jupyter-widgets/base",
          "model_name": "LayoutModel",
          "model_module_version": "1.2.0",
          "state": {
            "_model_module": "@jupyter-widgets/base",
            "_model_module_version": "1.2.0",
            "_model_name": "LayoutModel",
            "_view_count": null,
            "_view_module": "@jupyter-widgets/base",
            "_view_module_version": "1.2.0",
            "_view_name": "LayoutView",
            "align_content": null,
            "align_items": null,
            "align_self": null,
            "border": null,
            "bottom": null,
            "display": null,
            "flex": null,
            "flex_flow": null,
            "grid_area": null,
            "grid_auto_columns": null,
            "grid_auto_flow": null,
            "grid_auto_rows": null,
            "grid_column": null,
            "grid_gap": null,
            "grid_row": null,
            "grid_template_areas": null,
            "grid_template_columns": null,
            "grid_template_rows": null,
            "height": null,
            "justify_content": null,
            "justify_items": null,
            "left": null,
            "margin": null,
            "max_height": null,
            "max_width": null,
            "min_height": null,
            "min_width": null,
            "object_fit": null,
            "object_position": null,
            "order": null,
            "overflow": null,
            "overflow_x": null,
            "overflow_y": null,
            "padding": null,
            "right": null,
            "top": null,
            "visibility": null,
            "width": null
          }
        },
        "257d58cc58294e66afd9583dc09b7bb2": {
          "model_module": "@jupyter-widgets/base",
          "model_name": "LayoutModel",
          "model_module_version": "1.2.0",
          "state": {
            "_model_module": "@jupyter-widgets/base",
            "_model_module_version": "1.2.0",
            "_model_name": "LayoutModel",
            "_view_count": null,
            "_view_module": "@jupyter-widgets/base",
            "_view_module_version": "1.2.0",
            "_view_name": "LayoutView",
            "align_content": null,
            "align_items": null,
            "align_self": null,
            "border": null,
            "bottom": null,
            "display": null,
            "flex": null,
            "flex_flow": null,
            "grid_area": null,
            "grid_auto_columns": null,
            "grid_auto_flow": null,
            "grid_auto_rows": null,
            "grid_column": null,
            "grid_gap": null,
            "grid_row": null,
            "grid_template_areas": null,
            "grid_template_columns": null,
            "grid_template_rows": null,
            "height": null,
            "justify_content": null,
            "justify_items": null,
            "left": null,
            "margin": null,
            "max_height": null,
            "max_width": null,
            "min_height": null,
            "min_width": null,
            "object_fit": null,
            "object_position": null,
            "order": null,
            "overflow": null,
            "overflow_x": null,
            "overflow_y": null,
            "padding": null,
            "right": null,
            "top": null,
            "visibility": null,
            "width": null
          }
        },
        "58e29b359a734f879f8c052f0ec06507": {
          "model_module": "@jupyter-widgets/controls",
          "model_name": "DescriptionStyleModel",
          "model_module_version": "1.5.0",
          "state": {
            "_model_module": "@jupyter-widgets/controls",
            "_model_module_version": "1.5.0",
            "_model_name": "DescriptionStyleModel",
            "_view_count": null,
            "_view_module": "@jupyter-widgets/base",
            "_view_module_version": "1.2.0",
            "_view_name": "StyleView",
            "description_width": ""
          }
        },
        "6271e5bfc6564e3f866e0beb509da9d4": {
          "model_module": "@jupyter-widgets/base",
          "model_name": "LayoutModel",
          "model_module_version": "1.2.0",
          "state": {
            "_model_module": "@jupyter-widgets/base",
            "_model_module_version": "1.2.0",
            "_model_name": "LayoutModel",
            "_view_count": null,
            "_view_module": "@jupyter-widgets/base",
            "_view_module_version": "1.2.0",
            "_view_name": "LayoutView",
            "align_content": null,
            "align_items": null,
            "align_self": null,
            "border": null,
            "bottom": null,
            "display": null,
            "flex": null,
            "flex_flow": null,
            "grid_area": null,
            "grid_auto_columns": null,
            "grid_auto_flow": null,
            "grid_auto_rows": null,
            "grid_column": null,
            "grid_gap": null,
            "grid_row": null,
            "grid_template_areas": null,
            "grid_template_columns": null,
            "grid_template_rows": null,
            "height": null,
            "justify_content": null,
            "justify_items": null,
            "left": null,
            "margin": null,
            "max_height": null,
            "max_width": null,
            "min_height": null,
            "min_width": null,
            "object_fit": null,
            "object_position": null,
            "order": null,
            "overflow": null,
            "overflow_x": null,
            "overflow_y": null,
            "padding": null,
            "right": null,
            "top": null,
            "visibility": null,
            "width": null
          }
        },
        "304145e9493949e499909f3d96a13c5a": {
          "model_module": "@jupyter-widgets/controls",
          "model_name": "ProgressStyleModel",
          "model_module_version": "1.5.0",
          "state": {
            "_model_module": "@jupyter-widgets/controls",
            "_model_module_version": "1.5.0",
            "_model_name": "ProgressStyleModel",
            "_view_count": null,
            "_view_module": "@jupyter-widgets/base",
            "_view_module_version": "1.2.0",
            "_view_name": "StyleView",
            "bar_color": null,
            "description_width": ""
          }
        },
        "fe44fb0ded2d48ab91867130547c85c6": {
          "model_module": "@jupyter-widgets/base",
          "model_name": "LayoutModel",
          "model_module_version": "1.2.0",
          "state": {
            "_model_module": "@jupyter-widgets/base",
            "_model_module_version": "1.2.0",
            "_model_name": "LayoutModel",
            "_view_count": null,
            "_view_module": "@jupyter-widgets/base",
            "_view_module_version": "1.2.0",
            "_view_name": "LayoutView",
            "align_content": null,
            "align_items": null,
            "align_self": null,
            "border": null,
            "bottom": null,
            "display": null,
            "flex": null,
            "flex_flow": null,
            "grid_area": null,
            "grid_auto_columns": null,
            "grid_auto_flow": null,
            "grid_auto_rows": null,
            "grid_column": null,
            "grid_gap": null,
            "grid_row": null,
            "grid_template_areas": null,
            "grid_template_columns": null,
            "grid_template_rows": null,
            "height": null,
            "justify_content": null,
            "justify_items": null,
            "left": null,
            "margin": null,
            "max_height": null,
            "max_width": null,
            "min_height": null,
            "min_width": null,
            "object_fit": null,
            "object_position": null,
            "order": null,
            "overflow": null,
            "overflow_x": null,
            "overflow_y": null,
            "padding": null,
            "right": null,
            "top": null,
            "visibility": null,
            "width": null
          }
        },
        "83451d5b96d4409890714c1e4e8fce8c": {
          "model_module": "@jupyter-widgets/controls",
          "model_name": "DescriptionStyleModel",
          "model_module_version": "1.5.0",
          "state": {
            "_model_module": "@jupyter-widgets/controls",
            "_model_module_version": "1.5.0",
            "_model_name": "DescriptionStyleModel",
            "_view_count": null,
            "_view_module": "@jupyter-widgets/base",
            "_view_module_version": "1.2.0",
            "_view_name": "StyleView",
            "description_width": ""
          }
        },
        "607845cb511e48d6b10a91d7e67f623d": {
          "model_module": "@jupyter-widgets/controls",
          "model_name": "HBoxModel",
          "model_module_version": "1.5.0",
          "state": {
            "_dom_classes": [],
            "_model_module": "@jupyter-widgets/controls",
            "_model_module_version": "1.5.0",
            "_model_name": "HBoxModel",
            "_view_count": null,
            "_view_module": "@jupyter-widgets/controls",
            "_view_module_version": "1.5.0",
            "_view_name": "HBoxView",
            "box_style": "",
            "children": [
              "IPY_MODEL_1f25aecae91e4b7aa3fead7b4baac926",
              "IPY_MODEL_b84583b20ae34b01bda991ea5cd655ac"
            ],
            "layout": "IPY_MODEL_c7203aef6957450884a80c76d3925df3"
          }
        },
        "1f25aecae91e4b7aa3fead7b4baac926": {
          "model_module": "@jupyter-widgets/controls",
          "model_name": "ButtonModel",
          "model_module_version": "1.5.0",
          "state": {
            "_dom_classes": [],
            "_model_module": "@jupyter-widgets/controls",
            "_model_module_version": "1.5.0",
            "_model_name": "ButtonModel",
            "_view_count": null,
            "_view_module": "@jupyter-widgets/controls",
            "_view_module_version": "1.5.0",
            "_view_name": "ButtonView",
            "button_style": "",
            "description": "Next",
            "disabled": false,
            "icon": "",
            "layout": "IPY_MODEL_79aa786a7b0b48cfaf5bd3e20034f573",
            "style": "IPY_MODEL_c1a8853f06b9495b84681af4fdf3d167",
            "tooltip": ""
          }
        },
        "b84583b20ae34b01bda991ea5cd655ac": {
          "model_module": "@jupyter-widgets/controls",
          "model_name": "ButtonModel",
          "model_module_version": "1.5.0",
          "state": {
            "_dom_classes": [],
            "_model_module": "@jupyter-widgets/controls",
            "_model_module_version": "1.5.0",
            "_model_name": "ButtonModel",
            "_view_count": null,
            "_view_module": "@jupyter-widgets/controls",
            "_view_module_version": "1.5.0",
            "_view_name": "ButtonView",
            "button_style": "",
            "description": "Previous",
            "disabled": false,
            "icon": "",
            "layout": "IPY_MODEL_e2e31bd9c0ca415b8cdce1498b8d1bd5",
            "style": "IPY_MODEL_02adff09af3f446e836ad9ee6d93dcb6",
            "tooltip": ""
          }
        },
        "c7203aef6957450884a80c76d3925df3": {
          "model_module": "@jupyter-widgets/base",
          "model_name": "LayoutModel",
          "model_module_version": "1.2.0",
          "state": {
            "_model_module": "@jupyter-widgets/base",
            "_model_module_version": "1.2.0",
            "_model_name": "LayoutModel",
            "_view_count": null,
            "_view_module": "@jupyter-widgets/base",
            "_view_module_version": "1.2.0",
            "_view_name": "LayoutView",
            "align_content": null,
            "align_items": null,
            "align_self": null,
            "border": null,
            "bottom": null,
            "display": null,
            "flex": null,
            "flex_flow": null,
            "grid_area": null,
            "grid_auto_columns": null,
            "grid_auto_flow": null,
            "grid_auto_rows": null,
            "grid_column": null,
            "grid_gap": null,
            "grid_row": null,
            "grid_template_areas": null,
            "grid_template_columns": null,
            "grid_template_rows": null,
            "height": null,
            "justify_content": null,
            "justify_items": null,
            "left": null,
            "margin": null,
            "max_height": null,
            "max_width": null,
            "min_height": null,
            "min_width": null,
            "object_fit": null,
            "object_position": null,
            "order": null,
            "overflow": null,
            "overflow_x": null,
            "overflow_y": null,
            "padding": null,
            "right": null,
            "top": null,
            "visibility": null,
            "width": null
          }
        },
        "79aa786a7b0b48cfaf5bd3e20034f573": {
          "model_module": "@jupyter-widgets/base",
          "model_name": "LayoutModel",
          "model_module_version": "1.2.0",
          "state": {
            "_model_module": "@jupyter-widgets/base",
            "_model_module_version": "1.2.0",
            "_model_name": "LayoutModel",
            "_view_count": null,
            "_view_module": "@jupyter-widgets/base",
            "_view_module_version": "1.2.0",
            "_view_name": "LayoutView",
            "align_content": null,
            "align_items": null,
            "align_self": null,
            "border": null,
            "bottom": null,
            "display": null,
            "flex": null,
            "flex_flow": null,
            "grid_area": null,
            "grid_auto_columns": null,
            "grid_auto_flow": null,
            "grid_auto_rows": null,
            "grid_column": null,
            "grid_gap": null,
            "grid_row": null,
            "grid_template_areas": null,
            "grid_template_columns": null,
            "grid_template_rows": null,
            "height": null,
            "justify_content": null,
            "justify_items": null,
            "left": null,
            "margin": null,
            "max_height": null,
            "max_width": null,
            "min_height": null,
            "min_width": null,
            "object_fit": null,
            "object_position": null,
            "order": null,
            "overflow": null,
            "overflow_x": null,
            "overflow_y": null,
            "padding": null,
            "right": null,
            "top": null,
            "visibility": null,
            "width": null
          }
        },
        "c1a8853f06b9495b84681af4fdf3d167": {
          "model_module": "@jupyter-widgets/controls",
          "model_name": "ButtonStyleModel",
          "model_module_version": "1.5.0",
          "state": {
            "_model_module": "@jupyter-widgets/controls",
            "_model_module_version": "1.5.0",
            "_model_name": "ButtonStyleModel",
            "_view_count": null,
            "_view_module": "@jupyter-widgets/base",
            "_view_module_version": "1.2.0",
            "_view_name": "StyleView",
            "button_color": null,
            "font_weight": ""
          }
        },
        "e2e31bd9c0ca415b8cdce1498b8d1bd5": {
          "model_module": "@jupyter-widgets/base",
          "model_name": "LayoutModel",
          "model_module_version": "1.2.0",
          "state": {
            "_model_module": "@jupyter-widgets/base",
            "_model_module_version": "1.2.0",
            "_model_name": "LayoutModel",
            "_view_count": null,
            "_view_module": "@jupyter-widgets/base",
            "_view_module_version": "1.2.0",
            "_view_name": "LayoutView",
            "align_content": null,
            "align_items": null,
            "align_self": null,
            "border": null,
            "bottom": null,
            "display": null,
            "flex": null,
            "flex_flow": null,
            "grid_area": null,
            "grid_auto_columns": null,
            "grid_auto_flow": null,
            "grid_auto_rows": null,
            "grid_column": null,
            "grid_gap": null,
            "grid_row": null,
            "grid_template_areas": null,
            "grid_template_columns": null,
            "grid_template_rows": null,
            "height": null,
            "justify_content": null,
            "justify_items": null,
            "left": null,
            "margin": null,
            "max_height": null,
            "max_width": null,
            "min_height": null,
            "min_width": null,
            "object_fit": null,
            "object_position": null,
            "order": null,
            "overflow": null,
            "overflow_x": null,
            "overflow_y": null,
            "padding": null,
            "right": null,
            "top": null,
            "visibility": null,
            "width": null
          }
        },
        "02adff09af3f446e836ad9ee6d93dcb6": {
          "model_module": "@jupyter-widgets/controls",
          "model_name": "ButtonStyleModel",
          "model_module_version": "1.5.0",
          "state": {
            "_model_module": "@jupyter-widgets/controls",
            "_model_module_version": "1.5.0",
            "_model_name": "ButtonStyleModel",
            "_view_count": null,
            "_view_module": "@jupyter-widgets/base",
            "_view_module_version": "1.2.0",
            "_view_name": "StyleView",
            "button_color": null,
            "font_weight": ""
          }
        },
        "3c0dceb619af465fbb9f64432e6ca1a8": {
          "model_module": "@jupyter-widgets/controls",
          "model_name": "HBoxModel",
          "model_module_version": "1.5.0",
          "state": {
            "_dom_classes": [],
            "_model_module": "@jupyter-widgets/controls",
            "_model_module_version": "1.5.0",
            "_model_name": "HBoxModel",
            "_view_count": null,
            "_view_module": "@jupyter-widgets/controls",
            "_view_module_version": "1.5.0",
            "_view_name": "HBoxView",
            "box_style": "",
            "children": [
              "IPY_MODEL_4ef00bb50f6f46e6bda1e0b9c9ce5b73",
              "IPY_MODEL_4e6f34a51bd44f64afcb7b0803997077"
            ],
            "layout": "IPY_MODEL_9a79b4e20d7e4c82bbec8ecb224994df"
          }
        },
        "4ef00bb50f6f46e6bda1e0b9c9ce5b73": {
          "model_module": "@jupyter-widgets/controls",
          "model_name": "ButtonModel",
          "model_module_version": "1.5.0",
          "state": {
            "_dom_classes": [],
            "_model_module": "@jupyter-widgets/controls",
            "_model_module_version": "1.5.0",
            "_model_name": "ButtonModel",
            "_view_count": null,
            "_view_module": "@jupyter-widgets/controls",
            "_view_module_version": "1.5.0",
            "_view_name": "ButtonView",
            "button_style": "",
            "description": "Next",
            "disabled": false,
            "icon": "",
            "layout": "IPY_MODEL_0ea4d9cafef9414892f028c165878153",
            "style": "IPY_MODEL_86f8a9a8e7bc442dacde9bd11f7513e1",
            "tooltip": ""
          }
        },
        "4e6f34a51bd44f64afcb7b0803997077": {
          "model_module": "@jupyter-widgets/controls",
          "model_name": "ButtonModel",
          "model_module_version": "1.5.0",
          "state": {
            "_dom_classes": [],
            "_model_module": "@jupyter-widgets/controls",
            "_model_module_version": "1.5.0",
            "_model_name": "ButtonModel",
            "_view_count": null,
            "_view_module": "@jupyter-widgets/controls",
            "_view_module_version": "1.5.0",
            "_view_name": "ButtonView",
            "button_style": "",
            "description": "Previous",
            "disabled": false,
            "icon": "",
            "layout": "IPY_MODEL_2acbc928792045ae93b863961f52c3d3",
            "style": "IPY_MODEL_7ceef6a985464a27a32893e5239c3fd4",
            "tooltip": ""
          }
        },
        "9a79b4e20d7e4c82bbec8ecb224994df": {
          "model_module": "@jupyter-widgets/base",
          "model_name": "LayoutModel",
          "model_module_version": "1.2.0",
          "state": {
            "_model_module": "@jupyter-widgets/base",
            "_model_module_version": "1.2.0",
            "_model_name": "LayoutModel",
            "_view_count": null,
            "_view_module": "@jupyter-widgets/base",
            "_view_module_version": "1.2.0",
            "_view_name": "LayoutView",
            "align_content": null,
            "align_items": null,
            "align_self": null,
            "border": null,
            "bottom": null,
            "display": null,
            "flex": null,
            "flex_flow": null,
            "grid_area": null,
            "grid_auto_columns": null,
            "grid_auto_flow": null,
            "grid_auto_rows": null,
            "grid_column": null,
            "grid_gap": null,
            "grid_row": null,
            "grid_template_areas": null,
            "grid_template_columns": null,
            "grid_template_rows": null,
            "height": null,
            "justify_content": null,
            "justify_items": null,
            "left": null,
            "margin": null,
            "max_height": null,
            "max_width": null,
            "min_height": null,
            "min_width": null,
            "object_fit": null,
            "object_position": null,
            "order": null,
            "overflow": null,
            "overflow_x": null,
            "overflow_y": null,
            "padding": null,
            "right": null,
            "top": null,
            "visibility": null,
            "width": null
          }
        },
        "0ea4d9cafef9414892f028c165878153": {
          "model_module": "@jupyter-widgets/base",
          "model_name": "LayoutModel",
          "model_module_version": "1.2.0",
          "state": {
            "_model_module": "@jupyter-widgets/base",
            "_model_module_version": "1.2.0",
            "_model_name": "LayoutModel",
            "_view_count": null,
            "_view_module": "@jupyter-widgets/base",
            "_view_module_version": "1.2.0",
            "_view_name": "LayoutView",
            "align_content": null,
            "align_items": null,
            "align_self": null,
            "border": null,
            "bottom": null,
            "display": null,
            "flex": null,
            "flex_flow": null,
            "grid_area": null,
            "grid_auto_columns": null,
            "grid_auto_flow": null,
            "grid_auto_rows": null,
            "grid_column": null,
            "grid_gap": null,
            "grid_row": null,
            "grid_template_areas": null,
            "grid_template_columns": null,
            "grid_template_rows": null,
            "height": null,
            "justify_content": null,
            "justify_items": null,
            "left": null,
            "margin": null,
            "max_height": null,
            "max_width": null,
            "min_height": null,
            "min_width": null,
            "object_fit": null,
            "object_position": null,
            "order": null,
            "overflow": null,
            "overflow_x": null,
            "overflow_y": null,
            "padding": null,
            "right": null,
            "top": null,
            "visibility": null,
            "width": null
          }
        },
        "86f8a9a8e7bc442dacde9bd11f7513e1": {
          "model_module": "@jupyter-widgets/controls",
          "model_name": "ButtonStyleModel",
          "model_module_version": "1.5.0",
          "state": {
            "_model_module": "@jupyter-widgets/controls",
            "_model_module_version": "1.5.0",
            "_model_name": "ButtonStyleModel",
            "_view_count": null,
            "_view_module": "@jupyter-widgets/base",
            "_view_module_version": "1.2.0",
            "_view_name": "StyleView",
            "button_color": null,
            "font_weight": ""
          }
        },
        "2acbc928792045ae93b863961f52c3d3": {
          "model_module": "@jupyter-widgets/base",
          "model_name": "LayoutModel",
          "model_module_version": "1.2.0",
          "state": {
            "_model_module": "@jupyter-widgets/base",
            "_model_module_version": "1.2.0",
            "_model_name": "LayoutModel",
            "_view_count": null,
            "_view_module": "@jupyter-widgets/base",
            "_view_module_version": "1.2.0",
            "_view_name": "LayoutView",
            "align_content": null,
            "align_items": null,
            "align_self": null,
            "border": null,
            "bottom": null,
            "display": null,
            "flex": null,
            "flex_flow": null,
            "grid_area": null,
            "grid_auto_columns": null,
            "grid_auto_flow": null,
            "grid_auto_rows": null,
            "grid_column": null,
            "grid_gap": null,
            "grid_row": null,
            "grid_template_areas": null,
            "grid_template_columns": null,
            "grid_template_rows": null,
            "height": null,
            "justify_content": null,
            "justify_items": null,
            "left": null,
            "margin": null,
            "max_height": null,
            "max_width": null,
            "min_height": null,
            "min_width": null,
            "object_fit": null,
            "object_position": null,
            "order": null,
            "overflow": null,
            "overflow_x": null,
            "overflow_y": null,
            "padding": null,
            "right": null,
            "top": null,
            "visibility": null,
            "width": null
          }
        },
        "7ceef6a985464a27a32893e5239c3fd4": {
          "model_module": "@jupyter-widgets/controls",
          "model_name": "ButtonStyleModel",
          "model_module_version": "1.5.0",
          "state": {
            "_model_module": "@jupyter-widgets/controls",
            "_model_module_version": "1.5.0",
            "_model_name": "ButtonStyleModel",
            "_view_count": null,
            "_view_module": "@jupyter-widgets/base",
            "_view_module_version": "1.2.0",
            "_view_name": "StyleView",
            "button_color": null,
            "font_weight": ""
          }
        },
        "a3efc585727345a19ebf974ec97c8d42": {
          "model_module": "@jupyter-widgets/controls",
          "model_name": "HBoxModel",
          "model_module_version": "1.5.0",
          "state": {
            "_dom_classes": [],
            "_model_module": "@jupyter-widgets/controls",
            "_model_module_version": "1.5.0",
            "_model_name": "HBoxModel",
            "_view_count": null,
            "_view_module": "@jupyter-widgets/controls",
            "_view_module_version": "1.5.0",
            "_view_name": "HBoxView",
            "box_style": "",
            "children": [
              "IPY_MODEL_ff31ea31d90a4353a6f8b7822b51a8e8",
              "IPY_MODEL_e6c9490fee1c4c479d6f6ae1c268eaea"
            ],
            "layout": "IPY_MODEL_f2495d4f76ff491399e5a01857b79a3c"
          }
        },
        "ff31ea31d90a4353a6f8b7822b51a8e8": {
          "model_module": "@jupyter-widgets/controls",
          "model_name": "ButtonModel",
          "model_module_version": "1.5.0",
          "state": {
            "_dom_classes": [],
            "_model_module": "@jupyter-widgets/controls",
            "_model_module_version": "1.5.0",
            "_model_name": "ButtonModel",
            "_view_count": null,
            "_view_module": "@jupyter-widgets/controls",
            "_view_module_version": "1.5.0",
            "_view_name": "ButtonView",
            "button_style": "",
            "description": "Next",
            "disabled": false,
            "icon": "",
            "layout": "IPY_MODEL_21ce86249b6d41f39e50ca9390bec463",
            "style": "IPY_MODEL_d0b8cd4759cd421a9f55bee5dacbe390",
            "tooltip": ""
          }
        },
        "e6c9490fee1c4c479d6f6ae1c268eaea": {
          "model_module": "@jupyter-widgets/controls",
          "model_name": "ButtonModel",
          "model_module_version": "1.5.0",
          "state": {
            "_dom_classes": [],
            "_model_module": "@jupyter-widgets/controls",
            "_model_module_version": "1.5.0",
            "_model_name": "ButtonModel",
            "_view_count": null,
            "_view_module": "@jupyter-widgets/controls",
            "_view_module_version": "1.5.0",
            "_view_name": "ButtonView",
            "button_style": "",
            "description": "Previous",
            "disabled": false,
            "icon": "",
            "layout": "IPY_MODEL_c7acaae57e674814b1b6d5994fe142d4",
            "style": "IPY_MODEL_af457b97343840eba14e91e92a739745",
            "tooltip": ""
          }
        },
        "f2495d4f76ff491399e5a01857b79a3c": {
          "model_module": "@jupyter-widgets/base",
          "model_name": "LayoutModel",
          "model_module_version": "1.2.0",
          "state": {
            "_model_module": "@jupyter-widgets/base",
            "_model_module_version": "1.2.0",
            "_model_name": "LayoutModel",
            "_view_count": null,
            "_view_module": "@jupyter-widgets/base",
            "_view_module_version": "1.2.0",
            "_view_name": "LayoutView",
            "align_content": null,
            "align_items": null,
            "align_self": null,
            "border": null,
            "bottom": null,
            "display": null,
            "flex": null,
            "flex_flow": null,
            "grid_area": null,
            "grid_auto_columns": null,
            "grid_auto_flow": null,
            "grid_auto_rows": null,
            "grid_column": null,
            "grid_gap": null,
            "grid_row": null,
            "grid_template_areas": null,
            "grid_template_columns": null,
            "grid_template_rows": null,
            "height": null,
            "justify_content": null,
            "justify_items": null,
            "left": null,
            "margin": null,
            "max_height": null,
            "max_width": null,
            "min_height": null,
            "min_width": null,
            "object_fit": null,
            "object_position": null,
            "order": null,
            "overflow": null,
            "overflow_x": null,
            "overflow_y": null,
            "padding": null,
            "right": null,
            "top": null,
            "visibility": null,
            "width": null
          }
        },
        "21ce86249b6d41f39e50ca9390bec463": {
          "model_module": "@jupyter-widgets/base",
          "model_name": "LayoutModel",
          "model_module_version": "1.2.0",
          "state": {
            "_model_module": "@jupyter-widgets/base",
            "_model_module_version": "1.2.0",
            "_model_name": "LayoutModel",
            "_view_count": null,
            "_view_module": "@jupyter-widgets/base",
            "_view_module_version": "1.2.0",
            "_view_name": "LayoutView",
            "align_content": null,
            "align_items": null,
            "align_self": null,
            "border": null,
            "bottom": null,
            "display": null,
            "flex": null,
            "flex_flow": null,
            "grid_area": null,
            "grid_auto_columns": null,
            "grid_auto_flow": null,
            "grid_auto_rows": null,
            "grid_column": null,
            "grid_gap": null,
            "grid_row": null,
            "grid_template_areas": null,
            "grid_template_columns": null,
            "grid_template_rows": null,
            "height": null,
            "justify_content": null,
            "justify_items": null,
            "left": null,
            "margin": null,
            "max_height": null,
            "max_width": null,
            "min_height": null,
            "min_width": null,
            "object_fit": null,
            "object_position": null,
            "order": null,
            "overflow": null,
            "overflow_x": null,
            "overflow_y": null,
            "padding": null,
            "right": null,
            "top": null,
            "visibility": null,
            "width": null
          }
        },
        "d0b8cd4759cd421a9f55bee5dacbe390": {
          "model_module": "@jupyter-widgets/controls",
          "model_name": "ButtonStyleModel",
          "model_module_version": "1.5.0",
          "state": {
            "_model_module": "@jupyter-widgets/controls",
            "_model_module_version": "1.5.0",
            "_model_name": "ButtonStyleModel",
            "_view_count": null,
            "_view_module": "@jupyter-widgets/base",
            "_view_module_version": "1.2.0",
            "_view_name": "StyleView",
            "button_color": null,
            "font_weight": ""
          }
        },
        "c7acaae57e674814b1b6d5994fe142d4": {
          "model_module": "@jupyter-widgets/base",
          "model_name": "LayoutModel",
          "model_module_version": "1.2.0",
          "state": {
            "_model_module": "@jupyter-widgets/base",
            "_model_module_version": "1.2.0",
            "_model_name": "LayoutModel",
            "_view_count": null,
            "_view_module": "@jupyter-widgets/base",
            "_view_module_version": "1.2.0",
            "_view_name": "LayoutView",
            "align_content": null,
            "align_items": null,
            "align_self": null,
            "border": null,
            "bottom": null,
            "display": null,
            "flex": null,
            "flex_flow": null,
            "grid_area": null,
            "grid_auto_columns": null,
            "grid_auto_flow": null,
            "grid_auto_rows": null,
            "grid_column": null,
            "grid_gap": null,
            "grid_row": null,
            "grid_template_areas": null,
            "grid_template_columns": null,
            "grid_template_rows": null,
            "height": null,
            "justify_content": null,
            "justify_items": null,
            "left": null,
            "margin": null,
            "max_height": null,
            "max_width": null,
            "min_height": null,
            "min_width": null,
            "object_fit": null,
            "object_position": null,
            "order": null,
            "overflow": null,
            "overflow_x": null,
            "overflow_y": null,
            "padding": null,
            "right": null,
            "top": null,
            "visibility": null,
            "width": null
          }
        },
        "af457b97343840eba14e91e92a739745": {
          "model_module": "@jupyter-widgets/controls",
          "model_name": "ButtonStyleModel",
          "model_module_version": "1.5.0",
          "state": {
            "_model_module": "@jupyter-widgets/controls",
            "_model_module_version": "1.5.0",
            "_model_name": "ButtonStyleModel",
            "_view_count": null,
            "_view_module": "@jupyter-widgets/base",
            "_view_module_version": "1.2.0",
            "_view_name": "StyleView",
            "button_color": null,
            "font_weight": ""
          }
        }
      }
    },
    "accelerator": "GPU"
  },
  "cells": [
    {
      "cell_type": "code",
      "source": [
        "# Very long ~20 mins\n",
        "# Runtime restarts after install\n",
        "\n",
        "!pip install -q poetry\n",
        "!poetry config virtualenvs.create false\n",
        "!poetry env use 3.11.13\n",
        "!poetry init --no-interaction\n",
        "!poetry add torch torchmetrics torchinfo torchview torchvision\\\n",
        " onnx==1.14.0 onnxruntime onnx-tf\\\n",
        " tensorflow==2.15 tensorflow-probability==0.23.0 tflite-runtime keras==2.15 --python 3.11\n",
        "\n",
        "import os\n",
        "os.kill(os.getpid(), 9)"
      ],
      "metadata": {
        "id": "Xs-SanaDRA3M",
        "colab": {
          "base_uri": "https://localhost:8080/"
        },
        "outputId": "432211e5-d1d8-498d-9f01-9b74b8da5137"
      },
      "execution_count": null,
      "outputs": [
        {
          "output_type": "stream",
          "name": "stdout",
          "text": [
            "\u001b[30;43mSkipping virtualenv creation, as specified in config file.\u001b[39;49m\n",
            "\n",
            "\u001b[31;1m[Errno 2] No such file or directory: '/root/.cache/pypoetry/virtualenvs/envs.toml'\u001b[39;22m\n",
            "\u001b[31;1mA pyproject.toml file with a project and/or a poetry section already exists.\u001b[39;22m\n",
            "\u001b[30;43mSkipping virtualenv creation, as specified in config file.\u001b[39;49m\n",
            "The following packages are already present in the pyproject.toml and will be skipped:\n",
            "\n",
            "  - \u001b[36mtorch\u001b[39m\n",
            "  - \u001b[36mtorchmetrics\u001b[39m\n",
            "  - \u001b[36mtorchinfo\u001b[39m\n",
            "  - \u001b[36mtorchview\u001b[39m\n",
            "  - \u001b[36mtorchvision\u001b[39m\n",
            "  - \u001b[36monnxruntime\u001b[39m\n",
            "  - \u001b[36monnx-tf\u001b[39m\n",
            "  - \u001b[36mtflite-runtime\u001b[39m\n",
            "\n",
            "If you want to update it to the latest compatible version, you can use `poetry update package`.\n",
            "If you prefer to upgrade it to the latest available version, you can use `poetry add package@latest`.\n",
            "\n",
            "\n",
            "\u001b[34mUpdating dependencies\u001b[39m\n",
            "\u001b[2K\u001b[34mResolving dependencies...\u001b[39m \u001b[39;2m(0.3s)\u001b[39;22m\n",
            "\n",
            "No dependencies to install or update\n"
          ]
        }
      ]
    },
    {
      "cell_type": "code",
      "source": [],
      "metadata": {
        "id": "GR4xkf7GPTr6"
      },
      "execution_count": null,
      "outputs": []
    },
    {
      "cell_type": "code",
      "source": [
        "#@title General purpose (train)\n",
        "import torch\n",
        "from torch import nn\n",
        "\n",
        "def train_step(model: torch.nn.Module,\n",
        "               data_loader: torch.utils.data.DataLoader,\n",
        "               loss_fn: torch.nn.Module,\n",
        "               optimizer: torch.optim.Optimizer,\n",
        "               accuracy_fn,\n",
        "               device: torch.device):\n",
        "  \"\"\"Performs a training with model trying to learn on data_loader\"\"\"\n",
        "  train_loss, train_acc = 0, 0\n",
        "  model.train()\n",
        "  for batch, (X, y) in enumerate(data_loader):\n",
        "    X, y = X.to(device), y.to(device)\n",
        "    y_pred = model(X)\n",
        "    loss = loss_fn(y_pred, y)\n",
        "    acc = accuracy_fn(y, y_pred.argmax(dim=1))\n",
        "    train_loss += loss\n",
        "    train_acc += acc\n",
        "    optimizer.zero_grad()\n",
        "    loss.backward()\n",
        "    optimizer.step()\n",
        "\n",
        "  train_loss /= len(data_loader)\n",
        "  train_acc /= len(data_loader)\n",
        "  #print(f\"Train loss: {train_loss:.5f} | Train acc: {train_acc:.2f}\")\n",
        "  return train_loss, train_acc\n",
        "\n",
        "def test_step(model: torch.nn.Module,\n",
        "               data_loader: torch.utils.data.DataLoader,\n",
        "               loss_fn: torch.nn.Module,\n",
        "               accuracy_fn,\n",
        "               device: torch.device):\n",
        "  \"\"\"Performs a testing with model\"\"\"\n",
        "  test_loss, test_acc = 0, 0\n",
        "  model.eval()\n",
        "  with torch.inference_mode():\n",
        "    for (X, y) in data_loader:\n",
        "      X, y = X.to(device), y.to(device)\n",
        "      test_pred = model(X)\n",
        "      test_loss += loss_fn(test_pred, y)\n",
        "      test_acc += accuracy_fn(y, test_pred.argmax(dim=1))\n",
        "\n",
        "    test_loss /= len(data_loader)\n",
        "    test_acc /= len(data_loader)\n",
        "    #print(f\"Test loss: {test_loss:.5f} | Test acc: {test_acc:.2f}\\n\")\n",
        "  return test_loss, test_acc\n",
        "\n",
        "def model_estim(model, epochs, train_dataloader, test_dataloader, loss_fn, optimizer, accuracy_fn, device):\n",
        "  train_losses, test_losses = [], []\n",
        "  train_accs, test_accs = [], []\n",
        "\n",
        "  for epoch in tqdm(range(epochs)):\n",
        "    train_loss, train_acc = train_step(model=model,\n",
        "              data_loader=train_dataloader,\n",
        "              loss_fn=loss_fn,\n",
        "              optimizer=optimizer,\n",
        "              accuracy_fn=accuracy_fn,\n",
        "              device=device)\n",
        "    test_loss, test_acc = test_step(model=model,\n",
        "              data_loader=test_dataloader,\n",
        "              loss_fn=loss_fn,\n",
        "              accuracy_fn=accuracy_fn,\n",
        "              device=device)\n",
        "    train_losses.append(train_loss.detach().cpu())\n",
        "    test_losses.append(test_loss.detach().cpu())\n",
        "    train_accs.append(train_acc.detach().cpu())\n",
        "    test_accs.append(test_acc.detach().cpu())\n",
        "  return train_losses, test_losses, train_accs, test_accs\n",
        "\n",
        "from timeit import default_timer as timer\n",
        "def train_model(model, epochs, train_dataloader, test_dataloader, loss_fn, optimizer, accuracy_fn, device):\n",
        "  start_time = timer()\n",
        "  train_losses, test_losses, train_accs, test_accs = model_estim(model=model,\n",
        "                                                                 epochs=epochs,\n",
        "                                                                 train_dataloader=train_dataloader,\n",
        "                                                                 test_dataloader=test_dataloader,\n",
        "                                                                 loss_fn=loss_fn,\n",
        "                                                                 optimizer=optimizer,\n",
        "                                                                 accuracy_fn=accuracy_fn,\n",
        "                                                                 device=device)\n",
        "\n",
        "  end_time = timer()\n",
        "  total_training_time_model_1 = print(f\"\\nTrain time on {device}: {(end_time - start_time):.3f} seconds\")\n",
        "\n",
        "  epochs_ = np.array(range(epochs))\n",
        "  fig, axes = plt.subplots(1, 2, figsize=(12, 5))\n",
        "\n",
        "  axes[0].plot(epochs_, np.array(train_losses), label=\"train\", color=\"red\")\n",
        "  axes[0].plot(epochs_, np.array(test_losses), label=\"test\", color=\"blue\")\n",
        "  axes[0].set_title('Train and test loss')\n",
        "  axes[0].set_xlabel('Epoch')\n",
        "  axes[0].set_ylabel('Loss')\n",
        "  axes[0].set_xticks(epochs_)\n",
        "  axes[0].legend()\n",
        "\n",
        "  axes[1].plot(epochs_, np.array(train_accs), label=\"train\", color=\"red\")\n",
        "  axes[1].plot(epochs_, np.array(test_accs), label=\"test\", color=\"blue\")\n",
        "  axes[1].set_title('Train and test accuracy')\n",
        "  axes[1].set_xlabel('Epoch')\n",
        "  axes[1].set_ylabel('Loss')\n",
        "  axes[1].set_xticks(epochs_)\n",
        "  axes[1].legend()\n",
        "  plt.show()\n",
        "  torch.save(obj=model_1.state_dict(), f='EMNIST_recognition.pth')\n"
      ],
      "metadata": {
        "id": "MGnCyyyPJtXe"
      },
      "execution_count": null,
      "outputs": []
    },
    {
      "cell_type": "code",
      "source": [
        "#@title General purpose (visualisation, save, load)\n",
        "import numpy as np\n",
        "import torch\n",
        "from torchmetrics import ConfusionMatrix\n",
        "import matplotlib.pyplot as plt\n",
        "import torch.nn as nn\n",
        "import onnx\n",
        "from onnx_tf.backend import prepare\n",
        "import tensorflow as tf\n",
        "from torchvision import datasets\n",
        "from torchvision.transforms import ToTensor\n",
        "\n",
        "\n",
        "def get_conf_mat_torch(model_):\n",
        "  y_preds = []\n",
        "  model_.eval()\n",
        "  with torch.inference_mode():\n",
        "    for X,y in test_dataloader:\n",
        "      X,y = X.to(device), y.to(device)\n",
        "      y_logit = model_(X)\n",
        "      y_pred = y_logit.argmax(dim=1)\n",
        "      y_preds.append(y_pred.cpu())\n",
        "\n",
        "  y_pred_tensor = torch.cat(y_preds)\n",
        "  return y_pred_tensor\n",
        "\n",
        "def get_conf_mat_onnx(ort_session):\n",
        "  y_preds = []\n",
        "  for X, y in test_dataloader:\n",
        "      X_np = X.numpy() if isinstance(X, torch.Tensor) else X\n",
        "      input_name = ort_session.get_inputs()[0].name\n",
        "      outputs = ort_session.run(None, {input_name: X_np})\n",
        "      y_pred = outputs[0].argmax(axis=1)\n",
        "      y_preds.append(torch.tensor(y_pred))\n",
        "\n",
        "  y_pred_tensor = torch.cat(y_preds)\n",
        "  return y_pred_tensor\n",
        "\n",
        "def get_conf_mat_tflite(interpreter):\n",
        "  y_preds = []\n",
        "  input_details = interpreter.get_input_details()\n",
        "  output_details = interpreter.get_output_details()\n",
        "  scale, zero_point = input_details[0]['quantization']\n",
        "  dtype = input_details[0]['dtype']\n",
        "\n",
        "  for X, y in test_dataloader:\n",
        "      X_np = X.numpy()\n",
        "      X_q = X_np / scale + zero_point\n",
        "      X_q = np.clip(X_q, np.iinfo(dtype).min, np.iinfo(dtype).max)\n",
        "      X_q = X_q.astype(dtype)\n",
        "\n",
        "      interpreter.resize_tensor_input(input_details[0]['index'], X_q.shape)\n",
        "      interpreter.allocate_tensors()\n",
        "\n",
        "      interpreter.set_tensor(input_details[0]['index'], X_q)\n",
        "      interpreter.invoke()\n",
        "      output_data = interpreter.get_tensor(output_details[0]['index'])\n",
        "\n",
        "      out_scale, out_zero = output_details[0]['quantization']\n",
        "      output_data = (output_data.astype(np.float32) - out_zero) * out_scale\n",
        "\n",
        "      y_pred = np.argmax(output_data, axis=1)\n",
        "      y_preds.append(torch.tensor(y_pred))\n",
        "\n",
        "  y_pred_tensor = torch.cat(y_preds)\n",
        "\n",
        "  return y_pred_tensor\n",
        "\n",
        "def print_metrics(class_names, y_pred_tensor):\n",
        "  from torchmetrics.classification import MulticlassAccuracy, MulticlassPrecision, MulticlassRecall, MulticlassF1Score\n",
        "  num_classes = len(class_names)\n",
        "  accuracy = MulticlassAccuracy(num_classes=num_classes)\n",
        "  precision = MulticlassPrecision(num_classes=num_classes, average='macro')\n",
        "  recall = MulticlassRecall(num_classes=num_classes, average='macro')\n",
        "  f1 = MulticlassF1Score(num_classes=num_classes, average='macro')\n",
        "\n",
        "  acc_value = accuracy(y_pred_tensor, test_data.targets)\n",
        "  prec_value = precision(y_pred_tensor, test_data.targets)\n",
        "  rec_value = recall(y_pred_tensor, test_data.targets)\n",
        "  f1_value = f1(y_pred_tensor, test_data.targets)\n",
        "\n",
        "  print(f\"Accuracy:  {acc_value:.4f}\")\n",
        "  print(f\"Precision: {prec_value:.4f}\")\n",
        "  print(f\"Recall:    {rec_value:.4f}\")\n",
        "  print(f\"F1-score:  {f1_value:.4f}\")\n",
        "\n",
        "def draw_conf_tensor(confmat_tensor):\n",
        "  plt.figure(figsize=(8, 6))\n",
        "  plt.imshow(confmat_tensor.numpy(), cmap='viridis', interpolation='nearest', )\n",
        "  plt.colorbar()  # Add a color bar\n",
        "  plt.title('Confusion matrix')\n",
        "  plt.xlabel('predicted')\n",
        "  plt.ylabel('true')\n",
        "  plt.xticks(ticks=range(len(class_names)), labels=class_names)\n",
        "  plt.yticks(ticks=range(len(class_names)), labels=class_names)\n",
        "  plt.show()\n",
        "\n",
        "def save_to_onnx(model, filename, device):\n",
        "  dummy_input = torch.randn(1, 1, 28, 28) # see test_data\n",
        "\n",
        "  model.to('cpu').eval()\n",
        "  torch.onnx.export(\n",
        "    model,\n",
        "    dummy_input,\n",
        "    filename,\n",
        "    input_names=[\"input\"],\n",
        "    output_names=[\"output\"],\n",
        "    dynamic_axes={\n",
        "        \"input\": {0: \"batch_size\"},   # dynamic batch size\n",
        "        \"output\": {0: \"batch_size\"}\n",
        "    },\n",
        "    do_constant_folding=True,\n",
        "    dynamo=False, # old exporter, new crashes and buggy\n",
        "    opset_version=11  # some layers may need >= 11\n",
        "  )\n",
        "  model.to(device)\n",
        "\n",
        "def onnx_to_tflite(onnx_name, train_data):\n",
        "  onnx_model = onnx.load(onnx_name)\n",
        "  tf_rep = prepare(onnx_model)\n",
        "  tf_rep.export_graph(\"model_tf\")\n",
        "  print(\"✅ Converted to TensorFlow\")\n",
        "\n",
        "  def representative_data_gen():\n",
        "    for i, (x, _) in enumerate(train_data):\n",
        "      if i > 200:  # 200 samples is enough\n",
        "        break\n",
        "      yield [x.unsqueeze(0).numpy()]\n",
        "\n",
        "  # TensorFlow → TFLite\n",
        "  converter = tf.lite.TFLiteConverter.from_saved_model(\"model_tf\")\n",
        "  converter.optimizations = [tf.lite.Optimize.DEFAULT]\n",
        "  converter.target_spec.supported_ops = [tf.lite.OpsSet.TFLITE_BUILTINS_INT8]\n",
        "  converter.representative_dataset = representative_data_gen\n",
        "  converter.inference_input_type = tf.int8\n",
        "  converter.inference_output_type = tf.int8\n",
        "\n",
        "  tflite_model = converter.convert()\n",
        "  with open(\"my_lenet.tflite\", \"wb\") as f:\n",
        "      f.write(tflite_model)\n",
        "  print(\"✅ Converted to model.tflite\")"
      ],
      "metadata": {
        "colab": {
          "base_uri": "https://localhost:8080/"
        },
        "id": "au5Q4xY0xEmS",
        "outputId": "55a99e22-1d5d-4fc7-97c1-6dcc81093e14"
      },
      "execution_count": null,
      "outputs": [
        {
          "output_type": "stream",
          "name": "stderr",
          "text": [
            "/usr/local/lib/python3.11/dist-packages/tensorflow_addons/utils/tfa_eol_msg.py:23: UserWarning: \n",
            "\n",
            "TensorFlow Addons (TFA) has ended development and introduction of new features.\n",
            "TFA has entered a minimal maintenance and release mode until a planned end of life in May 2024.\n",
            "Please modify downstream libraries to take dependencies from other repositories in our TensorFlow community (e.g. Keras, Keras-CV, and Keras-NLP). \n",
            "\n",
            "For more information see: https://github.com/tensorflow/addons/issues/2807 \n",
            "\n",
            "  warnings.warn(\n"
          ]
        }
      ]
    },
    {
      "cell_type": "markdown",
      "source": [
        "#LeNet Example"
      ],
      "metadata": {
        "id": "w7UvtnDvIwAl"
      }
    },
    {
      "cell_type": "code",
      "source": [
        "#@title Load Dataset\n",
        "\n",
        "import os\n",
        "import torch\n",
        "from torch import nn\n",
        "import torchvision\n",
        "from torchvision import datasets, transforms\n",
        "from torchvision.transforms import ToTensor\n",
        "from torch.utils.data import DataLoader\n",
        "from timeit import default_timer as timer\n",
        "import torchmetrics, mlxtend\n",
        "from torchmetrics import ConfusionMatrix\n",
        "from mlxtend.plotting import plot_confusion_matrix\n",
        "from tqdm.auto import tqdm\n",
        "import random\n",
        "import pandas as pd\n",
        "import matplotlib.pyplot as plt\n",
        "from torchmetrics import Accuracy\n",
        "from torchinfo import summary\n",
        "import numpy as np\n",
        "\n",
        "from google.colab import output\n",
        "output.clear()\n",
        "\n",
        "train_data = datasets.EMNIST(\n",
        "    root=\"data\",\n",
        "    split=\"bymerge\",\n",
        "    train=True,\n",
        "    download=True,\n",
        "    transform=ToTensor(),\n",
        "    target_transform=None\n",
        ")\n",
        "\n",
        "test_data = datasets.EMNIST(\n",
        "    root=\"data\",\n",
        "    split=\"bymerge\",\n",
        "    train=False,\n",
        "    download=True,\n",
        "    transform=ToTensor(),\n",
        "    target_transform=None\n",
        ")\n",
        "\n",
        "class_names = train_data.classes\n",
        "num_classes = len(class_names)\n",
        "print(f\"Train casses : {len(train_data)} \\nTest cases: {len(test_data)} \\nLabels: {class_names}\" )\n",
        "\n",
        "torch.manual_seed(42)\n",
        "fig = plt.figure(figsize=(12,12))\n",
        "rows, cols = 4, 4\n",
        "for i in range(1, rows*cols+1):\n",
        "  random_idx = torch.randint(0, len(train_data), size=[1]).item()\n",
        "  img, label = train_data[random_idx]\n",
        "  fig.add_subplot(rows, cols, i)\n",
        "  plt.imshow(img.squeeze().T)\n",
        "  plt.title(class_names[label])\n",
        "  plt.axis(False)\n",
        "\n",
        "BATCH_SIZE = 32\n",
        "\n",
        "train_dataloader = DataLoader(dataset=train_data,\n",
        "                              batch_size=BATCH_SIZE,\n",
        "                              shuffle=True,\n",
        "                              num_workers=os.cpu_count())\n",
        "\n",
        "test_dataloader = DataLoader(dataset=test_data,\n",
        "                             batch_size=BATCH_SIZE,\n",
        "                             shuffle=False,\n",
        "                             num_workers=os.cpu_count())\n",
        "\n",
        "print(f\"DataLoaders: {train_dataloader, test_dataloader}\")\n",
        "print(f\"Length of train_dataloader {len(train_dataloader)} batches of {BATCH_SIZE}...\")\n",
        "print(f\"Length of test_dataloader {len(test_dataloader)} batches of {BATCH_SIZE}...\")\n",
        "\n",
        "device = \"cuda\" if torch.cuda.is_available() else \"cpu\""
      ],
      "metadata": {
        "id": "48TeMldcP8Ob",
        "colab": {
          "base_uri": "https://localhost:8080/",
          "height": 1000
        },
        "outputId": "b843a9cb-7eaf-4529-9ed8-5be70c65f740"
      },
      "execution_count": null,
      "outputs": [
        {
          "output_type": "stream",
          "name": "stderr",
          "text": [
            "100%|██████████| 562M/562M [00:05<00:00, 109MB/s]\n"
          ]
        },
        {
          "output_type": "stream",
          "name": "stdout",
          "text": [
            "Train casses : 697932 \n",
            "Test cases: 116323 \n",
            "Labels: ['0', '1', '2', '3', '4', '5', '6', '7', '8', '9', 'A', 'B', 'C', 'D', 'E', 'F', 'G', 'H', 'I', 'J', 'K', 'L', 'M', 'N', 'O', 'P', 'Q', 'R', 'S', 'T', 'U', 'V', 'W', 'X', 'Y', 'Z', 'a', 'b', 'd', 'e', 'f', 'g', 'h', 'n', 'q', 'r', 't']\n",
            "DataLoaders: (<torch.utils.data.dataloader.DataLoader object at 0x7d8467029a10>, <torch.utils.data.dataloader.DataLoader object at 0x7d846702a510>)\n",
            "Length of train_dataloader 21811 batches of 32...\n",
            "Length of test_dataloader 3636 batches of 32...\n"
          ]
        },
        {
          "output_type": "display_data",
          "data": {
            "text/plain": [
              "<Figure size 1200x1200 with 16 Axes>"
            ],
            "image/png": "[encoded data removed]"
          },
          "metadata": {}
        }
      ]
    },
    {
      "cell_type": "markdown",
      "source": [
        "* Convolution\n",
        "$$\n",
        "\\mathbf{Y} = \\text{Conv}_{\\mathbf{w}}(\\mathbf{X}); \\quad\n",
        "Y_{i,j} = \\sum_{\\alpha=-1}^1 \\sum_{\\beta=-1}^1 X_{i+\\alpha, j+\\beta} w_{\\alpha,\\beta}\n",
        "$$\n",
        "* ReLU\n",
        "$$\n",
        "\\mathbf{Y} = \\text{ReLU}(\\mathbf{X}); \\quad\n",
        "Y_{i,j} = X_{i,j} \\Theta(X_{i,j}),\n",
        "$$\n",
        "where $\\Theta$ is the Heaviside function\n",
        "* MaxPool\n",
        "$$\n",
        "\\mathbf{Y} = \\text{MaxPool}(\\mathbf{X}); \\quad\n",
        "Y_{i,j} = \\max\\{X_{2i,2j};X_{2i+1,2j};X_{2i,2j+1};X_{2i+1,2j+1}\\}\n",
        "$$\n",
        "please note that in this case matrix $\\mathbf{Y}$ has different size.\n",
        "* Fully connected\n",
        "$$\n",
        "\\vec{Y} = \\text{Linear}_{\\mathbf{w}}(\\mathbf{X}); \\quad\n",
        "Y_i = \\sum_{i,j} X_{i,j} w_{i,j}\n",
        "$$\n",
        "<br><br><br>\n",
        "The whole neural network can be written down as\n",
        "$$\n",
        "\\vec{Y} = \\underbrace{\\text{Linear}_{\\mathbf{w''}}(\\text{MaxPool}(\\text{ReLU}(\\text{Conv}_{\\mathbf{w'}}(\\text{ReLU}(\\text{Conv}_{\\mathbf{w}}(\\mathbf{X}))))))}_{\\text{Neural Network}}\n",
        "$$"
      ],
      "metadata": {
        "id": "Z0yYO2XhOJEi"
      }
    },
    {
      "cell_type": "code",
      "source": [
        "import torch\n",
        "from torch import nn\n",
        "\n",
        "class ConvolutionEMNISTModel(nn.Module):\n",
        "  def __init__(self, input_shape: int, hidden_units: int, output_shape: int):\n",
        "    super().__init__()\n",
        "    self.layer_stack = nn.Sequential(\n",
        "      nn.Conv2d(in_channels=input_shape,\n",
        "                out_channels=hidden_units,\n",
        "                kernel_size=3,\n",
        "                stride=1,\n",
        "                padding=1),\n",
        "      nn.ReLU(),\n",
        "      nn.Conv2d(in_channels=hidden_units,\n",
        "                out_channels=hidden_units,\n",
        "                kernel_size=3,\n",
        "                stride=1,\n",
        "                padding=1),\n",
        "      nn.ReLU(),\n",
        "      nn.MaxPool2d(kernel_size=2),\n",
        "      nn.Flatten(),\n",
        "      nn.LazyLinear(out_features=output_shape)\n",
        "      )\n",
        "\n",
        "  def forward(self, x):\n",
        "    return self.layer_stack(x)\n",
        "\n",
        "device = \"cuda\" if torch.cuda.is_available() else \"cpu\""
      ],
      "metadata": {
        "id": "Rs0YM58osfb7"
      },
      "execution_count": null,
      "outputs": []
    },
    {
      "cell_type": "code",
      "source": [
        "#@title Model\n",
        "torch.manual_seed(42)\n",
        "model_1 = ConvolutionEMNISTModel(input_shape=1,\n",
        "                              hidden_units=10,\n",
        "                              output_shape=len(class_names)).to(device)"
      ],
      "metadata": {
        "id": "1_sj7OxHyZ6s"
      },
      "execution_count": null,
      "outputs": []
    },
    {
      "cell_type": "code",
      "source": [
        "#@title NN Structure\n",
        "\n",
        "from torchview import draw_graph\n",
        "model_graph = draw_graph(model_1, input_size=[1,1,28,28], expand_nested=True, graph_dir='LR',)\n",
        "model_graph.resize_graph(scale=5.0)\n",
        "model_graph.visual_graph"
      ],
      "metadata": {
        "colab": {
          "base_uri": "https://localhost:8080/",
          "height": 178
        },
        "id": "qTg_byfEumeQ",
        "outputId": "09178a67-95f5-403b-8c39-07f14874afbb",
        "cellView": "form"
      },
      "execution_count": null,
      "outputs": [
        {
          "output_type": "execute_result",
          "data": {
            "image/svg+xml": "<?xml version=\"1.0\" encoding=\"UTF-8\" standalone=\"no\"?>\n<!DOCTYPE svg PUBLIC \"-//W3C//DTD SVG 1.1//EN\"\n \"http://www.w3.org/Graphics/SVG/1.1/DTD/svg11.dtd\">\n<!-- Generated by graphviz version 2.43.0 (0)\n -->\n<!-- Title: model Pages: 1 -->\n<svg width=\"2159pt\" height=\"103pt\"\n viewBox=\"0.00 0.00 2159.00 103.00\" xmlns=\"http://www.w3.org/2000/svg\" xmlns:xlink=\"http://www.w3.org/1999/xlink\">\n<g id=\"graph0\" class=\"graph\" transform=\"scale(1 1) rotate(0) translate(4 99)\">\n<title>model</title>\n<polygon fill=\"white\" stroke=\"transparent\" points=\"-4,4 -4,-99 2155,-99 2155,4 -4,4\"/>\n<g id=\"clust1\" class=\"cluster\">\n<title>cluster_2</title>\n<polygon fill=\"none\" stroke=\"black\" stroke-dasharray=\"5,2\" points=\"206,-8 206,-87 2143,-87 2143,-8 206,-8\"/>\n<text text-anchor=\"middle\" x=\"239\" y=\"-73.4\" font-family=\"Times,serif\" font-size=\"12.00\">Sequential</text>\n</g>\n<!-- 0 -->\n<g id=\"node1\" class=\"node\">\n<title>0</title>\n<polygon fill=\"lightyellow\" stroke=\"transparent\" points=\"178,-53 0,-53 0,-21 178,-21 178,-53\"/>\n<polygon fill=\"none\" stroke=\"black\" points=\"0,-21 0,-53 83,-53 83,-21 0,-21\"/>\n<text text-anchor=\"start\" x=\"5\" y=\"-40\" font-family=\"Linux libertine\" font-size=\"10.00\">input&#45;tensor</text>\n<text text-anchor=\"start\" x=\"20\" y=\"-29\" font-family=\"Linux libertine\" font-size=\"10.00\">depth:0</text>\n<polygon fill=\"none\" stroke=\"black\" points=\"83,-21 83,-53 178,-53 178,-21 83,-21\"/>\n<text text-anchor=\"start\" x=\"88\" y=\"-34.5\" font-family=\"Linux libertine\" font-size=\"10.00\">(1, 1, 28, 28)</text>\n</g>\n<!-- 1 -->\n<g id=\"node2\" class=\"node\">\n<title>1</title>\n<polygon fill=\"#c1ffc1\" stroke=\"transparent\" points=\"433,-58 214,-58 214,-16 433,-16 433,-58\"/>\n<polygon fill=\"none\" stroke=\"black\" points=\"214.5,-16 214.5,-58 267.5,-58 267.5,-16 214.5,-16\"/>\n<text text-anchor=\"start\" x=\"222.5\" y=\"-40\" font-family=\"Linux libertine\" font-size=\"10.00\">Conv2d</text>\n<text text-anchor=\"start\" x=\"219.5\" y=\"-29\" font-family=\"Linux libertine\" font-size=\"10.00\">depth:2</text>\n<polygon fill=\"none\" stroke=\"black\" points=\"267.5,-37 267.5,-58 326.5,-58 326.5,-37 267.5,-37\"/>\n<text text-anchor=\"start\" x=\"278.5\" y=\"-45\" font-family=\"Linux libertine\" font-size=\"10.00\">input:</text>\n<polygon fill=\"none\" stroke=\"black\" points=\"326.5,-37 326.5,-58 433.5,-58 433.5,-37 326.5,-37\"/>\n<text text-anchor=\"start\" x=\"334.5\" y=\"-45\" font-family=\"Linux libertine\" font-size=\"10.00\">(1, 1, 28, 28) </text>\n<polygon fill=\"none\" stroke=\"black\" points=\"267.5,-16 267.5,-37 326.5,-37 326.5,-16 267.5,-16\"/>\n<text text-anchor=\"start\" x=\"272.5\" y=\"-24\" font-family=\"Linux libertine\" font-size=\"10.00\">output: </text>\n<polygon fill=\"none\" stroke=\"black\" points=\"326.5,-16 326.5,-37 433.5,-37 433.5,-16 326.5,-16\"/>\n<text text-anchor=\"start\" x=\"331.5\" y=\"-24\" font-family=\"Linux libertine\" font-size=\"10.00\">(1, 10, 28, 28) </text>\n</g>\n<!-- 0&#45;&gt;1 -->\n<g id=\"edge1\" class=\"edge\">\n<title>0&#45;&gt;1</title>\n<path fill=\"none\" stroke=\"black\" d=\"M178.23,-37C186.63,-37 195.24,-37 203.87,-37\"/>\n<polygon fill=\"black\" stroke=\"black\" points=\"203.99,-40.5 213.99,-37 203.99,-33.5 203.99,-40.5\"/>\n</g>\n<!-- 2 -->\n<g id=\"node3\" class=\"node\">\n<title>2</title>\n<polygon fill=\"#c1ffc1\" stroke=\"transparent\" points=\"688,-58 469,-58 469,-16 688,-16 688,-58\"/>\n<polygon fill=\"none\" stroke=\"black\" points=\"469.5,-16 469.5,-58 522.5,-58 522.5,-16 469.5,-16\"/>\n<text text-anchor=\"start\" x=\"483.5\" y=\"-40\" font-family=\"Linux libertine\" font-size=\"10.00\">ReLU</text>\n<text text-anchor=\"start\" x=\"474.5\" y=\"-29\" font-family=\"Linux libertine\" font-size=\"10.00\">depth:2</text>\n<polygon fill=\"none\" stroke=\"black\" points=\"522.5,-37 522.5,-58 581.5,-58 581.5,-37 522.5,-37\"/>\n<text text-anchor=\"start\" x=\"533.5\" y=\"-45\" font-family=\"Linux libertine\" font-size=\"10.00\">input:</text>\n<polygon fill=\"none\" stroke=\"black\" points=\"581.5,-37 581.5,-58 688.5,-58 688.5,-37 581.5,-37\"/>\n<text text-anchor=\"start\" x=\"586.5\" y=\"-45\" font-family=\"Linux libertine\" font-size=\"10.00\">(1, 10, 28, 28) </text>\n<polygon fill=\"none\" stroke=\"black\" points=\"522.5,-16 522.5,-37 581.5,-37 581.5,-16 522.5,-16\"/>\n<text text-anchor=\"start\" x=\"527.5\" y=\"-24\" font-family=\"Linux libertine\" font-size=\"10.00\">output: </text>\n<polygon fill=\"none\" stroke=\"black\" points=\"581.5,-16 581.5,-37 688.5,-37 688.5,-16 581.5,-16\"/>\n<text text-anchor=\"start\" x=\"586.5\" y=\"-24\" font-family=\"Linux libertine\" font-size=\"10.00\">(1, 10, 28, 28) </text>\n</g>\n<!-- 1&#45;&gt;2 -->\n<g id=\"edge2\" class=\"edge\">\n<title>1&#45;&gt;2</title>\n<path fill=\"none\" stroke=\"black\" d=\"M433.26,-37C441.64,-37 450.13,-37 458.57,-37\"/>\n<polygon fill=\"black\" stroke=\"black\" points=\"458.83,-40.5 468.83,-37 458.83,-33.5 458.83,-40.5\"/>\n</g>\n<!-- 3 -->\n<g id=\"node4\" class=\"node\">\n<title>3</title>\n<polygon fill=\"#c1ffc1\" stroke=\"transparent\" points=\"943,-58 724,-58 724,-16 943,-16 943,-58\"/>\n<polygon fill=\"none\" stroke=\"black\" points=\"724.5,-16 724.5,-58 777.5,-58 777.5,-16 724.5,-16\"/>\n<text text-anchor=\"start\" x=\"732.5\" y=\"-40\" font-family=\"Linux libertine\" font-size=\"10.00\">Conv2d</text>\n<text text-anchor=\"start\" x=\"729.5\" y=\"-29\" font-family=\"Linux libertine\" font-size=\"10.00\">depth:2</text>\n<polygon fill=\"none\" stroke=\"black\" points=\"777.5,-37 777.5,-58 836.5,-58 836.5,-37 777.5,-37\"/>\n<text text-anchor=\"start\" x=\"788.5\" y=\"-45\" font-family=\"Linux libertine\" font-size=\"10.00\">input:</text>\n<polygon fill=\"none\" stroke=\"black\" points=\"836.5,-37 836.5,-58 943.5,-58 943.5,-37 836.5,-37\"/>\n<text text-anchor=\"start\" x=\"841.5\" y=\"-45\" font-family=\"Linux libertine\" font-size=\"10.00\">(1, 10, 28, 28) </text>\n<polygon fill=\"none\" stroke=\"black\" points=\"777.5,-16 777.5,-37 836.5,-37 836.5,-16 777.5,-16\"/>\n<text text-anchor=\"start\" x=\"782.5\" y=\"-24\" font-family=\"Linux libertine\" font-size=\"10.00\">output: </text>\n<polygon fill=\"none\" stroke=\"black\" points=\"836.5,-16 836.5,-37 943.5,-37 943.5,-16 836.5,-16\"/>\n<text text-anchor=\"start\" x=\"841.5\" y=\"-24\" font-family=\"Linux libertine\" font-size=\"10.00\">(1, 10, 28, 28) </text>\n</g>\n<!-- 2&#45;&gt;3 -->\n<g id=\"edge3\" class=\"edge\">\n<title>2&#45;&gt;3</title>\n<path fill=\"none\" stroke=\"black\" d=\"M688.26,-37C696.64,-37 705.13,-37 713.57,-37\"/>\n<polygon fill=\"black\" stroke=\"black\" points=\"713.83,-40.5 723.83,-37 713.83,-33.5 713.83,-40.5\"/>\n</g>\n<!-- 4 -->\n<g id=\"node5\" class=\"node\">\n<title>4</title>\n<polygon fill=\"#c1ffc1\" stroke=\"transparent\" points=\"1198,-58 979,-58 979,-16 1198,-16 1198,-58\"/>\n<polygon fill=\"none\" stroke=\"black\" points=\"979.5,-16 979.5,-58 1032.5,-58 1032.5,-16 979.5,-16\"/>\n<text text-anchor=\"start\" x=\"993.5\" y=\"-40\" font-family=\"Linux libertine\" font-size=\"10.00\">ReLU</text>\n<text text-anchor=\"start\" x=\"984.5\" y=\"-29\" font-family=\"Linux libertine\" font-size=\"10.00\">depth:2</text>\n<polygon fill=\"none\" stroke=\"black\" points=\"1032.5,-37 1032.5,-58 1091.5,-58 1091.5,-37 1032.5,-37\"/>\n<text text-anchor=\"start\" x=\"1043.5\" y=\"-45\" font-family=\"Linux libertine\" font-size=\"10.00\">input:</text>\n<polygon fill=\"none\" stroke=\"black\" points=\"1091.5,-37 1091.5,-58 1198.5,-58 1198.5,-37 1091.5,-37\"/>\n<text text-anchor=\"start\" x=\"1096.5\" y=\"-45\" font-family=\"Linux libertine\" font-size=\"10.00\">(1, 10, 28, 28) </text>\n<polygon fill=\"none\" stroke=\"black\" points=\"1032.5,-16 1032.5,-37 1091.5,-37 1091.5,-16 1032.5,-16\"/>\n<text text-anchor=\"start\" x=\"1037.5\" y=\"-24\" font-family=\"Linux libertine\" font-size=\"10.00\">output: </text>\n<polygon fill=\"none\" stroke=\"black\" points=\"1091.5,-16 1091.5,-37 1198.5,-37 1198.5,-16 1091.5,-16\"/>\n<text text-anchor=\"start\" x=\"1096.5\" y=\"-24\" font-family=\"Linux libertine\" font-size=\"10.00\">(1, 10, 28, 28) </text>\n</g>\n<!-- 3&#45;&gt;4 -->\n<g id=\"edge4\" class=\"edge\">\n<title>3&#45;&gt;4</title>\n<path fill=\"none\" stroke=\"black\" d=\"M943.26,-37C951.64,-37 960.13,-37 968.57,-37\"/>\n<polygon fill=\"black\" stroke=\"black\" points=\"968.83,-40.5 978.83,-37 968.83,-33.5 968.83,-40.5\"/>\n</g>\n<!-- 5 -->\n<g id=\"node6\" class=\"node\">\n<title>5</title>\n<polygon fill=\"#c1ffc1\" stroke=\"transparent\" points=\"1465,-58 1234,-58 1234,-16 1465,-16 1465,-58\"/>\n<polygon fill=\"none\" stroke=\"black\" points=\"1234.5,-16 1234.5,-58 1299.5,-58 1299.5,-16 1234.5,-16\"/>\n<text text-anchor=\"start\" x=\"1239.5\" y=\"-40\" font-family=\"Linux libertine\" font-size=\"10.00\">MaxPool2d</text>\n<text text-anchor=\"start\" x=\"1245.5\" y=\"-29\" font-family=\"Linux libertine\" font-size=\"10.00\">depth:2</text>\n<polygon fill=\"none\" stroke=\"black\" points=\"1299.5,-37 1299.5,-58 1358.5,-58 1358.5,-37 1299.5,-37\"/>\n<text text-anchor=\"start\" x=\"1310.5\" y=\"-45\" font-family=\"Linux libertine\" font-size=\"10.00\">input:</text>\n<polygon fill=\"none\" stroke=\"black\" points=\"1358.5,-37 1358.5,-58 1465.5,-58 1465.5,-37 1358.5,-37\"/>\n<text text-anchor=\"start\" x=\"1363.5\" y=\"-45\" font-family=\"Linux libertine\" font-size=\"10.00\">(1, 10, 28, 28) </text>\n<polygon fill=\"none\" stroke=\"black\" points=\"1299.5,-16 1299.5,-37 1358.5,-37 1358.5,-16 1299.5,-16\"/>\n<text text-anchor=\"start\" x=\"1304.5\" y=\"-24\" font-family=\"Linux libertine\" font-size=\"10.00\">output: </text>\n<polygon fill=\"none\" stroke=\"black\" points=\"1358.5,-16 1358.5,-37 1465.5,-37 1465.5,-16 1358.5,-16\"/>\n<text text-anchor=\"start\" x=\"1363.5\" y=\"-24\" font-family=\"Linux libertine\" font-size=\"10.00\">(1, 10, 14, 14) </text>\n</g>\n<!-- 4&#45;&gt;5 -->\n<g id=\"edge5\" class=\"edge\">\n<title>4&#45;&gt;5</title>\n<path fill=\"none\" stroke=\"black\" d=\"M1198.21,-37C1206.67,-37 1215.25,-37 1223.8,-37\"/>\n<polygon fill=\"black\" stroke=\"black\" points=\"1223.82,-40.5 1233.82,-37 1223.82,-33.5 1223.82,-40.5\"/>\n</g>\n<!-- 6 -->\n<g id=\"node7\" class=\"node\">\n<title>6</title>\n<polygon fill=\"#c1ffc1\" stroke=\"transparent\" points=\"1720,-58 1501,-58 1501,-16 1720,-16 1720,-58\"/>\n<polygon fill=\"none\" stroke=\"black\" points=\"1501.5,-16 1501.5,-58 1554.5,-58 1554.5,-16 1501.5,-16\"/>\n<text text-anchor=\"start\" x=\"1506.5\" y=\"-40\" font-family=\"Linux libertine\" font-size=\"10.00\">Flatten</text>\n<text text-anchor=\"start\" x=\"1506.5\" y=\"-29\" font-family=\"Linux libertine\" font-size=\"10.00\">depth:2</text>\n<polygon fill=\"none\" stroke=\"black\" points=\"1554.5,-37 1554.5,-58 1613.5,-58 1613.5,-37 1554.5,-37\"/>\n<text text-anchor=\"start\" x=\"1565.5\" y=\"-45\" font-family=\"Linux libertine\" font-size=\"10.00\">input:</text>\n<polygon fill=\"none\" stroke=\"black\" points=\"1613.5,-37 1613.5,-58 1720.5,-58 1720.5,-37 1613.5,-37\"/>\n<text text-anchor=\"start\" x=\"1618.5\" y=\"-45\" font-family=\"Linux libertine\" font-size=\"10.00\">(1, 10, 14, 14) </text>\n<polygon fill=\"none\" stroke=\"black\" points=\"1554.5,-16 1554.5,-37 1613.5,-37 1613.5,-16 1554.5,-16\"/>\n<text text-anchor=\"start\" x=\"1559.5\" y=\"-24\" font-family=\"Linux libertine\" font-size=\"10.00\">output: </text>\n<polygon fill=\"none\" stroke=\"black\" points=\"1613.5,-16 1613.5,-37 1720.5,-37 1720.5,-16 1613.5,-16\"/>\n<text text-anchor=\"start\" x=\"1636.5\" y=\"-24\" font-family=\"Linux libertine\" font-size=\"10.00\">(1, 1960) </text>\n</g>\n<!-- 5&#45;&gt;6 -->\n<g id=\"edge6\" class=\"edge\">\n<title>5&#45;&gt;6</title>\n<path fill=\"none\" stroke=\"black\" d=\"M1465.23,-37C1473.6,-37 1482.05,-37 1490.45,-37\"/>\n<polygon fill=\"black\" stroke=\"black\" points=\"1490.65,-40.5 1500.65,-37 1490.65,-33.5 1490.65,-40.5\"/>\n</g>\n<!-- 7 -->\n<g id=\"node8\" class=\"node\">\n<title>7</title>\n<polygon fill=\"#c1ffc1\" stroke=\"transparent\" points=\"1957,-58 1756,-58 1756,-16 1957,-16 1957,-58\"/>\n<polygon fill=\"none\" stroke=\"black\" points=\"1756.5,-16 1756.5,-58 1827.5,-58 1827.5,-16 1756.5,-16\"/>\n<text text-anchor=\"start\" x=\"1761.5\" y=\"-40\" font-family=\"Linux libertine\" font-size=\"10.00\">LazyLinear</text>\n<text text-anchor=\"start\" x=\"1770.5\" y=\"-29\" font-family=\"Linux libertine\" font-size=\"10.00\">depth:2</text>\n<polygon fill=\"none\" stroke=\"black\" points=\"1827.5,-37 1827.5,-58 1886.5,-58 1886.5,-37 1827.5,-37\"/>\n<text text-anchor=\"start\" x=\"1838.5\" y=\"-45\" font-family=\"Linux libertine\" font-size=\"10.00\">input:</text>\n<polygon fill=\"none\" stroke=\"black\" points=\"1886.5,-37 1886.5,-58 1957.5,-58 1957.5,-37 1886.5,-37\"/>\n<text text-anchor=\"start\" x=\"1891.5\" y=\"-45\" font-family=\"Linux libertine\" font-size=\"10.00\">(1, 1960) </text>\n<polygon fill=\"none\" stroke=\"black\" points=\"1827.5,-16 1827.5,-37 1886.5,-37 1886.5,-16 1827.5,-16\"/>\n<text text-anchor=\"start\" x=\"1832.5\" y=\"-24\" font-family=\"Linux libertine\" font-size=\"10.00\">output: </text>\n<polygon fill=\"none\" stroke=\"black\" points=\"1886.5,-16 1886.5,-37 1957.5,-37 1957.5,-16 1886.5,-16\"/>\n<text text-anchor=\"start\" x=\"1897.5\" y=\"-24\" font-family=\"Linux libertine\" font-size=\"10.00\">(1, 47) </text>\n</g>\n<!-- 6&#45;&gt;7 -->\n<g id=\"edge7\" class=\"edge\">\n<title>6&#45;&gt;7</title>\n<path fill=\"none\" stroke=\"black\" d=\"M1720.3,-37C1728.7,-37 1737.19,-37 1745.6,-37\"/>\n<polygon fill=\"black\" stroke=\"black\" points=\"1745.81,-40.5 1755.81,-37 1745.81,-33.5 1745.81,-40.5\"/>\n</g>\n<!-- 8 -->\n<g id=\"node9\" class=\"node\">\n<title>8</title>\n<polygon fill=\"lightyellow\" stroke=\"transparent\" points=\"2135,-53 1993,-53 1993,-21 2135,-21 2135,-53\"/>\n<polygon fill=\"none\" stroke=\"black\" points=\"1993,-21 1993,-53 2082,-53 2082,-21 1993,-21\"/>\n<text text-anchor=\"start\" x=\"1998\" y=\"-40\" font-family=\"Linux libertine\" font-size=\"10.00\">output&#45;tensor</text>\n<text text-anchor=\"start\" x=\"2016\" y=\"-29\" font-family=\"Linux libertine\" font-size=\"10.00\">depth:0</text>\n<polygon fill=\"none\" stroke=\"black\" points=\"2082,-21 2082,-53 2135,-53 2135,-21 2082,-21\"/>\n<text text-anchor=\"start\" x=\"2087\" y=\"-34.5\" font-family=\"Linux libertine\" font-size=\"10.00\">(1, 47)</text>\n</g>\n<!-- 7&#45;&gt;8 -->\n<g id=\"edge8\" class=\"edge\">\n<title>7&#45;&gt;8</title>\n<path fill=\"none\" stroke=\"black\" d=\"M1957.24,-37C1965.82,-37 1974.43,-37 1982.82,-37\"/>\n<polygon fill=\"black\" stroke=\"black\" points=\"1982.94,-40.5 1992.94,-37 1982.94,-33.5 1982.94,-40.5\"/>\n</g>\n</g>\n</svg>\n",
            "text/plain": [
              "<graphviz.graphs.Digraph at 0x7d846628eb50>"
            ]
          },
          "metadata": {},
          "execution_count": 6
        }
      ]
    },
    {
      "cell_type": "markdown",
      "source": [
        "**Categorical cross-entropy** loss function $L$ is computed as follows\n",
        "$$\n",
        "L = - \\sum_i t_i \\ln(\\sigma_i),\n",
        "$$\n",
        "where $t_i$ are truth values and $\\sigma_i$ are **softmax** outputs\n",
        "$$\n",
        "\\sigma_i(\\mathbf{z}) = \\frac{e^{z_i}}{\\sum_{j=1}^K e^{z_j}} \\text{ for } i = 1, \\dotsc, K \\text{ and } \\mathbf{z} = (z_1, \\dotsc, z_K) \\in \\mathbb{R}^K.\n",
        "$$\n",
        "In our case $t_i$ are either $0$ or $1$ (see `to_categorical` function). We may have used `sparse_crossentropy`, same function different class encoding."
      ],
      "metadata": {
        "id": "qIG1FeKuqj_R"
      }
    },
    {
      "cell_type": "code",
      "source": [
        "#@title Train (very slow, better load pretrained)\n",
        "loss_fn = nn.CrossEntropyLoss()\n",
        "optimizer = torch.optim.SGD(params=model_1.parameters(), lr=0.1)\n",
        "accuracy_fn = Accuracy(task=\"multiclass\", num_classes=num_classes).to(device)\n",
        "\n",
        "\n",
        "train_model(model=model_1,\n",
        "            epochs=3,\n",
        "            train_dataloader=train_dataloader,\n",
        "            test_dataloader=test_dataloader,\n",
        "            loss_fn=loss_fn,\n",
        "            optimizer=optimizer,\n",
        "            accuracy_fn=accuracy_fn,\n",
        "            device=device)"
      ],
      "metadata": {
        "colab": {
          "base_uri": "https://localhost:8080/",
          "height": 554,
          "referenced_widgets": [
            "9673817eaaad491b9287acb11752b320",
            "85ea36bff46846269e92d697ea9c439f",
            "8962f680621549f4aa0e49f0700056e3",
            "6aa44bacbda047bfbe7b3e767a87bea7",
            "61980944aada4cd9bc17a070ea43cd22",
            "257d58cc58294e66afd9583dc09b7bb2",
            "58e29b359a734f879f8c052f0ec06507",
            "6271e5bfc6564e3f866e0beb509da9d4",
            "304145e9493949e499909f3d96a13c5a",
            "fe44fb0ded2d48ab91867130547c85c6",
            "83451d5b96d4409890714c1e4e8fce8c"
          ]
        },
        "id": "GlwtBOD3v_Hb",
        "outputId": "ff615c19-72c1-4d07-a877-78fd6466f6f2"
      },
      "execution_count": null,
      "outputs": [
        {
          "output_type": "display_data",
          "data": {
            "text/plain": [
              "  0%|          | 0/3 [00:00<?, ?it/s]"
            ],
            "application/vnd.jupyter.widget-view+json": {
              "version_major": 2,
              "version_minor": 0,
              "model_id": "9673817eaaad491b9287acb11752b320"
            }
          },
          "metadata": {}
        },
        {
          "output_type": "stream",
          "name": "stdout",
          "text": [
            "\n",
            "Train time on cuda: 570.452 seconds\n"
          ]
        },
        {
          "output_type": "display_data",
          "data": {
            "text/plain": [
              "<Figure size 1200x500 with 2 Axes>"
            ],
            "image/png": "[encoded data removed]"
          },
          "metadata": {}
        }
      ]
    },
    {
      "cell_type": "code",
      "source": [
        "#@title Preload\n",
        "!wget https://raw.githubusercontent.com/fbeilstein/presentations/refs/heads/master/presentation_for_December_3_2024/EMNIST_recognition.pth\n",
        "model_1.load_state_dict(torch.load('EMNIST_recognition.pth', map_location=torch.device(device)))"
      ],
      "metadata": {
        "colab": {
          "base_uri": "https://localhost:8080/"
        },
        "id": "KHkTpviaN3p2",
        "outputId": "aba6fd2d-f2ab-4199-bd2e-6988b7a7c78b",
        "cellView": "form"
      },
      "execution_count": null,
      "outputs": [
        {
          "output_type": "stream",
          "name": "stdout",
          "text": [
            "--2025-10-16 12:22:14--  https://raw.githubusercontent.com/fbeilstein/presentations/refs/heads/master/presentation_for_December_3_2024/EMNIST_recognition.pth\n",
            "Resolving raw.githubusercontent.com (raw.githubusercontent.com)... 185.199.111.133, 185.199.108.133, 185.199.109.133, ...\n",
            "Connecting to raw.githubusercontent.com (raw.githubusercontent.com)|185.199.111.133|:443... connected.\n",
            "HTTP request sent, awaiting response... 200 OK\n",
            "Length: 375542 (367K) [application/octet-stream]\n",
            "Saving to: ‘EMNIST_recognition.pth’\n",
            "\n",
            "EMNIST_recognition. 100%[===================>] 366.74K  --.-KB/s    in 0.01s   \n",
            "\n",
            "2025-10-16 12:22:15 (29.8 MB/s) - ‘EMNIST_recognition.pth’ saved [375542/375542]\n",
            "\n"
          ]
        },
        {
          "output_type": "execute_result",
          "data": {
            "text/plain": [
              "<All keys matched successfully>"
            ]
          },
          "metadata": {},
          "execution_count": 7
        }
      ]
    },
    {
      "cell_type": "code",
      "source": [
        "#@title Quality\n",
        "\n",
        "y_pred_tensor = get_conf_mat_torch(model_1)\n",
        "confmat = ConfusionMatrix(task='multiclass', num_classes=len(class_names))\n",
        "confmat_tensor = confmat(preds=y_pred_tensor,\n",
        "                        target=test_data.targets)\n",
        "draw_conf_tensor(confmat_tensor)\n",
        "print_metrics(class_names, y_pred_tensor)"
      ],
      "metadata": {
        "id": "PXahErUfgjWo",
        "outputId": "9ba99a72-261a-4c5d-fe2c-88bd86a1075e",
        "colab": {
          "base_uri": "https://localhost:8080/",
          "height": 633
        },
        "cellView": "form"
      },
      "execution_count": null,
      "outputs": [
        {
          "output_type": "display_data",
          "data": {
            "text/plain": [
              "<Figure size 800x600 with 2 Axes>"
            ],
            "image/png": "[encoded data removed]"
          },
          "metadata": {}
        },
        {
          "output_type": "stream",
          "name": "stdout",
          "text": [
            "Accuracy:  0.8342\n",
            "Precision: 0.8546\n",
            "Recall:    0.8342\n",
            "F1-score:  0.8403\n"
          ]
        }
      ]
    },
    {
      "cell_type": "code",
      "source": [
        "#@title Internal Structure\n",
        "max_idx = len(test_data)\n",
        "cur_idx = 0\n",
        "\n",
        "\n",
        "from IPython.display import display\n",
        "import ipywidgets as widgets\n",
        "from IPython.display import clear_output\n",
        "\n",
        "def plot_out(idx):\n",
        "  image, img_class = test_data[idx]\n",
        "  model_1.eval()\n",
        "  #image = np.transpose(image, (0,2,1))\n",
        "  x = image.unsqueeze(0).to(device)\n",
        "  fig = plt.figure(figsize=(10,6), constrained_layout=True)\n",
        "  grid = plt.GridSpec(10, 7, wspace=0, hspace=0, figure=fig,\n",
        "                      width_ratios=[1,1,1,1,1,1,10],\n",
        "                      height_ratios=[1,1,1,1,1,1,1,1,1,1])\n",
        "  ax_input = plt.subplot(grid[:,0], xticks=[], yticks=[])\n",
        "  ax_input.imshow(image[0].T)\n",
        "  ax_input.axis(False)\n",
        "  with torch.inference_mode():\n",
        "    for i, layer in enumerate(model_1.layer_stack):\n",
        "      x = layer(x)\n",
        "      for j, xx in enumerate(x[0]):\n",
        "        numpy_img = xx.cpu().detach().numpy()\n",
        "        if numpy_img.ndim != 2: continue\n",
        "        plt.subplot(grid[j,i+1], xticks=[], yticks=[])\n",
        "        plt.imshow(numpy_img.T, cmap=\"grey\")\n",
        "        plt.axis(False)\n",
        "  bin_edges = [x - 0.5 for x in range(48)]\n",
        "  bar_heights = torch.softmax(x.squeeze(), dim=0).detach().cpu().numpy()\n",
        "  bar_widths = [1] * 47\n",
        "  ax_result = plt.subplot(grid[:,6])#, xticks=class_names)\n",
        "  ax_result.bar(bin_edges[:-1], bar_heights, width=bar_widths, align='edge', edgecolor='black')\n",
        "  ax_result.set_xticks(ticks=list(range(len(class_names))), labels=class_names)\n",
        "  #ax_result.xlabel('Numbers')\n",
        "  #ax_result.ylabel('Probabilities')\n",
        "  plt.show()\n",
        "\n",
        "def clear_show_widgets():\n",
        "  clear_output()\n",
        "  buttonN = widgets.Button(description=\"Next\")\n",
        "  buttonP = widgets.Button(description=\"Previous\")\n",
        "  display(widgets.HBox([buttonN, buttonP]))\n",
        "  buttonN.on_click(on_button_clicked_next)\n",
        "  buttonP.on_click(on_button_clicked_previous)\n",
        "\n",
        "def on_button_clicked_next(*args):\n",
        "  global cur_idx\n",
        "  cur_idx = (1 + cur_idx) % max_idx\n",
        "  clear_show_widgets()\n",
        "  plot_out(cur_idx)\n",
        "\n",
        "def on_button_clicked_previous(*args):\n",
        "  global cur_idx\n",
        "  cur_idx = (cur_idx - 1 + max_idx) % max_idx\n",
        "  clear_show_widgets()\n",
        "  plot_out(cur_idx)\n",
        "\n",
        "\n",
        "clear_show_widgets()\n"
      ],
      "metadata": {
        "colab": {
          "base_uri": "https://localhost:8080/",
          "height": 660,
          "referenced_widgets": [
            "607845cb511e48d6b10a91d7e67f623d",
            "1f25aecae91e4b7aa3fead7b4baac926",
            "b84583b20ae34b01bda991ea5cd655ac",
            "c7203aef6957450884a80c76d3925df3",
            "79aa786a7b0b48cfaf5bd3e20034f573",
            "c1a8853f06b9495b84681af4fdf3d167",
            "e2e31bd9c0ca415b8cdce1498b8d1bd5",
            "02adff09af3f446e836ad9ee6d93dcb6",
            "3c0dceb619af465fbb9f64432e6ca1a8",
            "4ef00bb50f6f46e6bda1e0b9c9ce5b73",
            "4e6f34a51bd44f64afcb7b0803997077",
            "9a79b4e20d7e4c82bbec8ecb224994df",
            "0ea4d9cafef9414892f028c165878153",
            "86f8a9a8e7bc442dacde9bd11f7513e1",
            "2acbc928792045ae93b863961f52c3d3",
            "7ceef6a985464a27a32893e5239c3fd4",
            "a3efc585727345a19ebf974ec97c8d42",
            "ff31ea31d90a4353a6f8b7822b51a8e8",
            "e6c9490fee1c4c479d6f6ae1c268eaea",
            "f2495d4f76ff491399e5a01857b79a3c",
            "21ce86249b6d41f39e50ca9390bec463",
            "d0b8cd4759cd421a9f55bee5dacbe390",
            "c7acaae57e674814b1b6d5994fe142d4",
            "af457b97343840eba14e91e92a739745"
          ]
        },
        "id": "yML7qYb7cWpS",
        "outputId": "14e63b2d-7210-4bef-d321-f107c0e08d5d",
        "cellView": "form"
      },
      "execution_count": null,
      "outputs": [
        {
          "output_type": "display_data",
          "data": {
            "text/plain": [
              "HBox(children=(Button(description='Next', style=ButtonStyle()), Button(description='Previous', style=ButtonSty…"
            ],
            "application/vnd.jupyter.widget-view+json": {
              "version_major": 2,
              "version_minor": 0,
              "model_id": "a3efc585727345a19ebf974ec97c8d42"
            }
          },
          "metadata": {}
        },
        {
          "output_type": "display_data",
          "data": {
            "text/plain": [
              "<Figure size 1000x600 with 52 Axes>"
            ],
            "image/png": "[encoded data removed]"
          },
          "metadata": {}
        }
      ]
    },
    {
      "cell_type": "code",
      "execution_count": null,
      "metadata": {
        "id": "8s2cy7MY-Bla",
        "colab": {
          "base_uri": "https://localhost:8080/",
          "height": 626
        },
        "outputId": "ed50a70f-e3ab-49fd-b611-6e69870a4824",
        "cellView": "form"
      },
      "outputs": [
        {
          "output_type": "display_data",
          "data": {
            "text/plain": [
              "<IPython.core.display.HTML object>"
            ],
            "text/html": [
              "\n",
              "<body>\n",
              "  \t<div id=\"paint\">\n",
              "  \t\t<canvas id=\"myCanvas\" width=\"600\" height=\"600\"\n",
              "              onmousedown=\"start_paint(event)\"\n",
              "              onmousemove=\"do_paint(event)\"\n",
              "              onmouseup=\"stop_paint(event)\"\n",
              "              style=\"border:3px solid #000000;\">\n",
              "      </canvas>\n",
              "\t  </div>\n",
              "    <div style=\"position:absolute; top:0px; left:625px;\">\n",
              "        <h2> Cropped image </h2>\n",
              "        <img id=\"partial_image\" style=\"width:80px; height:80px; border:3px solid #000000;\">\n",
              "        <h2> Scaled </h2>\n",
              "        <canvas id=\"bin_canvas\" width=\"80\" height=\"80\"\n",
              "              style=\"border:3px solid #000000;\">\n",
              "        </canvas>\n",
              "        <h2> Recognize symbol </h2>\n",
              "        <button type=\"button\" onclick=\"process_data();\">\n",
              "        Do recognition\n",
              "        </button>\n",
              "        <h2> Clean canvas </h2>\n",
              "        <button type=\"button\" onclick=\"clear_canvas();\">\n",
              "        Clean\n",
              "        </button>\n",
              "        <h2> Recognition result </h2>\n",
              "        <div id=\"rec_res\" style=\"font-size:40px;\"></div>\n",
              "    </div>\n",
              "<script>\n",
              "\n",
              "var canvas = document.getElementById('myCanvas');\n",
              "var ctx = canvas.getContext('2d');\n",
              "var canvas_2 = document.getElementById(\"bin_canvas\");\n",
              "var ctx_2 = canvas_2.getContext(\"2d\");\n",
              "var mouse = {x: 0, y: 0, state: 0, min_x: 600, max_x: 0, min_y: 600, max_y: 0};\n",
              "var full_image = ctx.getImageData(0, 0, 600, 600);\n",
              "var partial_image = document.getElementById('partial_image');\n",
              "var binarized = null;\n",
              "\n",
              "var N_scaled = 28;\n",
              "\n",
              "ctx.lineJoin = 'round';\n",
              "ctx.lineCap = 'round';\n",
              "\n",
              "\n",
              "function start_paint(e)\n",
              "{\n",
              "  ctx.putImageData(full_image, 0, 0);\n",
              "  mouse.state = 1;\n",
              "  ctx.beginPath();\n",
              "  ctx.moveTo(mouse.x, mouse.y);\n",
              "}\n",
              "\n",
              "var line_width = 35;//28;\n",
              "\n",
              "function do_paint(e)\n",
              "{\n",
              "  mouse.x = e.pageX - 10;\n",
              "  mouse.y = e.pageY - 10;\n",
              "  if (!mouse.state)\n",
              "    return;\n",
              "  ctx.lineTo(mouse.x, mouse.y);\n",
              "  ctx.lineWidth = line_width;\n",
              "  ctx.strokeStyle = '#000000';\n",
              "  ctx.stroke();\n",
              "  full_image = ctx.getImageData(0, 0, 600, 600);\n",
              "  if (mouse.min_x > mouse.x)\n",
              "    mouse.min_x = mouse.x;\n",
              "  if (mouse.min_y > mouse.y)\n",
              "    mouse.min_y = mouse.y;\n",
              "  if (mouse.max_x < mouse.x)\n",
              "    mouse.max_x = mouse.x;\n",
              "  if (mouse.max_y < mouse.y)\n",
              "    mouse.max_y = mouse.y;\n",
              "}\n",
              "\n",
              "function stop_paint(e)\n",
              "{\n",
              "  mouse.state = 0;\n",
              "  full_image = ctx.getImageData(0, 0, 600, 600);\n",
              "\n",
              "  c_x = (mouse.max_x + mouse.min_x) / 2;\n",
              "  c_y = (mouse.max_y + mouse.min_y) / 2;\n",
              "  a = Math.max(mouse.max_x - mouse.min_x, mouse.max_y - mouse.min_y);\n",
              "  a += line_width;// + 90;\n",
              "  var part = ctx.getImageData(c_x - a/2, c_y - a/2, a, a);\n",
              "  partial_image.src = getImageURL(part);\n",
              "\n",
              "  binarized = Array(N_scaled).fill(0).map(x => Array(N_scaled).fill(0))\n",
              "  var counts = Array(N_scaled).fill(0).map(x => Array(N_scaled).fill(0))\n",
              "\n",
              "  for (var idx_y = 0; idx_y < part.height; idx_y += 1)\n",
              "    for (var idx_x = 0; idx_x < part.width; idx_x += 1)\n",
              "    {\n",
              "      counts[Math.floor(N_scaled * idx_x / part.width)][Math.floor(N_scaled * idx_y / part.height)] += 1;\n",
              "      if (part.data[idx_y * part.width * 4 + idx_x * 4 + 3] > 1)\n",
              "      \tbinarized[Math.floor(N_scaled * idx_x / part.width)][Math.floor(N_scaled * idx_y / part.height)] += 1;\n",
              "    }\n",
              "\n",
              "  for (var i = 0; i < N_scaled; i++)\n",
              "    for (var j = 0; j < N_scaled; j++)\n",
              "      binarized[i][j] = binarized[i][j] / counts[i][j];\n",
              "\n",
              "  ctx_2.fillStyle = \"rgba(255, 255, 255, 255)\";\n",
              "  ctx_2.fillRect(0, 0, canvas_2.width, canvas_2.height);\n",
              "  for (var i = 0; i < N_scaled; i++)\n",
              "    for (var j = 0; j < N_scaled; j++)\n",
              "    {\n",
              "      var c = Math.floor(255 - 255*binarized[i][j]);\n",
              "      var x = Math.floor(canvas_2.width / N_scaled * i);\n",
              "      var y = Math.floor(canvas_2.height / N_scaled * j);\n",
              "      var dx = Math.floor(canvas_2.width / N_scaled + 1);\n",
              "      var dy = Math.floor(canvas_2.height / N_scaled + 1);\n",
              "      ctx_2.fillStyle = \"rgba(\" + [c, c, c, 255].join(\",\") + \")\";\n",
              "      ctx_2.fillRect(x, y, dx, dy);\n",
              "    }\n",
              "\n",
              "  ctx.lineWidth = 2;\n",
              "  ctx.strokeStyle = '#FF0000';\n",
              "  ctx.strokeRect(c_x - a/2, c_y - a/2, a, a);\n",
              "}\n",
              "\n",
              "function getImageURL(imgData)\n",
              "{\n",
              "   var canvas = document.createElement('canvas');\n",
              "   var ctx = canvas.getContext('2d');\n",
              "   canvas.width = imgData.width;\n",
              "   canvas.height = imgData.height;\n",
              "   ctx.putImageData(imgData, 0, 0);\n",
              "   return canvas.toDataURL(); //image URL\n",
              "}\n",
              "\n",
              "async function process_data()\n",
              "{\n",
              "  const result = await google.colab.kernel.invokeFunction('notebook.DoRec', [binarized], {});\n",
              "  params = result.data['application/json'];\n",
              "  document.getElementById('rec_res').innerHTML = \"0123456789ABCDEFGHIJKLMNOPQRSTUVWXYZabdefghnqrt\"[params.msg];\n",
              "}\n",
              "\n",
              "function clear_canvas()\n",
              "{\n",
              "  mouse = {x: 0, y: 0, state: 0, min_x: 600, max_x: 0, min_y: 600, max_y: 0};\n",
              "  binarized = null;\n",
              "  ctx.clearRect(0, 0, canvas.width, canvas.height);\n",
              "  full_image = ctx.getImageData(0, 0, 600, 600);\n",
              "  ctx_2.clearRect(0, 0, 80, 80);\n",
              "  var part = ctx.getImageData(0, 0, 80, 80);\n",
              "  partial_image.src = getImageURL(part);\n",
              "  document.getElementById('rec_res').innerHTML = \"\";\n",
              "}\n",
              "\n",
              "    </script>\n",
              "  </body>\n"
            ]
          },
          "metadata": {}
        }
      ],
      "source": [
        "#@title #Visualization code\n",
        "import IPython\n",
        "from google.colab import output\n",
        "import numpy as np\n",
        "import json\n",
        "\n",
        "def process_symbol(num_img):\n",
        "  #num_img = center_image(num_img)\n",
        "  #img = torch.tensor(num_img, dtype=torch.float32).unsqueeze(0).unsqueeze(0).to(device)\n",
        "  x = torch.tensor(num_img.T, dtype=torch.float32).unsqueeze(0).unsqueeze(0).to(device)\n",
        "  model_1.eval()\n",
        "  #plt.figure(figsize=(15,10))\n",
        "  with torch.inference_mode():\n",
        "    for i, layer in enumerate(model_1.layer_stack):\n",
        "      x = layer(x)\n",
        "      for j, xx in enumerate(x[0]):\n",
        "        numpy_img = xx.cpu().detach().numpy()\n",
        "        if numpy_img.ndim != 2: continue\n",
        "        #plt.subplot(10, 10, 10*j+i+1)\n",
        "        #plt.imshow(numpy_img)\n",
        "        #plt.title(type(layer).__name__, fontsize=8)\n",
        "        #plt.axis(False)\n",
        "  #plt.show()\n",
        "  return x.argmax(dim=1).cpu().item()\n",
        "\n",
        "\n",
        "def do_recognition(array_8x8):\n",
        "  arr = np.transpose(np.array(array_8x8))\n",
        "  return IPython.display.JSON({'msg': process_symbol(arr)})\n",
        "\n",
        "main_str = '''\n",
        "<body>\n",
        "  \t<div id=\"paint\">\n",
        "  \t\t<canvas id=\"myCanvas\" width=\"600\" height=\"600\"\n",
        "              onmousedown=\"start_paint(event)\"\n",
        "              onmousemove=\"do_paint(event)\"\n",
        "              onmouseup=\"stop_paint(event)\"\n",
        "              style=\"border:3px solid #000000;\">\n",
        "      </canvas>\n",
        "\t  </div>\n",
        "    <div style=\"position:absolute; top:0px; left:625px;\">\n",
        "        <h2> Cropped image </h2>\n",
        "        <img id=\"partial_image\" style=\"width:80px; height:80px; border:3px solid #000000;\">\n",
        "        <h2> Scaled </h2>\n",
        "        <canvas id=\"bin_canvas\" width=\"80\" height=\"80\"\n",
        "              style=\"border:3px solid #000000;\">\n",
        "        </canvas>\n",
        "        <h2> Recognize symbol </h2>\n",
        "        <button type=\"button\" onclick=\"process_data();\">\n",
        "        Do recognition\n",
        "        </button>\n",
        "        <h2> Clean canvas </h2>\n",
        "        <button type=\"button\" onclick=\"clear_canvas();\">\n",
        "        Clean\n",
        "        </button>\n",
        "        <h2> Recognition result </h2>\n",
        "        <div id=\"rec_res\" style=\"font-size:40px;\"></div>\n",
        "    </div>\n",
        "<script>\n",
        "\n",
        "var canvas = document.getElementById('myCanvas');\n",
        "var ctx = canvas.getContext('2d');\n",
        "var canvas_2 = document.getElementById(\"bin_canvas\");\n",
        "var ctx_2 = canvas_2.getContext(\"2d\");\n",
        "var mouse = {x: 0, y: 0, state: 0, min_x: 600, max_x: 0, min_y: 600, max_y: 0};\n",
        "var full_image = ctx.getImageData(0, 0, 600, 600);\n",
        "var partial_image = document.getElementById('partial_image');\n",
        "var binarized = null;\n",
        "\n",
        "var N_scaled = 28;\n",
        "\n",
        "ctx.lineJoin = 'round';\n",
        "ctx.lineCap = 'round';\n",
        "\n",
        "\n",
        "function start_paint(e)\n",
        "{\n",
        "  ctx.putImageData(full_image, 0, 0);\n",
        "  mouse.state = 1;\n",
        "  ctx.beginPath();\n",
        "  ctx.moveTo(mouse.x, mouse.y);\n",
        "}\n",
        "\n",
        "var line_width = 35;//28;\n",
        "\n",
        "function do_paint(e)\n",
        "{\n",
        "  mouse.x = e.pageX - 10;\n",
        "  mouse.y = e.pageY - 10;\n",
        "  if (!mouse.state)\n",
        "    return;\n",
        "  ctx.lineTo(mouse.x, mouse.y);\n",
        "  ctx.lineWidth = line_width;\n",
        "  ctx.strokeStyle = '#000000';\n",
        "  ctx.stroke();\n",
        "  full_image = ctx.getImageData(0, 0, 600, 600);\n",
        "  if (mouse.min_x > mouse.x)\n",
        "    mouse.min_x = mouse.x;\n",
        "  if (mouse.min_y > mouse.y)\n",
        "    mouse.min_y = mouse.y;\n",
        "  if (mouse.max_x < mouse.x)\n",
        "    mouse.max_x = mouse.x;\n",
        "  if (mouse.max_y < mouse.y)\n",
        "    mouse.max_y = mouse.y;\n",
        "}\n",
        "\n",
        "function stop_paint(e)\n",
        "{\n",
        "  mouse.state = 0;\n",
        "  full_image = ctx.getImageData(0, 0, 600, 600);\n",
        "\n",
        "  c_x = (mouse.max_x + mouse.min_x) / 2;\n",
        "  c_y = (mouse.max_y + mouse.min_y) / 2;\n",
        "  a = Math.max(mouse.max_x - mouse.min_x, mouse.max_y - mouse.min_y);\n",
        "  a += line_width;// + 90;\n",
        "  var part = ctx.getImageData(c_x - a/2, c_y - a/2, a, a);\n",
        "  partial_image.src = getImageURL(part);\n",
        "\n",
        "  binarized = Array(N_scaled).fill(0).map(x => Array(N_scaled).fill(0))\n",
        "  var counts = Array(N_scaled).fill(0).map(x => Array(N_scaled).fill(0))\n",
        "\n",
        "  for (var idx_y = 0; idx_y < part.height; idx_y += 1)\n",
        "    for (var idx_x = 0; idx_x < part.width; idx_x += 1)\n",
        "    {\n",
        "      counts[Math.floor(N_scaled * idx_x / part.width)][Math.floor(N_scaled * idx_y / part.height)] += 1;\n",
        "      if (part.data[idx_y * part.width * 4 + idx_x * 4 + 3] > 1)\n",
        "      \tbinarized[Math.floor(N_scaled * idx_x / part.width)][Math.floor(N_scaled * idx_y / part.height)] += 1;\n",
        "    }\n",
        "\n",
        "  for (var i = 0; i < N_scaled; i++)\n",
        "    for (var j = 0; j < N_scaled; j++)\n",
        "      binarized[i][j] = binarized[i][j] / counts[i][j];\n",
        "\n",
        "  ctx_2.fillStyle = \"rgba(255, 255, 255, 255)\";\n",
        "  ctx_2.fillRect(0, 0, canvas_2.width, canvas_2.height);\n",
        "  for (var i = 0; i < N_scaled; i++)\n",
        "    for (var j = 0; j < N_scaled; j++)\n",
        "    {\n",
        "      var c = Math.floor(255 - 255*binarized[i][j]);\n",
        "      var x = Math.floor(canvas_2.width / N_scaled * i);\n",
        "      var y = Math.floor(canvas_2.height / N_scaled * j);\n",
        "      var dx = Math.floor(canvas_2.width / N_scaled + 1);\n",
        "      var dy = Math.floor(canvas_2.height / N_scaled + 1);\n",
        "      ctx_2.fillStyle = \"rgba(\" + [c, c, c, 255].join(\",\") + \")\";\n",
        "      ctx_2.fillRect(x, y, dx, dy);\n",
        "    }\n",
        "\n",
        "  ctx.lineWidth = 2;\n",
        "  ctx.strokeStyle = '#FF0000';\n",
        "  ctx.strokeRect(c_x - a/2, c_y - a/2, a, a);\n",
        "}\n",
        "\n",
        "function getImageURL(imgData)\n",
        "{\n",
        "   var canvas = document.createElement('canvas');\n",
        "   var ctx = canvas.getContext('2d');\n",
        "   canvas.width = imgData.width;\n",
        "   canvas.height = imgData.height;\n",
        "   ctx.putImageData(imgData, 0, 0);\n",
        "   return canvas.toDataURL(); //image URL\n",
        "}\n",
        "\n",
        "async function process_data()\n",
        "{\n",
        "  const result = await google.colab.kernel.invokeFunction('notebook.DoRec', [binarized], {});\n",
        "  params = result.data['application/json'];\n",
        "  document.getElementById('rec_res').innerHTML = \"0123456789ABCDEFGHIJKLMNOPQRSTUVWXYZabdefghnqrt\"[params.msg];\n",
        "}\n",
        "\n",
        "function clear_canvas()\n",
        "{\n",
        "  mouse = {x: 0, y: 0, state: 0, min_x: 600, max_x: 0, min_y: 600, max_y: 0};\n",
        "  binarized = null;\n",
        "  ctx.clearRect(0, 0, canvas.width, canvas.height);\n",
        "  full_image = ctx.getImageData(0, 0, 600, 600);\n",
        "  ctx_2.clearRect(0, 0, 80, 80);\n",
        "  var part = ctx.getImageData(0, 0, 80, 80);\n",
        "  partial_image.src = getImageURL(part);\n",
        "  document.getElementById('rec_res').innerHTML = \"\";\n",
        "}\n",
        "\n",
        "    </script>\n",
        "  </body>\n",
        "'''\n",
        "\n",
        "display(IPython.display.HTML(main_str))\n",
        "output.register_callback('notebook.DoRec', do_recognition)"
      ]
    },
    {
      "cell_type": "code",
      "source": [
        "#@title Structured pruning\n",
        "\n",
        "import torch\n",
        "import torch.nn.utils.prune as prune\n",
        "import torch.nn as nn\n",
        "\n",
        "def prune_all_conv_layers(model, amount=0.2):\n",
        "    for name, module in model.named_modules():\n",
        "        if isinstance(module, nn.Conv2d):\n",
        "            prune.ln_structured(module, name='weight', amount=amount, n=2, dim=0)\n",
        "            prune.remove(module, 'weight')\n",
        "            print(f\"Pruned {amount*100}% of filters in layer: {name}\")\n",
        "\n",
        "prune_all_conv_layers(model_1, amount=0.2)\n",
        "\n"
      ],
      "metadata": {
        "id": "NmLcx56Z0lKQ"
      },
      "execution_count": null,
      "outputs": []
    },
    {
      "cell_type": "code",
      "source": [
        "#@title Quality\n",
        "\n",
        "y_pred_tensor = get_conf_mat_torch(model_1)\n",
        "confmat = ConfusionMatrix(task='multiclass', num_classes=len(class_names))\n",
        "confmat_tensor = confmat(preds=y_pred_tensor,\n",
        "                        target=test_data.targets)\n",
        "draw_conf_tensor(confmat_tensor)\n",
        "print_metrics(class_names, y_pred_tensor)"
      ],
      "metadata": {
        "cellView": "form",
        "id": "TgK81z811cvo"
      },
      "execution_count": null,
      "outputs": []
    },
    {
      "cell_type": "markdown",
      "source": [
        "#Model saving / loading"
      ],
      "metadata": {
        "id": "Z82CH408JI0J"
      }
    },
    {
      "cell_type": "code",
      "source": [
        "#@title Save model to onnx\n",
        "\n",
        "save_to_onnx(model_1, \"my_lenet.onnx\", device)"
      ],
      "metadata": {
        "colab": {
          "base_uri": "https://localhost:8080/"
        },
        "id": "NJy9YROp9ryT",
        "outputId": "1ef025c6-7d4f-4e2d-d46c-34d70f3b32cc"
      },
      "execution_count": null,
      "outputs": [
        {
          "output_type": "stream",
          "name": "stderr",
          "text": [
            "/tmp/ipython-input-2-68059806.py:102: DeprecationWarning: You are using the legacy TorchScript-based ONNX export. Starting in PyTorch 2.9, the new torch.export-based ONNX exporter will be the default. To switch now, set dynamo=True in torch.onnx.export. This new exporter supports features like exporting LLMs with DynamicCache. We encourage you to try it and share feedback to help improve the experience. Learn more about the new export logic: https://pytorch.org/docs/stable/onnx_dynamo.html. For exporting control flow: https://pytorch.org/tutorials/beginner/onnx/export_control_flow_model_to_onnx_tutorial.html.\n",
            "  torch.onnx.export(\n"
          ]
        }
      ]
    },
    {
      "cell_type": "code",
      "source": [
        "#@title Load onnx model\n",
        "import onnx\n",
        "import onnxruntime as ort\n",
        "\n",
        "ort_session = ort.InferenceSession(\"my_lenet.onnx\")"
      ],
      "metadata": {
        "id": "1AWfbEA5-bLs"
      },
      "execution_count": null,
      "outputs": []
    },
    {
      "cell_type": "code",
      "source": [
        "#@title Quality\n",
        "\n",
        "y_pred_tensor = get_conf_mat_onnx(ort_session)\n",
        "confmat = ConfusionMatrix( task='multiclass', num_classes=len(class_names))\n",
        "confmat_tensor = confmat(preds=y_pred_tensor,\n",
        "                        target=test_data.targets)\n",
        "draw_conf_tensor(confmat_tensor)\n",
        "print_metrics(class_names, y_pred_tensor)"
      ],
      "metadata": {
        "id": "yXXUW5Ii5NYk",
        "outputId": "7e5c1cd4-38da-433f-d5e6-38b4a97808a0",
        "colab": {
          "base_uri": "https://localhost:8080/",
          "height": 633
        },
        "cellView": "form"
      },
      "execution_count": null,
      "outputs": [
        {
          "output_type": "display_data",
          "data": {
            "text/plain": [
              "<Figure size 800x600 with 2 Axes>"
            ],
            "image/png": "[encoded data removed]"
          },
          "metadata": {}
        },
        {
          "output_type": "stream",
          "name": "stdout",
          "text": [
            "Accuracy:  0.8342\n",
            "Precision: 0.8546\n",
            "Recall:    0.8342\n",
            "F1-score:  0.8403\n"
          ]
        }
      ]
    },
    {
      "cell_type": "markdown",
      "source": [
        "#Quantization"
      ],
      "metadata": {
        "id": "Sq2lGWZbI1Uh"
      }
    },
    {
      "cell_type": "code",
      "source": [
        "#@title Save quantize model to tflite\n",
        "\n",
        "onnx_to_tflite(\"my_lenet.onnx\", train_data)"
      ],
      "metadata": {
        "colab": {
          "base_uri": "https://localhost:8080/"
        },
        "id": "CaT7Gg89RSmS",
        "outputId": "0fab7fdd-26f5-4b42-94a9-6ffaba5d9d19",
        "cellView": "form"
      },
      "execution_count": null,
      "outputs": [
        {
          "output_type": "stream",
          "name": "stderr",
          "text": [
            "INFO:absl:Function `__call__` contains input name(s) x with unsupported characters which will be renamed to transpose_8_x in the SavedModel.\n",
            "INFO:absl:Found untraced functions such as gen_tensor_dict while saving (showing 1 of 1). These functions will not be directly callable after loading.\n",
            "INFO:absl:Writing fingerprint to model_tf/fingerprint.pb\n"
          ]
        },
        {
          "output_type": "stream",
          "name": "stdout",
          "text": [
            "✅ Converted to TensorFlow\n",
            "✅ Converted to model.tflite\n"
          ]
        }
      ]
    },
    {
      "cell_type": "code",
      "source": [
        "#@title Load quantized model from tflite\n",
        "import tensorflow as tf\n",
        "\n",
        "interpreter = tf.lite.Interpreter(model_path=\"my_lenet.tflite\")\n",
        "interpreter.allocate_tensors()"
      ],
      "metadata": {
        "id": "FaxPeDTXax0D"
      },
      "execution_count": null,
      "outputs": []
    },
    {
      "cell_type": "code",
      "source": [
        "#@title Quality\n",
        "\n",
        "import numpy as np\n",
        "import torch\n",
        "from torchmetrics import ConfusionMatrix\n",
        "import matplotlib.pyplot as plt\n",
        "\n",
        "y_pred_tensor = get_conf_mat_tflite(interpreter)\n",
        "confmat = ConfusionMatrix( task='multiclass', num_classes=len(class_names))\n",
        "confmat_tensor = confmat(preds=y_pred_tensor,\n",
        "                        target=test_data.targets)\n",
        "\n",
        "draw_conf_tensor(confmat_tensor)\n",
        "print_metrics(class_names, y_pred_tensor)"
      ],
      "metadata": {
        "cellView": "form",
        "id": "Weoh2ly26O-z",
        "outputId": "e4cfdb63-de1f-4ff6-c2c7-026316fdc53b",
        "colab": {
          "base_uri": "https://localhost:8080/",
          "height": 633
        }
      },
      "execution_count": null,
      "outputs": [
        {
          "output_type": "display_data",
          "data": {
            "text/plain": [
              "<Figure size 800x600 with 2 Axes>"
            ],
            "image/png": "[encoded data removed]"
          },
          "metadata": {}
        },
        {
          "output_type": "stream",
          "name": "stdout",
          "text": [
            "Accuracy:  0.8324\n",
            "Precision: 0.8565\n",
            "Recall:    0.8324\n",
            "F1-score:  0.8400\n"
          ]
        }
      ]
    },
    {
      "cell_type": "markdown",
      "source": [
        "#Knowledge distillation"
      ],
      "metadata": {
        "id": "pVgpKFReIt5w"
      }
    },
    {
      "cell_type": "code",
      "source": [
        "#@title Student model\n",
        "import torch.nn.functional as F\n",
        "\n",
        "class MLPStudent(nn.Module):\n",
        "    def __init__(self, num_classes=47):\n",
        "        super().__init__()\n",
        "        self.fc1 = nn.Linear(28*28, 128)\n",
        "        self.fc2 = nn.Linear(128, 64)\n",
        "        self.fc3 = nn.Linear(64, num_classes)\n",
        "\n",
        "    def forward(self, x):\n",
        "        x = x.view(x.size(0), -1)  # flatten\n",
        "        x = F.relu(self.fc1(x))\n",
        "        x = F.relu(self.fc2(x))\n",
        "        x = self.fc3(x)\n",
        "        return x\n",
        "\n",
        "student = MLPStudent().to(device)"
      ],
      "metadata": {
        "id": "ziuwJRjooK_j"
      },
      "execution_count": null,
      "outputs": []
    },
    {
      "cell_type": "code",
      "source": [
        "#@title Student model structure\n",
        "\n",
        "from torchview import draw_graph\n",
        "model_graph = draw_graph(student, input_size=[1,1,28,28], expand_nested=True, graph_dir='LR',)\n",
        "model_graph.resize_graph(scale=5.0)\n",
        "model_graph.visual_graph\n",
        "\n"
      ],
      "metadata": {
        "id": "lCDfcXpWHz7h",
        "outputId": "6f49dc2e-98e4-44fb-83a1-89820bc3c306",
        "colab": {
          "base_uri": "https://localhost:8080/",
          "height": 108
        }
      },
      "execution_count": null,
      "outputs": [
        {
          "output_type": "execute_result",
          "data": {
            "image/svg+xml": "<?xml version=\"1.0\" encoding=\"UTF-8\" standalone=\"no\"?>\n<!DOCTYPE svg PUBLIC \"-//W3C//DTD SVG 1.1//EN\"\n \"http://www.w3.org/Graphics/SVG/1.1/DTD/svg11.dtd\">\n<!-- Generated by graphviz version 2.43.0 (0)\n -->\n<!-- Title: model Pages: 1 -->\n<svg width=\"1666pt\" height=\"50pt\"\n viewBox=\"0.00 0.00 1666.00 50.00\" xmlns=\"http://www.w3.org/2000/svg\" xmlns:xlink=\"http://www.w3.org/1999/xlink\">\n<g id=\"graph0\" class=\"graph\" transform=\"scale(1 1) rotate(0) translate(4 46)\">\n<title>model</title>\n<polygon fill=\"white\" stroke=\"transparent\" points=\"-4,4 -4,-46 1662,-46 1662,4 -4,4\"/>\n<!-- 0 -->\n<g id=\"node1\" class=\"node\">\n<title>0</title>\n<polygon fill=\"lightyellow\" stroke=\"transparent\" points=\"178,-37 0,-37 0,-5 178,-5 178,-37\"/>\n<polygon fill=\"none\" stroke=\"black\" points=\"0,-5 0,-37 83,-37 83,-5 0,-5\"/>\n<text text-anchor=\"start\" x=\"5\" y=\"-24\" font-family=\"Linux libertine\" font-size=\"10.00\">input&#45;tensor</text>\n<text text-anchor=\"start\" x=\"20\" y=\"-13\" font-family=\"Linux libertine\" font-size=\"10.00\">depth:0</text>\n<polygon fill=\"none\" stroke=\"black\" points=\"83,-5 83,-37 178,-37 178,-5 83,-5\"/>\n<text text-anchor=\"start\" x=\"88\" y=\"-18.5\" font-family=\"Linux libertine\" font-size=\"10.00\">(1, 1, 28, 28)</text>\n</g>\n<!-- 1 -->\n<g id=\"node2\" class=\"node\">\n<title>1</title>\n<polygon fill=\"aliceblue\" stroke=\"transparent\" points=\"427,-42 214,-42 214,0 427,0 427,-42\"/>\n<polygon fill=\"none\" stroke=\"black\" points=\"214.5,0 214.5,-42 267.5,-42 267.5,0 214.5,0\"/>\n<text text-anchor=\"start\" x=\"228.5\" y=\"-24\" font-family=\"Linux libertine\" font-size=\"10.00\">view</text>\n<text text-anchor=\"start\" x=\"219.5\" y=\"-13\" font-family=\"Linux libertine\" font-size=\"10.00\">depth:1</text>\n<polygon fill=\"none\" stroke=\"black\" points=\"267.5,-21 267.5,-42 326.5,-42 326.5,-21 267.5,-21\"/>\n<text text-anchor=\"start\" x=\"278.5\" y=\"-29\" font-family=\"Linux libertine\" font-size=\"10.00\">input:</text>\n<polygon fill=\"none\" stroke=\"black\" points=\"326.5,-21 326.5,-42 427.5,-42 427.5,-21 326.5,-21\"/>\n<text text-anchor=\"start\" x=\"331.5\" y=\"-29\" font-family=\"Linux libertine\" font-size=\"10.00\">(1, 1, 28, 28) </text>\n<polygon fill=\"none\" stroke=\"black\" points=\"267.5,0 267.5,-21 326.5,-21 326.5,0 267.5,0\"/>\n<text text-anchor=\"start\" x=\"272.5\" y=\"-8\" font-family=\"Linux libertine\" font-size=\"10.00\">output: </text>\n<polygon fill=\"none\" stroke=\"black\" points=\"326.5,0 326.5,-21 427.5,-21 427.5,0 326.5,0\"/>\n<text text-anchor=\"start\" x=\"349.5\" y=\"-8\" font-family=\"Linux libertine\" font-size=\"10.00\">(1, 784) </text>\n</g>\n<!-- 0&#45;&gt;1 -->\n<g id=\"edge1\" class=\"edge\">\n<title>0&#45;&gt;1</title>\n<path fill=\"none\" stroke=\"black\" d=\"M178.07,-21C186.52,-21 195.18,-21 203.84,-21\"/>\n<polygon fill=\"black\" stroke=\"black\" points=\"204,-24.5 214,-21 204,-17.5 204,-24.5\"/>\n</g>\n<!-- 2 -->\n<g id=\"node3\" class=\"node\">\n<title>2</title>\n<polygon fill=\"#c1ffc1\" stroke=\"transparent\" points=\"640,-42 463,-42 463,0 640,0 640,-42\"/>\n<polygon fill=\"none\" stroke=\"black\" points=\"463.5,0 463.5,-42 516.5,-42 516.5,0 463.5,0\"/>\n<text text-anchor=\"start\" x=\"471.5\" y=\"-24\" font-family=\"Linux libertine\" font-size=\"10.00\">Linear</text>\n<text text-anchor=\"start\" x=\"468.5\" y=\"-13\" font-family=\"Linux libertine\" font-size=\"10.00\">depth:1</text>\n<polygon fill=\"none\" stroke=\"black\" points=\"516.5,-21 516.5,-42 575.5,-42 575.5,-21 516.5,-21\"/>\n<text text-anchor=\"start\" x=\"527.5\" y=\"-29\" font-family=\"Linux libertine\" font-size=\"10.00\">input:</text>\n<polygon fill=\"none\" stroke=\"black\" points=\"575.5,-21 575.5,-42 640.5,-42 640.5,-21 575.5,-21\"/>\n<text text-anchor=\"start\" x=\"580.5\" y=\"-29\" font-family=\"Linux libertine\" font-size=\"10.00\">(1, 784) </text>\n<polygon fill=\"none\" stroke=\"black\" points=\"516.5,0 516.5,-21 575.5,-21 575.5,0 516.5,0\"/>\n<text text-anchor=\"start\" x=\"521.5\" y=\"-8\" font-family=\"Linux libertine\" font-size=\"10.00\">output: </text>\n<polygon fill=\"none\" stroke=\"black\" points=\"575.5,0 575.5,-21 640.5,-21 640.5,0 575.5,0\"/>\n<text text-anchor=\"start\" x=\"580.5\" y=\"-8\" font-family=\"Linux libertine\" font-size=\"10.00\">(1, 128) </text>\n</g>\n<!-- 1&#45;&gt;2 -->\n<g id=\"edge2\" class=\"edge\">\n<title>1&#45;&gt;2</title>\n<path fill=\"none\" stroke=\"black\" d=\"M427.29,-21C435.7,-21 444.18,-21 452.54,-21\"/>\n<polygon fill=\"black\" stroke=\"black\" points=\"452.66,-24.5 462.66,-21 452.66,-17.5 452.66,-24.5\"/>\n</g>\n<!-- 3 -->\n<g id=\"node4\" class=\"node\">\n<title>3</title>\n<polygon fill=\"aliceblue\" stroke=\"transparent\" points=\"853,-42 676,-42 676,0 853,0 853,-42\"/>\n<polygon fill=\"none\" stroke=\"black\" points=\"676.5,0 676.5,-42 729.5,-42 729.5,0 676.5,0\"/>\n<text text-anchor=\"start\" x=\"690.5\" y=\"-24\" font-family=\"Linux libertine\" font-size=\"10.00\">relu</text>\n<text text-anchor=\"start\" x=\"681.5\" y=\"-13\" font-family=\"Linux libertine\" font-size=\"10.00\">depth:1</text>\n<polygon fill=\"none\" stroke=\"black\" points=\"729.5,-21 729.5,-42 788.5,-42 788.5,-21 729.5,-21\"/>\n<text text-anchor=\"start\" x=\"740.5\" y=\"-29\" font-family=\"Linux libertine\" font-size=\"10.00\">input:</text>\n<polygon fill=\"none\" stroke=\"black\" points=\"788.5,-21 788.5,-42 853.5,-42 853.5,-21 788.5,-21\"/>\n<text text-anchor=\"start\" x=\"793.5\" y=\"-29\" font-family=\"Linux libertine\" font-size=\"10.00\">(1, 128) </text>\n<polygon fill=\"none\" stroke=\"black\" points=\"729.5,0 729.5,-21 788.5,-21 788.5,0 729.5,0\"/>\n<text text-anchor=\"start\" x=\"734.5\" y=\"-8\" font-family=\"Linux libertine\" font-size=\"10.00\">output: </text>\n<polygon fill=\"none\" stroke=\"black\" points=\"788.5,0 788.5,-21 853.5,-21 853.5,0 788.5,0\"/>\n<text text-anchor=\"start\" x=\"793.5\" y=\"-8\" font-family=\"Linux libertine\" font-size=\"10.00\">(1, 128) </text>\n</g>\n<!-- 2&#45;&gt;3 -->\n<g id=\"edge3\" class=\"edge\">\n<title>2&#45;&gt;3</title>\n<path fill=\"none\" stroke=\"black\" d=\"M640.15,-21C648.52,-21 657.05,-21 665.51,-21\"/>\n<polygon fill=\"black\" stroke=\"black\" points=\"665.78,-24.5 675.78,-21 665.78,-17.5 665.78,-24.5\"/>\n</g>\n<!-- 4 -->\n<g id=\"node5\" class=\"node\">\n<title>4</title>\n<polygon fill=\"#c1ffc1\" stroke=\"transparent\" points=\"1066,-42 889,-42 889,0 1066,0 1066,-42\"/>\n<polygon fill=\"none\" stroke=\"black\" points=\"889.5,0 889.5,-42 942.5,-42 942.5,0 889.5,0\"/>\n<text text-anchor=\"start\" x=\"897.5\" y=\"-24\" font-family=\"Linux libertine\" font-size=\"10.00\">Linear</text>\n<text text-anchor=\"start\" x=\"894.5\" y=\"-13\" font-family=\"Linux libertine\" font-size=\"10.00\">depth:1</text>\n<polygon fill=\"none\" stroke=\"black\" points=\"942.5,-21 942.5,-42 1001.5,-42 1001.5,-21 942.5,-21\"/>\n<text text-anchor=\"start\" x=\"953.5\" y=\"-29\" font-family=\"Linux libertine\" font-size=\"10.00\">input:</text>\n<polygon fill=\"none\" stroke=\"black\" points=\"1001.5,-21 1001.5,-42 1066.5,-42 1066.5,-21 1001.5,-21\"/>\n<text text-anchor=\"start\" x=\"1006.5\" y=\"-29\" font-family=\"Linux libertine\" font-size=\"10.00\">(1, 128) </text>\n<polygon fill=\"none\" stroke=\"black\" points=\"942.5,0 942.5,-21 1001.5,-21 1001.5,0 942.5,0\"/>\n<text text-anchor=\"start\" x=\"947.5\" y=\"-8\" font-family=\"Linux libertine\" font-size=\"10.00\">output: </text>\n<polygon fill=\"none\" stroke=\"black\" points=\"1001.5,0 1001.5,-21 1066.5,-21 1066.5,0 1001.5,0\"/>\n<text text-anchor=\"start\" x=\"1009.5\" y=\"-8\" font-family=\"Linux libertine\" font-size=\"10.00\">(1, 64) </text>\n</g>\n<!-- 3&#45;&gt;4 -->\n<g id=\"edge4\" class=\"edge\">\n<title>3&#45;&gt;4</title>\n<path fill=\"none\" stroke=\"black\" d=\"M853.15,-21C861.52,-21 870.05,-21 878.51,-21\"/>\n<polygon fill=\"black\" stroke=\"black\" points=\"878.78,-24.5 888.78,-21 878.78,-17.5 878.78,-24.5\"/>\n</g>\n<!-- 5 -->\n<g id=\"node6\" class=\"node\">\n<title>5</title>\n<polygon fill=\"aliceblue\" stroke=\"transparent\" points=\"1273,-42 1102,-42 1102,0 1273,0 1273,-42\"/>\n<polygon fill=\"none\" stroke=\"black\" points=\"1102.5,0 1102.5,-42 1155.5,-42 1155.5,0 1102.5,0\"/>\n<text text-anchor=\"start\" x=\"1116.5\" y=\"-24\" font-family=\"Linux libertine\" font-size=\"10.00\">relu</text>\n<text text-anchor=\"start\" x=\"1107.5\" y=\"-13\" font-family=\"Linux libertine\" font-size=\"10.00\">depth:1</text>\n<polygon fill=\"none\" stroke=\"black\" points=\"1155.5,-21 1155.5,-42 1214.5,-42 1214.5,-21 1155.5,-21\"/>\n<text text-anchor=\"start\" x=\"1166.5\" y=\"-29\" font-family=\"Linux libertine\" font-size=\"10.00\">input:</text>\n<polygon fill=\"none\" stroke=\"black\" points=\"1214.5,-21 1214.5,-42 1273.5,-42 1273.5,-21 1214.5,-21\"/>\n<text text-anchor=\"start\" x=\"1219.5\" y=\"-29\" font-family=\"Linux libertine\" font-size=\"10.00\">(1, 64) </text>\n<polygon fill=\"none\" stroke=\"black\" points=\"1155.5,0 1155.5,-21 1214.5,-21 1214.5,0 1155.5,0\"/>\n<text text-anchor=\"start\" x=\"1160.5\" y=\"-8\" font-family=\"Linux libertine\" font-size=\"10.00\">output: </text>\n<polygon fill=\"none\" stroke=\"black\" points=\"1214.5,0 1214.5,-21 1273.5,-21 1273.5,0 1214.5,0\"/>\n<text text-anchor=\"start\" x=\"1219.5\" y=\"-8\" font-family=\"Linux libertine\" font-size=\"10.00\">(1, 64) </text>\n</g>\n<!-- 4&#45;&gt;5 -->\n<g id=\"edge5\" class=\"edge\">\n<title>4&#45;&gt;5</title>\n<path fill=\"none\" stroke=\"black\" d=\"M1066.11,-21C1074.65,-21 1083.34,-21 1091.94,-21\"/>\n<polygon fill=\"black\" stroke=\"black\" points=\"1091.98,-24.5 1101.98,-21 1091.98,-17.5 1091.98,-24.5\"/>\n</g>\n<!-- 6 -->\n<g id=\"node7\" class=\"node\">\n<title>6</title>\n<polygon fill=\"#c1ffc1\" stroke=\"transparent\" points=\"1480,-42 1309,-42 1309,0 1480,0 1480,-42\"/>\n<polygon fill=\"none\" stroke=\"black\" points=\"1309.5,0 1309.5,-42 1362.5,-42 1362.5,0 1309.5,0\"/>\n<text text-anchor=\"start\" x=\"1317.5\" y=\"-24\" font-family=\"Linux libertine\" font-size=\"10.00\">Linear</text>\n<text text-anchor=\"start\" x=\"1314.5\" y=\"-13\" font-family=\"Linux libertine\" font-size=\"10.00\">depth:1</text>\n<polygon fill=\"none\" stroke=\"black\" points=\"1362.5,-21 1362.5,-42 1421.5,-42 1421.5,-21 1362.5,-21\"/>\n<text text-anchor=\"start\" x=\"1373.5\" y=\"-29\" font-family=\"Linux libertine\" font-size=\"10.00\">input:</text>\n<polygon fill=\"none\" stroke=\"black\" points=\"1421.5,-21 1421.5,-42 1480.5,-42 1480.5,-21 1421.5,-21\"/>\n<text text-anchor=\"start\" x=\"1426.5\" y=\"-29\" font-family=\"Linux libertine\" font-size=\"10.00\">(1, 64) </text>\n<polygon fill=\"none\" stroke=\"black\" points=\"1362.5,0 1362.5,-21 1421.5,-21 1421.5,0 1362.5,0\"/>\n<text text-anchor=\"start\" x=\"1367.5\" y=\"-8\" font-family=\"Linux libertine\" font-size=\"10.00\">output: </text>\n<polygon fill=\"none\" stroke=\"black\" points=\"1421.5,0 1421.5,-21 1480.5,-21 1480.5,0 1421.5,0\"/>\n<text text-anchor=\"start\" x=\"1426.5\" y=\"-8\" font-family=\"Linux libertine\" font-size=\"10.00\">(1, 47) </text>\n</g>\n<!-- 5&#45;&gt;6 -->\n<g id=\"edge6\" class=\"edge\">\n<title>5&#45;&gt;6</title>\n<path fill=\"none\" stroke=\"black\" d=\"M1273.06,-21C1281.55,-21 1290.2,-21 1298.78,-21\"/>\n<polygon fill=\"black\" stroke=\"black\" points=\"1298.8,-24.5 1308.8,-21 1298.8,-17.5 1298.8,-24.5\"/>\n</g>\n<!-- 7 -->\n<g id=\"node8\" class=\"node\">\n<title>7</title>\n<polygon fill=\"lightyellow\" stroke=\"transparent\" points=\"1658,-37 1516,-37 1516,-5 1658,-5 1658,-37\"/>\n<polygon fill=\"none\" stroke=\"black\" points=\"1516,-5 1516,-37 1605,-37 1605,-5 1516,-5\"/>\n<text text-anchor=\"start\" x=\"1521\" y=\"-24\" font-family=\"Linux libertine\" font-size=\"10.00\">output&#45;tensor</text>\n<text text-anchor=\"start\" x=\"1539\" y=\"-13\" font-family=\"Linux libertine\" font-size=\"10.00\">depth:0</text>\n<polygon fill=\"none\" stroke=\"black\" points=\"1605,-5 1605,-37 1658,-37 1658,-5 1605,-5\"/>\n<text text-anchor=\"start\" x=\"1610\" y=\"-18.5\" font-family=\"Linux libertine\" font-size=\"10.00\">(1, 47)</text>\n</g>\n<!-- 6&#45;&gt;7 -->\n<g id=\"edge7\" class=\"edge\">\n<title>6&#45;&gt;7</title>\n<path fill=\"none\" stroke=\"black\" d=\"M1480.17,-21C1488.64,-21 1497.23,-21 1505.66,-21\"/>\n<polygon fill=\"black\" stroke=\"black\" points=\"1505.85,-24.5 1515.85,-21 1505.85,-17.5 1505.85,-24.5\"/>\n</g>\n</g>\n</svg>\n",
            "text/plain": [
              "<graphviz.graphs.Digraph at 0x7d8446f7cb90>"
            ]
          },
          "metadata": {},
          "execution_count": 18
        }
      ]
    },
    {
      "cell_type": "code",
      "source": [
        "#@title Knowledge distillation / training (long)\n",
        "\n",
        "import torch\n",
        "import torch.nn.functional as F\n",
        "from tqdm import tqdm\n",
        "\n",
        "teacher = model_1\n",
        "optimizer = torch.optim.Adam(student.parameters(), lr=1e-3)\n",
        "\n",
        "def cross_entropy_loss(student_logits, labels):\n",
        "    return F.cross_entropy(student_logits, labels)\n",
        "\n",
        "def kl_divergence_loss(student_logits, teacher_logits, T=4.0):\n",
        "    soft_teacher = F.softmax(teacher_logits / T, dim=1)\n",
        "    soft_student = F.log_softmax(student_logits / T, dim=1)\n",
        "    return F.kl_div(soft_student, soft_teacher, reduction='batchmean') * (T * T)\n",
        "\n",
        "def distillation_loss(student_logits, teacher_logits, labels, alpha=0.7, T=4.0):\n",
        "    loss_ce = cross_entropy_loss(student_logits, labels)\n",
        "    loss_kl = kl_divergence_loss(student_logits, teacher_logits, T)\n",
        "    loss = alpha * loss_ce + (1 - alpha) * loss_kl\n",
        "    return loss, loss_ce, loss_kl\n",
        "\n",
        "def train_epoch_distill(student, teacher, dataloader, optimizer, device,\n",
        "                        alpha=0.7, T=4.0):\n",
        "    teacher.eval()\n",
        "    student.train()\n",
        "\n",
        "    total_loss, total_ce, total_kl = 0.0, 0.0, 0.0\n",
        "    total_correct, total_samples = 0, 0\n",
        "\n",
        "    for images, labels in tqdm(dataloader, desc=\"Training\"):\n",
        "        images, labels = images.to(device), labels.to(device)\n",
        "\n",
        "        with torch.no_grad():\n",
        "            teacher_logits = teacher(images)\n",
        "\n",
        "        student_logits = student(images)\n",
        "\n",
        "        loss, loss_ce, loss_kl = distillation_loss(\n",
        "            student_logits, teacher_logits, labels, alpha, T\n",
        "        )\n",
        "\n",
        "        optimizer.zero_grad()\n",
        "        loss.backward()\n",
        "        optimizer.step()\n",
        "\n",
        "        total_loss += loss.item() * images.size(0)\n",
        "        total_ce += loss_ce.item() * images.size(0)\n",
        "        total_kl += loss_kl.item() * images.size(0)\n",
        "\n",
        "        preds = student_logits.argmax(dim=1)\n",
        "        total_correct += (preds == labels).sum().item()\n",
        "        total_samples += labels.size(0)\n",
        "\n",
        "    avg_loss = total_loss / total_samples\n",
        "    avg_ce = total_ce / total_samples\n",
        "    avg_kl = total_kl / total_samples\n",
        "    acc = total_correct / total_samples\n",
        "\n",
        "    return {\n",
        "        \"loss\": avg_loss,\n",
        "        \"ce_loss\": avg_ce,\n",
        "        \"kl_loss\": avg_kl,\n",
        "        \"acc\": acc\n",
        "    }\n",
        "\n",
        "for epoch in range(2):\n",
        "    stats = train_epoch_distill(student, teacher, train_dataloader, optimizer, device,\n",
        "                                alpha=0.7, T=4.0)\n",
        "    print(f\"Epoch {epoch+1}: \"\n",
        "          f\"loss={stats['loss']:.4f}, acc={stats['acc']:.4f}, \"\n",
        "          f\"CE={stats['ce_loss']:.4f}, KL={stats['kl_loss']:.4f}\")\n",
        "\n"
      ],
      "metadata": {
        "colab": {
          "base_uri": "https://localhost:8080/"
        },
        "id": "iaHxhhGrnMTX",
        "outputId": "4b4434a9-b682-45d7-958e-e414a927cd4f"
      },
      "execution_count": null,
      "outputs": [
        {
          "output_type": "stream",
          "name": "stderr",
          "text": [
            "Training: 100%|██████████| 21811/21811 [02:53<00:00, 125.68it/s]\n"
          ]
        },
        {
          "output_type": "stream",
          "name": "stdout",
          "text": [
            "Epoch 1: loss=0.9567, acc=0.8225, CE=0.5488, KL=1.9085\n"
          ]
        },
        {
          "output_type": "stream",
          "name": "stderr",
          "text": [
            "Training: 100%|██████████| 21811/21811 [02:50<00:00, 127.99it/s]"
          ]
        },
        {
          "output_type": "stream",
          "name": "stdout",
          "text": [
            "Epoch 2: loss=0.6207, acc=0.8608, CE=0.4079, KL=1.1174\n"
          ]
        },
        {
          "output_type": "stream",
          "name": "stderr",
          "text": [
            "\n"
          ]
        }
      ]
    },
    {
      "cell_type": "code",
      "source": [
        "#@title Save student model to onnx\n",
        "save_to_onnx(student, \"student.onnx\")"
      ],
      "metadata": {
        "colab": {
          "base_uri": "https://localhost:8080/"
        },
        "cellView": "form",
        "id": "Ym1cMNiEp9eO",
        "outputId": "6e162078-69d9-4329-f48b-ccdde5b82c2a"
      },
      "execution_count": null,
      "outputs": [
        {
          "output_type": "stream",
          "name": "stderr",
          "text": [
            "/tmp/ipython-input-2-68059806.py:102: DeprecationWarning: You are using the legacy TorchScript-based ONNX export. Starting in PyTorch 2.9, the new torch.export-based ONNX exporter will be the default. To switch now, set dynamo=True in torch.onnx.export. This new exporter supports features like exporting LLMs with DynamicCache. We encourage you to try it and share feedback to help improve the experience. Learn more about the new export logic: https://pytorch.org/docs/stable/onnx_dynamo.html. For exporting control flow: https://pytorch.org/tutorials/beginner/onnx/export_control_flow_model_to_onnx_tutorial.html.\n",
            "  torch.onnx.export(\n"
          ]
        }
      ]
    },
    {
      "cell_type": "code",
      "source": [
        "#@title Load student model from onnx\n",
        "\n",
        "import onnx\n",
        "import onnxruntime as ort\n",
        "\n",
        "ort_session = ort.InferenceSession(\"student.onnx\")"
      ],
      "metadata": {
        "id": "-cWX-fslF_HC"
      },
      "execution_count": null,
      "outputs": []
    },
    {
      "cell_type": "code",
      "source": [
        "#@title Quality\n",
        "y_pred_tensor = get_conf_mat_onnx(ort_session)\n",
        "confmat = ConfusionMatrix( task='multiclass', num_classes=len(class_names))\n",
        "confmat_tensor = confmat(preds=y_pred_tensor,\n",
        "                        target=test_data.targets)\n",
        "draw_conf_tensor(confmat_tensor)\n",
        "print_metrics(class_names, y_pred_tensor)"
      ],
      "metadata": {
        "cellView": "form",
        "id": "Iwq_VwdUGLDY",
        "outputId": "2c4d9b16-af47-4e4f-8255-6a44498d5931",
        "colab": {
          "base_uri": "https://localhost:8080/",
          "height": 633
        }
      },
      "execution_count": null,
      "outputs": [
        {
          "output_type": "display_data",
          "data": {
            "text/plain": [
              "<Figure size 800x600 with 2 Axes>"
            ],
            "image/png": "[encoded data removed]"
          },
          "metadata": {}
        },
        {
          "output_type": "stream",
          "name": "stdout",
          "text": [
            "Accuracy:  0.8142\n",
            "Precision: 0.8523\n",
            "Recall:    0.8142\n",
            "F1-score:  0.8211\n"
          ]
        }
      ]
    },
    {
      "cell_type": "code",
      "source": [
        "#@title Train (very slow, better load pretrained)\n",
        "\n",
        "\n",
        "student1 = MLPStudent().to(device)\n",
        "train_model(model=student1,\n",
        "            epochs=3,\n",
        "            train_dataloader=train_dataloader,\n",
        "            test_dataloader=test_dataloader,\n",
        "            loss_fn=loss_fn,\n",
        "            optimizer=optimizer,\n",
        "            accuracy_fn=accuracy_fn,\n",
        "            device=device)\n"
      ],
      "metadata": {
        "id": "k5WhEbD-gszF",
        "outputId": "9573ded8-5fba-425b-a466-12f15b997cc2",
        "colab": {
          "base_uri": "https://localhost:8080/",
          "height": 539
        }
      },
      "execution_count": null,
      "outputs": [
        {
          "output_type": "stream",
          "name": "stderr",
          "text": [
            "100%|██████████| 3/3 [08:55<00:00, 178.40s/it]\n"
          ]
        },
        {
          "output_type": "stream",
          "name": "stdout",
          "text": [
            "\n",
            "Train time on cuda: 535.404 seconds\n"
          ]
        },
        {
          "output_type": "display_data",
          "data": {
            "text/plain": [
              "<Figure size 1200x500 with 2 Axes>"
            ],
            "image/png": "[encoded data removed]"
          },
          "metadata": {}
        }
      ]
    }
  ]
}